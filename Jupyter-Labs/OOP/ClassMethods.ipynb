{
 "cells": [
  {
   "cell_type": "code",
   "execution_count": 4,
   "id": "protected-roller",
   "metadata": {},
   "outputs": [
    {
     "ename": "SyntaxError",
     "evalue": "invalid syntax (<ipython-input-4-8c9c6378f79a>, line 19)",
     "output_type": "error",
     "traceback": [
      "\u001b[1;36m  File \u001b[1;32m\"<ipython-input-4-8c9c6378f79a>\"\u001b[1;36m, line \u001b[1;32m19\u001b[0m\n\u001b[1;33m    def\u001b[0m\n\u001b[1;37m         ^\u001b[0m\n\u001b[1;31mSyntaxError\u001b[0m\u001b[1;31m:\u001b[0m invalid syntax\n"
     ]
    }
   ],
   "source": [
    "class Human:\n",
    "    population = 1\n",
    "    \n",
    "    \n",
    "    def __init__(self, name, age, salary):\n",
    "        self.name = name \n",
    "        self.age = age\n",
    "        self.salary = salary \n",
    "        Human.population += 1\n",
    "    \n",
    "    # python repr returns a string that holds printable representation of an object.\n",
    "    def __repr__(self):\n",
    "        return f' Hello {self.name}'\n",
    "    \n",
    "    \n",
    "    def getName(man):\n",
    "        return f'My name is P{man.name}'\n",
    "    \n",
    "    def  "
   ]
  },
  {
   "cell_type": "code",
   "execution_count": null,
   "id": "thick-canadian",
   "metadata": {},
   "outputs": [],
   "source": []
  }
 ],
 "metadata": {
  "kernelspec": {
   "display_name": "Python 3",
   "language": "python",
   "name": "python3"
  },
  "language_info": {
   "codemirror_mode": {
    "name": "ipython",
    "version": 3
   },
   "file_extension": ".py",
   "mimetype": "text/x-python",
   "name": "python",
   "nbconvert_exporter": "python",
   "pygments_lexer": "ipython3",
   "version": "3.9.1"
  }
 },
 "nbformat": 4,
 "nbformat_minor": 5
}
