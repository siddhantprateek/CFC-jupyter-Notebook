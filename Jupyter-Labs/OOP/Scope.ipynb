{
 "cells": [
  {
   "cell_type": "code",
   "execution_count": 2,
   "id": "substantial-jungle",
   "metadata": {},
   "outputs": [
    {
     "name": "stdout",
     "output_type": "stream",
     "text": [
      "20\n"
     ]
    }
   ],
   "source": [
    "a = 20\n",
    "\n",
    "def F():\n",
    "    print(a)\n",
    "\n",
    "F()"
   ]
  },
  {
   "cell_type": "code",
   "execution_count": 3,
   "id": "outside-cover",
   "metadata": {},
   "outputs": [
    {
     "data": {
      "text/plain": [
       "{'__name__': '__main__',\n",
       " '__doc__': 'Automatically created module for IPython interactive environment',\n",
       " '__package__': None,\n",
       " '__loader__': None,\n",
       " '__spec__': None,\n",
       " '__builtin__': <module 'builtins' (built-in)>,\n",
       " '__builtins__': <module 'builtins' (built-in)>,\n",
       " '_ih': ['', 'a = 20', 'a = 20\\n\\ndef F():\\n    print(a)\\n\\nF()', 'globals()'],\n",
       " '_oh': {},\n",
       " '_dh': ['D:\\\\code0X\\\\Jupyter-Labs\\\\OOP'],\n",
       " 'In': ['', 'a = 20', 'a = 20\\n\\ndef F():\\n    print(a)\\n\\nF()', 'globals()'],\n",
       " 'Out': {},\n",
       " 'get_ipython': <bound method InteractiveShell.get_ipython of <ipykernel.zmqshell.ZMQInteractiveShell object at 0x0000022684C52BB0>>,\n",
       " 'exit': <IPython.core.autocall.ZMQExitAutocall at 0x22684c298e0>,\n",
       " 'quit': <IPython.core.autocall.ZMQExitAutocall at 0x22684c298e0>,\n",
       " '_': '',\n",
       " '__': '',\n",
       " '___': '',\n",
       " '_i': 'a = 20\\n\\ndef F():\\n    print(a)\\n\\nF()',\n",
       " '_ii': 'a = 20',\n",
       " '_iii': '',\n",
       " '_i1': 'a = 20',\n",
       " 'a': 20,\n",
       " '_i2': 'a = 20\\n\\ndef F():\\n    print(a)\\n\\nF()',\n",
       " 'F': <function __main__.F()>,\n",
       " '_i3': 'globals()'}"
      ]
     },
     "execution_count": 3,
     "metadata": {},
     "output_type": "execute_result"
    }
   ],
   "source": [
    "globals()"
   ]
  },
  {
   "cell_type": "raw",
   "id": "sophisticated-remains",
   "metadata": {},
   "source": [
    "b = 45\n",
    "\n",
    "# error\n",
    "# local variable 'b' referenced before assignment\n",
    "\n",
    "def A():\n",
    "    b += 10\n",
    "    print(b)\n",
    "    \n",
    "\n",
    "A()"
   ]
  },
  {
   "cell_type": "code",
   "execution_count": 5,
   "id": "integral-judges",
   "metadata": {},
   "outputs": [
    {
     "name": "stdout",
     "output_type": "stream",
     "text": [
      "80\n"
     ]
    }
   ],
   "source": [
    "a = 78\n",
    "\n",
    "def fun():\n",
    "    global a\n",
    "    a += 2\n",
    "    print(a)\n",
    "    \n",
    "fun()\n"
   ]
  },
  {
   "cell_type": "code",
   "execution_count": 12,
   "id": "partial-purchase",
   "metadata": {},
   "outputs": [
    {
     "name": "stdout",
     "output_type": "stream",
     "text": [
      "256\n",
      "20\n",
      "45\n",
      "356\n"
     ]
    }
   ],
   "source": [
    "x = 256\n",
    "\n",
    "def A():\n",
    "    x = 20\n",
    "    \n",
    "    def B():\n",
    "        x = 45\n",
    "        \n",
    "        def C():\n",
    "            global x\n",
    "            x += 100\n",
    "            print(x)\n",
    "        \n",
    "        print(x)\n",
    "        C()\n",
    "    print(x)\n",
    "    B()\n",
    "print(x)\n",
    "A()\n",
    "    "
   ]
  },
  {
   "cell_type": "code",
   "execution_count": 22,
   "id": "vital-hawaii",
   "metadata": {},
   "outputs": [
    {
     "name": "stdout",
     "output_type": "stream",
     "text": [
      "256\n",
      "before B() 20\n",
      "Before C() 45\n",
      "inside C() 145\n",
      "after C() 145\n",
      "after B() 20\n"
     ]
    }
   ],
   "source": [
    "x = 256\n",
    "\n",
    "def A():\n",
    "    x = 20\n",
    "    \n",
    "    def B():\n",
    "        x = 45\n",
    "        \n",
    "        def C():\n",
    "            nonlocal x # will access right outside its scope \n",
    "            x += 100\n",
    "            print(f'inside C() {x}')\n",
    "        \n",
    "        print(f'Before C() {x}')\n",
    "        C()\n",
    "        print(f\"after C() {x}\")\n",
    "    \n",
    "    print(f'before B() {x}')\n",
    "    B()\n",
    "    print(f\"after B() {x}\")\n",
    "\n",
    "print(x)\n",
    "A()\n",
    "    "
   ]
  },
  {
   "cell_type": "code",
   "execution_count": null,
   "id": "imported-butterfly",
   "metadata": {},
   "outputs": [],
   "source": []
  }
 ],
 "metadata": {
  "kernelspec": {
   "display_name": "Python 3",
   "language": "python",
   "name": "python3"
  },
  "language_info": {
   "codemirror_mode": {
    "name": "ipython",
    "version": 3
   },
   "file_extension": ".py",
   "mimetype": "text/x-python",
   "name": "python",
   "nbconvert_exporter": "python",
   "pygments_lexer": "ipython3",
   "version": "3.9.1"
  }
 },
 "nbformat": 4,
 "nbformat_minor": 5
}
