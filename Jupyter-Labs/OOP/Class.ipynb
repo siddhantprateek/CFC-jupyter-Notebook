{
 "cells": [
  {
   "cell_type": "code",
   "execution_count": 1,
   "id": "emerging-final",
   "metadata": {},
   "outputs": [],
   "source": [
    "class human:\n",
    "    name = \"Name\"\n",
    "    "
   ]
  },
  {
   "cell_type": "code",
   "execution_count": 5,
   "id": "intended-documentary",
   "metadata": {},
   "outputs": [],
   "source": [
    "# ref      obj\n",
    "\n",
    "Siddhant = human()"
   ]
  },
  {
   "cell_type": "code",
   "execution_count": 6,
   "id": "seeing-thousand",
   "metadata": {},
   "outputs": [
    {
     "data": {
      "text/plain": [
       "'Name'"
      ]
     },
     "execution_count": 6,
     "metadata": {},
     "output_type": "execute_result"
    }
   ],
   "source": [
    "Siddhant.name"
   ]
  },
  {
   "cell_type": "code",
   "execution_count": 10,
   "id": "brave-welsh",
   "metadata": {},
   "outputs": [],
   "source": [
    "Siddhant.name = \"Siddhant\" \n",
    "# create a name field in Siddhant CLass"
   ]
  },
  {
   "cell_type": "code",
   "execution_count": 8,
   "id": "fitted-income",
   "metadata": {},
   "outputs": [
    {
     "data": {
      "text/plain": [
       "'Siddhant'"
      ]
     },
     "execution_count": 8,
     "metadata": {},
     "output_type": "execute_result"
    }
   ],
   "source": [
    "Siddhant.name"
   ]
  },
  {
   "cell_type": "code",
   "execution_count": 9,
   "id": "intermediate-visiting",
   "metadata": {},
   "outputs": [
    {
     "data": {
      "text/plain": [
       "'Name'"
      ]
     },
     "execution_count": 9,
     "metadata": {},
     "output_type": "execute_result"
    }
   ],
   "source": [
    "human.name"
   ]
  },
  {
   "cell_type": "code",
   "execution_count": 6,
   "id": "public-castle",
   "metadata": {},
   "outputs": [],
   "source": [
    "class Human:\n",
    "    # constructor\n",
    "    # if don't pass any thing it will make default constructor\n",
    "    population = 0\n",
    "    # magic methods aka dunder methods\n",
    "    def __init__(self, name, age, salary):\n",
    "        self.name = name\n",
    "        self.age = age\n",
    "        self.salary = salary\n",
    "        Human.population += 1\n",
    "        \n",
    "    def __repr__(self):\n",
    "        return f'Hello {self.name}'\n",
    "    \n",
    "    def getName(self):\n",
    "        print(f'My name is {self.name}')\n",
    "    # Static Variable are those variable that does not depend on object. \n",
    "    \n",
    "    # decorators (changes the functionality) Wrapper Function\n",
    "    @staticmethod\n",
    "    def getPop(self):\n",
    "        return Human.population\n",
    "    \n",
    "    @classmethod\n",
    "    def changeIdentity(cls):\n",
    "        return cls(\"Batman\", 34, 7000000000)"
   ]
  },
  {
   "cell_type": "code",
   "execution_count": 7,
   "id": "automatic-footage",
   "metadata": {},
   "outputs": [],
   "source": [
    "#  S is reference variable\n",
    "# in place of self --> S is taken we not need pass object as argument it takes it by default\n",
    "S = Human(\"Siddhant\", 20, 8794651)"
   ]
  },
  {
   "cell_type": "code",
   "execution_count": 8,
   "id": "modified-blond",
   "metadata": {},
   "outputs": [
    {
     "name": "stdout",
     "output_type": "stream",
     "text": [
      "Hello Siddhant\n"
     ]
    }
   ],
   "source": [
    "print(S)"
   ]
  },
  {
   "cell_type": "code",
   "execution_count": 9,
   "id": "optical-ghost",
   "metadata": {},
   "outputs": [
    {
     "data": {
      "text/plain": [
       "'Hello Siddhant'"
      ]
     },
     "execution_count": 9,
     "metadata": {},
     "output_type": "execute_result"
    }
   ],
   "source": [
    "Human.__repr__(S)"
   ]
  },
  {
   "cell_type": "code",
   "execution_count": 10,
   "id": "charitable-favor",
   "metadata": {},
   "outputs": [],
   "source": [
    "# key word argument or default argument should always toward the right\n",
    "# non-default argument follows default argument"
   ]
  },
  {
   "cell_type": "code",
   "execution_count": 11,
   "id": "technical-marriage",
   "metadata": {},
   "outputs": [],
   "source": [
    "a = Human(\"A\", 2, 20)"
   ]
  },
  {
   "cell_type": "code",
   "execution_count": 13,
   "id": "resistant-placement",
   "metadata": {},
   "outputs": [
    {
     "data": {
      "text/plain": [
       "(2, 2)"
      ]
     },
     "execution_count": 13,
     "metadata": {},
     "output_type": "execute_result"
    }
   ],
   "source": [
    "S.population, a.population"
   ]
  },
  {
   "cell_type": "code",
   "execution_count": 21,
   "id": "acceptable-vision",
   "metadata": {},
   "outputs": [],
   "source": [
    "S.population += 1 # due this a new attribute is created inside S instead of creating in Human class therefore the \n",
    "# population of S does not increase"
   ]
  },
  {
   "cell_type": "code",
   "execution_count": 22,
   "id": "immediate-stereo",
   "metadata": {},
   "outputs": [
    {
     "data": {
      "text/plain": [
       "(4, 9)"
      ]
     },
     "execution_count": 22,
     "metadata": {},
     "output_type": "execute_result"
    }
   ],
   "source": [
    "S.population, a.population"
   ]
  },
  {
   "cell_type": "code",
   "execution_count": 23,
   "id": "electronic-ratio",
   "metadata": {},
   "outputs": [],
   "source": [
    "c = Human(\"C\", 3, 54)\n",
    "v = Human(\"V\", 4, 45)\n",
    "m = Human(\"M\", 5, 94)\n",
    "n = Human(\"N\", 6, 78)"
   ]
  },
  {
   "cell_type": "code",
   "execution_count": 24,
   "id": "remarkable-observer",
   "metadata": {},
   "outputs": [
    {
     "data": {
      "text/plain": [
       "13"
      ]
     },
     "execution_count": 24,
     "metadata": {},
     "output_type": "execute_result"
    }
   ],
   "source": [
    "Human.population"
   ]
  },
  {
   "cell_type": "code",
   "execution_count": 25,
   "id": "horizontal-display",
   "metadata": {},
   "outputs": [
    {
     "data": {
      "text/plain": [
       "13"
      ]
     },
     "execution_count": 25,
     "metadata": {},
     "output_type": "execute_result"
    }
   ],
   "source": [
    "n.population"
   ]
  },
  {
   "cell_type": "code",
   "execution_count": 26,
   "id": "successful-split",
   "metadata": {},
   "outputs": [
    {
     "data": {
      "text/plain": [
       "4"
      ]
     },
     "execution_count": 26,
     "metadata": {},
     "output_type": "execute_result"
    }
   ],
   "source": [
    "S.population"
   ]
  },
  {
   "cell_type": "code",
   "execution_count": 29,
   "id": "identical-oxford",
   "metadata": {},
   "outputs": [],
   "source": [
    "S = S.changeIdentity()"
   ]
  },
  {
   "cell_type": "code",
   "execution_count": 30,
   "id": "suffering-marijuana",
   "metadata": {},
   "outputs": [
    {
     "data": {
      "text/plain": [
       "'Batman'"
      ]
     },
     "execution_count": 30,
     "metadata": {},
     "output_type": "execute_result"
    }
   ],
   "source": [
    "S.name"
   ]
  },
  {
   "cell_type": "code",
   "execution_count": 31,
   "id": "wired-homeless",
   "metadata": {},
   "outputs": [
    {
     "data": {
      "text/plain": [
       "34"
      ]
     },
     "execution_count": 31,
     "metadata": {},
     "output_type": "execute_result"
    }
   ],
   "source": [
    "S.age"
   ]
  },
  {
   "cell_type": "code",
   "execution_count": 33,
   "id": "accomplished-little",
   "metadata": {},
   "outputs": [],
   "source": [
    "class Boy(Human):\n",
    "    def __init__(self, name, age, salary, single):\n",
    "        super().__init__(name, age, salary)\n",
    "        self.single = single"
   ]
  },
  {
   "cell_type": "code",
   "execution_count": 35,
   "id": "regulation-taylor",
   "metadata": {},
   "outputs": [],
   "source": [
    "S = Boy(\"Sid\", 18, 5665, True)"
   ]
  },
  {
   "cell_type": "code",
   "execution_count": 36,
   "id": "expanded-forestry",
   "metadata": {},
   "outputs": [
    {
     "data": {
      "text/plain": [
       "'Sid'"
      ]
     },
     "execution_count": 36,
     "metadata": {},
     "output_type": "execute_result"
    }
   ],
   "source": [
    "S.name"
   ]
  },
  {
   "cell_type": "code",
   "execution_count": 38,
   "id": "architectural-graduation",
   "metadata": {},
   "outputs": [
    {
     "data": {
      "text/plain": [
       "True"
      ]
     },
     "execution_count": 38,
     "metadata": {},
     "output_type": "execute_result"
    }
   ],
   "source": [
    "isinstance(S, Boy)"
   ]
  },
  {
   "cell_type": "code",
   "execution_count": 39,
   "id": "designed-rating",
   "metadata": {},
   "outputs": [
    {
     "data": {
      "text/plain": [
       "True"
      ]
     },
     "execution_count": 39,
     "metadata": {},
     "output_type": "execute_result"
    }
   ],
   "source": [
    "isinstance(S, Human)"
   ]
  },
  {
   "cell_type": "code",
   "execution_count": 40,
   "id": "attractive-allowance",
   "metadata": {},
   "outputs": [
    {
     "data": {
      "text/plain": [
       "False"
      ]
     },
     "execution_count": 40,
     "metadata": {},
     "output_type": "execute_result"
    }
   ],
   "source": [
    "isinstance(Boy, Human)"
   ]
  },
  {
   "cell_type": "code",
   "execution_count": 41,
   "id": "agreed-neighbor",
   "metadata": {},
   "outputs": [
    {
     "data": {
      "text/plain": [
       "['__abs__',\n",
       " '__add__',\n",
       " '__and__',\n",
       " '__bool__',\n",
       " '__ceil__',\n",
       " '__class__',\n",
       " '__delattr__',\n",
       " '__dir__',\n",
       " '__divmod__',\n",
       " '__doc__',\n",
       " '__eq__',\n",
       " '__float__',\n",
       " '__floor__',\n",
       " '__floordiv__',\n",
       " '__format__',\n",
       " '__ge__',\n",
       " '__getattribute__',\n",
       " '__getnewargs__',\n",
       " '__gt__',\n",
       " '__hash__',\n",
       " '__index__',\n",
       " '__init__',\n",
       " '__init_subclass__',\n",
       " '__int__',\n",
       " '__invert__',\n",
       " '__le__',\n",
       " '__lshift__',\n",
       " '__lt__',\n",
       " '__mod__',\n",
       " '__mul__',\n",
       " '__ne__',\n",
       " '__neg__',\n",
       " '__new__',\n",
       " '__or__',\n",
       " '__pos__',\n",
       " '__pow__',\n",
       " '__radd__',\n",
       " '__rand__',\n",
       " '__rdivmod__',\n",
       " '__reduce__',\n",
       " '__reduce_ex__',\n",
       " '__repr__',\n",
       " '__rfloordiv__',\n",
       " '__rlshift__',\n",
       " '__rmod__',\n",
       " '__rmul__',\n",
       " '__ror__',\n",
       " '__round__',\n",
       " '__rpow__',\n",
       " '__rrshift__',\n",
       " '__rshift__',\n",
       " '__rsub__',\n",
       " '__rtruediv__',\n",
       " '__rxor__',\n",
       " '__setattr__',\n",
       " '__sizeof__',\n",
       " '__str__',\n",
       " '__sub__',\n",
       " '__subclasshook__',\n",
       " '__truediv__',\n",
       " '__trunc__',\n",
       " '__xor__',\n",
       " 'as_integer_ratio',\n",
       " 'bit_length',\n",
       " 'conjugate',\n",
       " 'denominator',\n",
       " 'from_bytes',\n",
       " 'imag',\n",
       " 'numerator',\n",
       " 'real',\n",
       " 'to_bytes']"
      ]
     },
     "execution_count": 41,
     "metadata": {},
     "output_type": "execute_result"
    }
   ],
   "source": [
    "dir(int)"
   ]
  },
  {
   "cell_type": "code",
   "execution_count": 45,
   "id": "veterinary-final",
   "metadata": {},
   "outputs": [
    {
     "data": {
      "text/plain": [
       "\u001b[1;31mSignature:\u001b[0m \u001b[0misinstance\u001b[0m\u001b[1;33m(\u001b[0m\u001b[0mobj\u001b[0m\u001b[1;33m,\u001b[0m \u001b[0mclass_or_tuple\u001b[0m\u001b[1;33m,\u001b[0m \u001b[1;33m/\u001b[0m\u001b[1;33m)\u001b[0m\u001b[1;33m\u001b[0m\u001b[1;33m\u001b[0m\u001b[0m\n",
       "\u001b[1;31mDocstring:\u001b[0m\n",
       "Return whether an object is an instance of a class or of a subclass thereof.\n",
       "\n",
       "A tuple, as in ``isinstance(x, (A, B, ...))``, may be given as the target to\n",
       "check against. This is equivalent to ``isinstance(x, A) or isinstance(x, B)\n",
       "or ...`` etc.\n",
       "\u001b[1;31mType:\u001b[0m      builtin_function_or_method\n"
      ]
     },
     "metadata": {},
     "output_type": "display_data"
    }
   ],
   "source": [
    "isinstance?"
   ]
  },
  {
   "cell_type": "code",
   "execution_count": 46,
   "id": "devoted-wallet",
   "metadata": {},
   "outputs": [
    {
     "data": {
      "text/plain": [
       "['__add__',\n",
       " '__class__',\n",
       " '__contains__',\n",
       " '__delattr__',\n",
       " '__dir__',\n",
       " '__doc__',\n",
       " '__eq__',\n",
       " '__format__',\n",
       " '__ge__',\n",
       " '__getattribute__',\n",
       " '__getitem__',\n",
       " '__getnewargs__',\n",
       " '__gt__',\n",
       " '__hash__',\n",
       " '__init__',\n",
       " '__init_subclass__',\n",
       " '__iter__',\n",
       " '__le__',\n",
       " '__len__',\n",
       " '__lt__',\n",
       " '__mod__',\n",
       " '__mul__',\n",
       " '__ne__',\n",
       " '__new__',\n",
       " '__reduce__',\n",
       " '__reduce_ex__',\n",
       " '__repr__',\n",
       " '__rmod__',\n",
       " '__rmul__',\n",
       " '__setattr__',\n",
       " '__sizeof__',\n",
       " '__str__',\n",
       " '__subclasshook__',\n",
       " 'capitalize',\n",
       " 'casefold',\n",
       " 'center',\n",
       " 'count',\n",
       " 'encode',\n",
       " 'endswith',\n",
       " 'expandtabs',\n",
       " 'find',\n",
       " 'format',\n",
       " 'format_map',\n",
       " 'index',\n",
       " 'isalnum',\n",
       " 'isalpha',\n",
       " 'isascii',\n",
       " 'isdecimal',\n",
       " 'isdigit',\n",
       " 'isidentifier',\n",
       " 'islower',\n",
       " 'isnumeric',\n",
       " 'isprintable',\n",
       " 'isspace',\n",
       " 'istitle',\n",
       " 'isupper',\n",
       " 'join',\n",
       " 'ljust',\n",
       " 'lower',\n",
       " 'lstrip',\n",
       " 'maketrans',\n",
       " 'partition',\n",
       " 'removeprefix',\n",
       " 'removesuffix',\n",
       " 'replace',\n",
       " 'rfind',\n",
       " 'rindex',\n",
       " 'rjust',\n",
       " 'rpartition',\n",
       " 'rsplit',\n",
       " 'rstrip',\n",
       " 'split',\n",
       " 'splitlines',\n",
       " 'startswith',\n",
       " 'strip',\n",
       " 'swapcase',\n",
       " 'title',\n",
       " 'translate',\n",
       " 'upper',\n",
       " 'zfill']"
      ]
     },
     "execution_count": 46,
     "metadata": {},
     "output_type": "execute_result"
    }
   ],
   "source": [
    "dir(str)"
   ]
  },
  {
   "cell_type": "code",
   "execution_count": 50,
   "id": "detailed-connectivity",
   "metadata": {},
   "outputs": [],
   "source": [
    "a = \"siddhant\""
   ]
  },
  {
   "cell_type": "code",
   "execution_count": 52,
   "id": "handled-organic",
   "metadata": {},
   "outputs": [
    {
     "data": {
      "text/plain": [
       "3"
      ]
     },
     "execution_count": 52,
     "metadata": {},
     "output_type": "execute_result"
    }
   ],
   "source": [
    "a.rfind(\"d\")"
   ]
  },
  {
   "cell_type": "code",
   "execution_count": null,
   "id": "english-router",
   "metadata": {},
   "outputs": [],
   "source": []
  }
 ],
 "metadata": {
  "kernelspec": {
   "display_name": "Python 3",
   "language": "python",
   "name": "python3"
  },
  "language_info": {
   "codemirror_mode": {
    "name": "ipython",
    "version": 3
   },
   "file_extension": ".py",
   "mimetype": "text/x-python",
   "name": "python",
   "nbconvert_exporter": "python",
   "pygments_lexer": "ipython3",
   "version": "3.9.1"
  }
 },
 "nbformat": 4,
 "nbformat_minor": 5
}
