{
 "cells": [
  {
   "cell_type": "code",
   "execution_count": 1,
   "id": "secret-principle",
   "metadata": {},
   "outputs": [],
   "source": [
    "# polymorphism"
   ]
  },
  {
   "cell_type": "code",
   "execution_count": 5,
   "id": "motivated-evans",
   "metadata": {},
   "outputs": [],
   "source": [
    "# funtion overloading: during compile Time, static method dispatch \n",
    "# not in python\n",
    "\n",
    "class A:\n",
    "    \n",
    "    def fun(self):\n",
    "        print(f'hey') # the body was funtions object\n",
    "        \n",
    "    # so when you re-assign it     \n",
    "    def fun(self, name):\n",
    "        print(f'Hi {name}') # object of fun\n",
    "        \n",
    "       "
   ]
  },
  {
   "cell_type": "code",
   "execution_count": 6,
   "id": "trained-emphasis",
   "metadata": {},
   "outputs": [],
   "source": [
    "a = A()"
   ]
  },
  {
   "cell_type": "code",
   "execution_count": 9,
   "id": "irish-sphere",
   "metadata": {},
   "outputs": [
    {
     "name": "stdout",
     "output_type": "stream",
     "text": [
      "Hi name\n"
     ]
    }
   ],
   "source": [
    "a.fun(\"name\")"
   ]
  },
  {
   "cell_type": "code",
   "execution_count": 51,
   "id": "forty-plane",
   "metadata": {},
   "outputs": [],
   "source": [
    "# function overiding: runtime, dynamic method dispactch, run-time polymorphism\n",
    "# if your child class inherit from parent class \n",
    "# \n",
    "\n",
    "class B:\n",
    "    def greet(self):\n",
    "        print(\"Calling B\")\n",
    "        \n",
    "class C(B):\n",
    "    \n",
    "    # the uppen method greet was overrided by greet in C class\n",
    "    def greet(self):\n",
    "#         super().greet()\n",
    "        print(\"calling C\")\n",
    "        "
   ]
  },
  {
   "cell_type": "code",
   "execution_count": 52,
   "id": "demographic-rating",
   "metadata": {},
   "outputs": [],
   "source": [
    "c = C()"
   ]
  },
  {
   "cell_type": "code",
   "execution_count": 53,
   "id": "metropolitan-heaven",
   "metadata": {},
   "outputs": [
    {
     "name": "stdout",
     "output_type": "stream",
     "text": [
      "calling C\n"
     ]
    }
   ],
   "source": [
    "c.greet()"
   ]
  },
  {
   "cell_type": "code",
   "execution_count": 50,
   "id": "marine-afghanistan",
   "metadata": {},
   "outputs": [
    {
     "data": {
      "text/plain": [
       "[__main__.C, __main__.B, object]"
      ]
     },
     "execution_count": 50,
     "metadata": {},
     "output_type": "execute_result"
    }
   ],
   "source": [
    "C.mro()"
   ]
  },
  {
   "cell_type": "code",
   "execution_count": 59,
   "id": "loaded-desperate",
   "metadata": {},
   "outputs": [],
   "source": [
    "a = [1, 2, 3] "
   ]
  },
  {
   "cell_type": "code",
   "execution_count": 60,
   "id": "secure-highland",
   "metadata": {},
   "outputs": [],
   "source": [
    "a.append(a)"
   ]
  },
  {
   "cell_type": "code",
   "execution_count": 61,
   "id": "norwegian-tonight",
   "metadata": {},
   "outputs": [
    {
     "data": {
      "text/plain": [
       "[1, 2, 3, [...]]"
      ]
     },
     "execution_count": 61,
     "metadata": {},
     "output_type": "execute_result"
    }
   ],
   "source": [
    "a"
   ]
  },
  {
   "cell_type": "code",
   "execution_count": 62,
   "id": "cleared-disease",
   "metadata": {},
   "outputs": [],
   "source": [
    "# what is [...] , this is self looped. it will point to \"a\" which has pointer of \"a\" , again it will point 'a' which has pointer of 'a' itself."
   ]
  },
  {
   "cell_type": "code",
   "execution_count": 70,
   "id": "hollow-concentration",
   "metadata": {},
   "outputs": [
    {
     "data": {
      "text/plain": [
       "[1, 2, 3, [...]]"
      ]
     },
     "execution_count": 70,
     "metadata": {},
     "output_type": "execute_result"
    }
   ],
   "source": [
    "# when we are appending it is not creating a new list it is pointing to \"a\" itself\n",
    "a[3][3][3][3]"
   ]
  },
  {
   "cell_type": "code",
   "execution_count": 71,
   "id": "baking-scholarship",
   "metadata": {},
   "outputs": [],
   "source": [
    "# in  python pass by referece is not there, but instead it has pass by object value."
   ]
  },
  {
   "cell_type": "code",
   "execution_count": 75,
   "id": "adaptive-cheat",
   "metadata": {},
   "outputs": [],
   "source": [
    "def fun(arr):\n",
    "    arr[0] = 100\n",
    "    "
   ]
  },
  {
   "cell_type": "code",
   "execution_count": 76,
   "id": "combined-pointer",
   "metadata": {},
   "outputs": [],
   "source": [
    "fun(a) # we must have thought that reference have gone through the fun() fxn but instead reference copy is passed. \n",
    "# change is main object, object reference copy is passed."
   ]
  },
  {
   "cell_type": "code",
   "execution_count": 77,
   "id": "advisory-hughes",
   "metadata": {},
   "outputs": [
    {
     "data": {
      "text/plain": [
       "[100, 2, 3, [...]]"
      ]
     },
     "execution_count": 77,
     "metadata": {},
     "output_type": "execute_result"
    }
   ],
   "source": [
    "a"
   ]
  },
  {
   "cell_type": "code",
   "execution_count": 79,
   "id": "iraqi-debut",
   "metadata": {},
   "outputs": [],
   "source": [
    "class Human:\n",
    "    # python has automatic garbage collection.\n",
    "    # it is called automatically, no need to do manually\n",
    "    def __init__(self):\n",
    "        print(\"cons\")\n",
    "    \n",
    "    def __del__(self):\n",
    "        print(\"del\")"
   ]
  },
  {
   "cell_type": "code",
   "execution_count": 80,
   "id": "close-local",
   "metadata": {},
   "outputs": [
    {
     "name": "stdout",
     "output_type": "stream",
     "text": [
      "cons\n"
     ]
    }
   ],
   "source": [
    "man = Human()"
   ]
  },
  {
   "cell_type": "code",
   "execution_count": 81,
   "id": "severe-cannon",
   "metadata": {},
   "outputs": [
    {
     "name": "stdout",
     "output_type": "stream",
     "text": [
      "del\n"
     ]
    }
   ],
   "source": [
    "del man"
   ]
  },
  {
   "cell_type": "code",
   "execution_count": 82,
   "id": "boolean-casting",
   "metadata": {},
   "outputs": [
    {
     "ename": "NameError",
     "evalue": "name 'man' is not defined",
     "output_type": "error",
     "traceback": [
      "\u001b[1;31m---------------------------------------------------------------------------\u001b[0m",
      "\u001b[1;31mNameError\u001b[0m                                 Traceback (most recent call last)",
      "\u001b[1;32m<ipython-input-82-fe930f1cc9df>\u001b[0m in \u001b[0;36m<module>\u001b[1;34m\u001b[0m\n\u001b[1;32m----> 1\u001b[1;33m \u001b[0mman\u001b[0m\u001b[1;33m\u001b[0m\u001b[1;33m\u001b[0m\u001b[0m\n\u001b[0m",
      "\u001b[1;31mNameError\u001b[0m: name 'man' is not defined"
     ]
    }
   ],
   "source": [
    "man"
   ]
  },
  {
   "cell_type": "code",
   "execution_count": 93,
   "id": "willing-electricity",
   "metadata": {},
   "outputs": [
    {
     "name": "stdout",
     "output_type": "stream",
     "text": [
      "cons\n"
     ]
    }
   ],
   "source": [
    "wom = Human() "
   ]
  },
  {
   "cell_type": "code",
   "execution_count": 94,
   "id": "ranging-transparency",
   "metadata": {},
   "outputs": [
    {
     "data": {
      "text/plain": [
       "<__main__.Human at 0x137d86e5430>"
      ]
     },
     "execution_count": 94,
     "metadata": {},
     "output_type": "execute_result"
    }
   ],
   "source": [
    "wom  # so when we write wom in this cell it held by underscore '_' "
   ]
  },
  {
   "cell_type": "code",
   "execution_count": 95,
   "id": "located-ministry",
   "metadata": {},
   "outputs": [],
   "source": [
    "del wom"
   ]
  },
  {
   "cell_type": "code",
   "execution_count": 86,
   "id": "acquired-component",
   "metadata": {},
   "outputs": [],
   "source": [
    "# why it did not get del as output"
   ]
  },
  {
   "cell_type": "code",
   "execution_count": null,
   "id": "advanced-brazil",
   "metadata": {},
   "outputs": [],
   "source": []
  },
  {
   "cell_type": "code",
   "execution_count": 96,
   "id": "informative-cargo",
   "metadata": {},
   "outputs": [
    {
     "data": {
      "text/plain": [
       "\u001b[1;31mSignature:\u001b[0m \u001b[0mid\u001b[0m\u001b[1;33m(\u001b[0m\u001b[0mobj\u001b[0m\u001b[1;33m,\u001b[0m \u001b[1;33m/\u001b[0m\u001b[1;33m)\u001b[0m\u001b[1;33m\u001b[0m\u001b[1;33m\u001b[0m\u001b[0m\n",
       "\u001b[1;31mDocstring:\u001b[0m\n",
       "Return the identity of an object.\n",
       "\n",
       "This is guaranteed to be unique among simultaneously existing objects.\n",
       "(CPython uses the object's memory address.)\n",
       "\u001b[1;31mType:\u001b[0m      builtin_function_or_method\n"
      ]
     },
     "metadata": {},
     "output_type": "display_data"
    }
   ],
   "source": [
    "id? # chect whether it is the same object or different object."
   ]
  },
  {
   "cell_type": "code",
   "execution_count": 97,
   "id": "threatened-belfast",
   "metadata": {},
   "outputs": [
    {
     "name": "stdout",
     "output_type": "stream",
     "text": [
      "cons\n",
      "cons\n",
      "del\n",
      "del\n",
      "False\n"
     ]
    }
   ],
   "source": [
    "print(Human() == Human()) # twp different instances cannot be equal # both are existing at once # where in this it comes out of scope it has nothing to compare. FALSE\n",
    "\n",
    "\n",
    "# This is guaranteed to be unique among simultaneously existing objects.\n",
    "# if objects are existing at same time then its id  will be different "
   ]
  },
  {
   "cell_type": "code",
   "execution_count": 99,
   "id": "flush-oriental",
   "metadata": {},
   "outputs": [],
   "source": [
    "# goes like this:\n",
    "# it calls the constructor of Human then after that again it calls the constructor of human\n",
    "# then the obj of Human deleted and again it is del after comparing after it comes out of scope.\n",
    "# then return False\n"
   ]
  },
  {
   "cell_type": "code",
   "execution_count": 104,
   "id": "julian-adrian",
   "metadata": {},
   "outputs": [
    {
     "name": "stdout",
     "output_type": "stream",
     "text": [
      "cons\n",
      "del\n",
      "cons\n",
      "del\n",
      "True\n"
     ]
    }
   ],
   "source": [
    "print(id(Human()) == id(Human())) # same memory is allocated to both # by are not existing at once # it came true because it got the id of human TRUE\n",
    "# here Objects are not existing at same time."
   ]
  },
  {
   "cell_type": "code",
   "execution_count": 102,
   "id": "valued-sense",
   "metadata": {},
   "outputs": [
    {
     "name": "stdout",
     "output_type": "stream",
     "text": [
      "cons\n",
      "del\n"
     ]
    },
    {
     "data": {
      "text/plain": [
       "1339365937648"
      ]
     },
     "execution_count": 102,
     "metadata": {},
     "output_type": "execute_result"
    }
   ],
   "source": [
    "id(Human())"
   ]
  },
  {
   "cell_type": "code",
   "execution_count": 103,
   "id": "american-coordinate",
   "metadata": {},
   "outputs": [
    {
     "name": "stdout",
     "output_type": "stream",
     "text": [
      "cons\n",
      "del\n",
      "cons\n",
      "del\n",
      "False\n"
     ]
    }
   ],
   "source": [
    "print(id(Human()) is id(Human())) # \"is\" is checking whether it is pointing to same object or not. so in this case is pointing to different object"
   ]
  },
  {
   "cell_type": "code",
   "execution_count": null,
   "id": "grave-guarantee",
   "metadata": {},
   "outputs": [],
   "source": []
  },
  {
   "cell_type": "code",
   "execution_count": 109,
   "id": "bacterial-history",
   "metadata": {},
   "outputs": [],
   "source": [
    "class Demo:\n",
    "    def __init__(self):\n",
    "        print('cons')\n",
    "    \n",
    "    def __call__(self):\n",
    "        print(\"call\")"
   ]
  },
  {
   "cell_type": "code",
   "execution_count": 110,
   "id": "regulation-youth",
   "metadata": {},
   "outputs": [
    {
     "name": "stdout",
     "output_type": "stream",
     "text": [
      "cons\n"
     ]
    }
   ],
   "source": [
    "a = Demo()"
   ]
  },
  {
   "cell_type": "code",
   "execution_count": 111,
   "id": "amazing-institution",
   "metadata": {},
   "outputs": [
    {
     "name": "stdout",
     "output_type": "stream",
     "text": [
      "call\n"
     ]
    }
   ],
   "source": [
    "a()"
   ]
  },
  {
   "cell_type": "code",
   "execution_count": null,
   "id": "white-nirvana",
   "metadata": {},
   "outputs": [],
   "source": []
  },
  {
   "cell_type": "code",
   "execution_count": 117,
   "id": "characteristic-plaintiff",
   "metadata": {},
   "outputs": [],
   "source": [
    "class Greeting:\n",
    "    p = 0\n",
    "    \n",
    "    def __init__(self, message):\n",
    "        self.message = message\n",
    "        self.p = 10\n",
    "        \n",
    "    # on changes the variable that is present inside its body    \n",
    "    def __call__(self, message):\n",
    "        self.message = message\n",
    "        \n",
    "    def greet(self):\n",
    "        print(self.message)"
   ]
  },
  {
   "cell_type": "code",
   "execution_count": 118,
   "id": "defensive-spectacular",
   "metadata": {},
   "outputs": [],
   "source": [
    "ob = Greeting(\"Hello\")"
   ]
  },
  {
   "cell_type": "code",
   "execution_count": 119,
   "id": "hairy-chess",
   "metadata": {},
   "outputs": [
    {
     "name": "stdout",
     "output_type": "stream",
     "text": [
      "Hello\n"
     ]
    }
   ],
   "source": [
    "ob.greet()"
   ]
  },
  {
   "cell_type": "code",
   "execution_count": 120,
   "id": "negative-minimum",
   "metadata": {},
   "outputs": [
    {
     "data": {
      "text/plain": [
       "10"
      ]
     },
     "execution_count": 120,
     "metadata": {},
     "output_type": "execute_result"
    }
   ],
   "source": [
    "ob.p"
   ]
  },
  {
   "cell_type": "code",
   "execution_count": 121,
   "id": "outdoor-salad",
   "metadata": {},
   "outputs": [],
   "source": [
    "# we don't need creat a new object, instead we can change the message. we use __call__"
   ]
  },
  {
   "cell_type": "code",
   "execution_count": 122,
   "id": "million-initial",
   "metadata": {},
   "outputs": [],
   "source": [
    "ob(\"Hey\") # object is redefined"
   ]
  },
  {
   "cell_type": "code",
   "execution_count": 125,
   "id": "engaging-cathedral",
   "metadata": {},
   "outputs": [
    {
     "name": "stdout",
     "output_type": "stream",
     "text": [
      "Hey\n"
     ]
    },
    {
     "data": {
      "text/plain": [
       "10"
      ]
     },
     "execution_count": 125,
     "metadata": {},
     "output_type": "execute_result"
    }
   ],
   "source": [
    "ob.greet()\n",
    "ob.p"
   ]
  },
  {
   "cell_type": "code",
   "execution_count": null,
   "id": "early-offense",
   "metadata": {},
   "outputs": [],
   "source": []
  }
 ],
 "metadata": {
  "kernelspec": {
   "display_name": "Python 3",
   "language": "python",
   "name": "python3"
  },
  "language_info": {
   "codemirror_mode": {
    "name": "ipython",
    "version": 3
   },
   "file_extension": ".py",
   "mimetype": "text/x-python",
   "name": "python",
   "nbconvert_exporter": "python",
   "pygments_lexer": "ipython3",
   "version": "3.9.1"
  }
 },
 "nbformat": 4,
 "nbformat_minor": 5
}
