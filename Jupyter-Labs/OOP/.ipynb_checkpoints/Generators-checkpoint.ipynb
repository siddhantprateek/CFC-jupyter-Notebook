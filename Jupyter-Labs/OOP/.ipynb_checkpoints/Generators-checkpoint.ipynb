{
 "cells": [
  {
   "cell_type": "code",
   "execution_count": 1,
   "id": "loose-notebook",
   "metadata": {},
   "outputs": [],
   "source": [
    "def decorator_func(original_func):\n",
    "    def wrapper_func():\n",
    "        print(\"hello\")\n",
    "        return original_func()\n",
    "    return wrapper_func"
   ]
  },
  {
   "cell_type": "code",
   "execution_count": 2,
   "id": "swiss-being",
   "metadata": {},
   "outputs": [],
   "source": [
    "def greeting():\n",
    "    print(\"siddhant\")"
   ]
  },
  {
   "cell_type": "code",
   "execution_count": 3,
   "id": "mexican-clearance",
   "metadata": {},
   "outputs": [],
   "source": [
    "my_func = decorator_func(greeting)"
   ]
  },
  {
   "cell_type": "code",
   "execution_count": 4,
   "id": "affected-surgeon",
   "metadata": {},
   "outputs": [
    {
     "name": "stdout",
     "output_type": "stream",
     "text": [
      "hello\n",
      "siddhant\n"
     ]
    }
   ],
   "source": [
    "my_func()"
   ]
  },
  {
   "cell_type": "code",
   "execution_count": 5,
   "id": "brazilian-stand",
   "metadata": {},
   "outputs": [],
   "source": [
    "def prefix_decorator(prefix):\n",
    "    def decorator_func(original_func):\n",
    "        def wrapper_func(*args,**kwargs):\n",
    "            print(prefix)\n",
    "            return original_func(*args, **kwargs)\n",
    "        return wrapper_func\n",
    "    return decorator_func"
   ]
  },
  {
   "cell_type": "code",
   "execution_count": 6,
   "id": "tutorial-madonna",
   "metadata": {},
   "outputs": [],
   "source": [
    "@prefix_decorator(\"Guest Mode\")\n",
    "def greeting():\n",
    "    print(\"siddhant\")"
   ]
  },
  {
   "cell_type": "code",
   "execution_count": 7,
   "id": "colored-signature",
   "metadata": {},
   "outputs": [
    {
     "name": "stdout",
     "output_type": "stream",
     "text": [
      "Guest Mode\n",
      "siddhant\n"
     ]
    }
   ],
   "source": [
    "greeting()"
   ]
  },
  {
   "cell_type": "code",
   "execution_count": 23,
   "id": "expensive-storm",
   "metadata": {},
   "outputs": [],
   "source": [
    "def smart_divide(func):\n",
    "    def div(a, b):\n",
    "        print(\"dividing a by b\")\n",
    "        \n",
    "        if b == 0:\n",
    "            print(\"Cannot divide it by ZERO.\")\n",
    "            return\n",
    "        \n",
    "        return func(a, b)\n",
    "    return div"
   ]
  },
  {
   "cell_type": "code",
   "execution_count": 24,
   "id": "heard-indie",
   "metadata": {},
   "outputs": [],
   "source": [
    "\n",
    "@smart_divide\n",
    "def divide(a, b):\n",
    "    print(a/b)"
   ]
  },
  {
   "cell_type": "code",
   "execution_count": 25,
   "id": "altered-patient",
   "metadata": {},
   "outputs": [
    {
     "name": "stdout",
     "output_type": "stream",
     "text": [
      "dividing a by b\n",
      "2.0\n"
     ]
    }
   ],
   "source": [
    "divide(4,2)"
   ]
  },
  {
   "cell_type": "code",
   "execution_count": 19,
   "id": "looking-writing",
   "metadata": {},
   "outputs": [],
   "source": []
  },
  {
   "cell_type": "code",
   "execution_count": 26,
   "id": "certain-texas",
   "metadata": {},
   "outputs": [],
   "source": [
    "def Additive(func):\n",
    "    def add(a, b):\n",
    "        print(\"adding a and b\")\n",
    "        return func(a, b)\n",
    "    return add\n",
    "\n",
    "        "
   ]
  },
  {
   "cell_type": "code",
   "execution_count": 27,
   "id": "federal-credits",
   "metadata": {},
   "outputs": [],
   "source": [
    "@Additive\n",
    "def Addition(a, b):\n",
    "    print(a + b)"
   ]
  },
  {
   "cell_type": "code",
   "execution_count": 28,
   "id": "crazy-router",
   "metadata": {},
   "outputs": [
    {
     "name": "stdout",
     "output_type": "stream",
     "text": [
      "adding a and b\n",
      "9\n"
     ]
    }
   ],
   "source": [
    "Addition(4, 5)"
   ]
  },
  {
   "cell_type": "code",
   "execution_count": 29,
   "id": "pursuant-romantic",
   "metadata": {},
   "outputs": [],
   "source": [
    "m = Additive(Addition)"
   ]
  },
  {
   "cell_type": "code",
   "execution_count": 30,
   "id": "expanded-enzyme",
   "metadata": {},
   "outputs": [
    {
     "name": "stdout",
     "output_type": "stream",
     "text": [
      "adding a and b\n",
      "adding a and b\n",
      "10\n"
     ]
    }
   ],
   "source": [
    "m(4, 6)"
   ]
  },
  {
   "cell_type": "code",
   "execution_count": null,
   "id": "realistic-nightlife",
   "metadata": {},
   "outputs": [],
   "source": []
  }
 ],
 "metadata": {
  "kernelspec": {
   "display_name": "Python 3",
   "language": "python",
   "name": "python3"
  },
  "language_info": {
   "codemirror_mode": {
    "name": "ipython",
    "version": 3
   },
   "file_extension": ".py",
   "mimetype": "text/x-python",
   "name": "python",
   "nbconvert_exporter": "python",
   "pygments_lexer": "ipython3",
   "version": "3.9.1"
  }
 },
 "nbformat": 4,
 "nbformat_minor": 5
}
