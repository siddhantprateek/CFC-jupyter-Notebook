{
 "cells": [
  {
   "cell_type": "code",
   "execution_count": 5,
   "id": "controlled-category",
   "metadata": {},
   "outputs": [],
   "source": [
    "def mazeCount(rows, cols, solution=\"\"):\n",
    "    # 1,1 is position where rat nead to reach\n",
    "    if rows == 1 and cols == 1:\n",
    "        print(solution)\n",
    "        return\n",
    "    bottom, right, diag = 0, 0, 0\n",
    "    if rows > 1:\n",
    "        mazeCount(rows - 1, cols, solution + \"R\")\n",
    "    \n",
    "    if cols > 1:\n",
    "        mazeCount(rows, cols - 1, solution + \"B\")\n",
    "    \n",
    "    if rows > 1 and cols > 1:\n",
    "        mazeCount(rows - 1, cols - 1, solution + \"D\")\n",
    "        \n",
    "    return"
   ]
  },
  {
   "cell_type": "code",
   "execution_count": 6,
   "id": "mobile-interim",
   "metadata": {},
   "outputs": [
    {
     "name": "stdout",
     "output_type": "stream",
     "text": [
      "RRBB\n",
      "RBRB\n",
      "RBBR\n",
      "RBD\n",
      "RDB\n",
      "BRRB\n",
      "BRBR\n",
      "BRD\n",
      "BBRR\n",
      "BDR\n",
      "DRB\n",
      "DBR\n",
      "DD\n"
     ]
    }
   ],
   "source": [
    "mazeCount(3,3)"
   ]
  },
  {
   "cell_type": "markdown",
   "id": "adequate-footwear",
   "metadata": {},
   "source": [
    "More Defined Way"
   ]
  },
  {
   "cell_type": "code",
   "execution_count": 23,
   "id": "nearby-headset",
   "metadata": {},
   "outputs": [],
   "source": [
    "def mazeCountPrint(rows, cols, solution=[]):\n",
    "    # 1,1 is position where rat nead to reach\n",
    "    if rows == 1 and cols == 1:\n",
    "        print(solution)\n",
    "        print(\"\".join(solution))\n",
    "        return\n",
    "#     bottom, right, diag = 0, 0, 0\n",
    "    if rows > 1:\n",
    "        solution.append(\"R\")\n",
    "        mazeCountPrint(rows - 1, cols, solution)\n",
    "        solution.pop()\n",
    "        \n",
    "    if cols > 1:\n",
    "        solution.append(\"B\")\n",
    "        mazeCountPrint(rows, cols - 1, solution)\n",
    "        solution.pop()\n",
    "        \n",
    "    if rows > 1 and cols > 1:\n",
    "        solution.append(\"D\")\n",
    "        mazeCountPrint(rows - 1, cols - 1, solution)\n",
    "        solution.pop()\n",
    "    \n",
    "    return"
   ]
  },
  {
   "cell_type": "code",
   "execution_count": null,
   "id": "chinese-there",
   "metadata": {},
   "outputs": [],
   "source": []
  },
  {
   "cell_type": "code",
   "execution_count": 24,
   "id": "magnetic-canberra",
   "metadata": {},
   "outputs": [
    {
     "name": "stdout",
     "output_type": "stream",
     "text": [
      "['R', 'R', 'B', 'B']\n",
      "RRBB\n",
      "['R', 'B', 'R', 'B']\n",
      "RBRB\n",
      "['R', 'B', 'B', 'R']\n",
      "RBBR\n",
      "['R', 'B', 'D']\n",
      "RBD\n",
      "['R', 'D', 'B']\n",
      "RDB\n",
      "['B', 'R', 'R', 'B']\n",
      "BRRB\n",
      "['B', 'R', 'B', 'R']\n",
      "BRBR\n",
      "['B', 'R', 'D']\n",
      "BRD\n",
      "['B', 'B', 'R', 'R']\n",
      "BBRR\n",
      "['B', 'D', 'R']\n",
      "BDR\n",
      "['D', 'R', 'B']\n",
      "DRB\n",
      "['D', 'B', 'R']\n",
      "DBR\n",
      "['D', 'D']\n",
      "DD\n"
     ]
    }
   ],
   "source": [
    "mazeCountPrint(3,3)"
   ]
  },
  {
   "cell_type": "code",
   "execution_count": null,
   "id": "placed-hepatitis",
   "metadata": {},
   "outputs": [],
   "source": []
  }
 ],
 "metadata": {
  "kernelspec": {
   "display_name": "Python 3",
   "language": "python",
   "name": "python3"
  },
  "language_info": {
   "codemirror_mode": {
    "name": "ipython",
    "version": 3
   },
   "file_extension": ".py",
   "mimetype": "text/x-python",
   "name": "python",
   "nbconvert_exporter": "python",
   "pygments_lexer": "ipython3",
   "version": "3.9.1"
  }
 },
 "nbformat": 4,
 "nbformat_minor": 5
}
