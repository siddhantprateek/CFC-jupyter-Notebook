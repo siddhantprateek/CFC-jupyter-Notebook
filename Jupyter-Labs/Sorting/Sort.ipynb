{
 "cells": [
  {
   "cell_type": "markdown",
   "id": "controlling-rebecca",
   "metadata": {},
   "source": [
    "# Selection Sort"
   ]
  },
  {
   "cell_type": "code",
   "execution_count": 1,
   "id": "alone-complex",
   "metadata": {},
   "outputs": [],
   "source": [
    "def max_in_range(nums, start, end):\n",
    "    max_index = start \n",
    "    for index in range(start, end):\n",
    "        if nums[index] > nums[max_index]:\n",
    "            max_index = index\n",
    "    return max_index\n",
    "\n",
    "def selection_sort(nums):\n",
    "    \n",
    "    for index in range(len(nums) - 1, 0, -1):\n",
    "        max_i = max_in_range(nums, 0, index + 1)\n",
    "        nums[max_i], nums[index] = nums[index], nums[max_i]\n",
    "        \n",
    "        "
   ]
  },
  {
   "cell_type": "code",
   "execution_count": 2,
   "id": "located-interview",
   "metadata": {},
   "outputs": [],
   "source": [
    "import random\n",
    "\n",
    "li = [] \n",
    "\n",
    "for i in range(10):\n",
    "    rand_n = random.randint(1, 20)\n",
    "    if rand_n not in li:\n",
    "        li.append(rand_n)"
   ]
  },
  {
   "cell_type": "code",
   "execution_count": 3,
   "id": "computational-litigation",
   "metadata": {},
   "outputs": [],
   "source": [
    "def bubble_sort(nums):\n",
    "    \n",
    "    for i in range(len(nums) - 1):\n",
    "        for j  in range(len(nums) - i -  1):\n",
    "            if nums[j] > nums[j + 1]:\n",
    "                nums[j], nums[j + 1 ] = nums[j + 1], nums[j]"
   ]
  },
  {
   "cell_type": "code",
   "execution_count": 4,
   "id": "revised-sucking",
   "metadata": {},
   "outputs": [],
   "source": [
    "def insertion_sort(nums):\n",
    "    \n",
    "    for point in range(1, len(nums)):\n",
    "        for position in range(point, 0, -1):\n",
    "            if nums[position] < nums[position-1]:\n",
    "                [nums[position], nums[position-1]] =  [nums[position-1], nums[position]]\n",
    "            else:\n",
    "                break"
   ]
  },
  {
   "cell_type": "code",
   "execution_count": 5,
   "id": "aerial-amendment",
   "metadata": {},
   "outputs": [],
   "source": [
    "def mergeSort(first, second):\n",
    "    \n",
    "    result = []\n",
    "    f, s = 0, 0\n",
    "    \n",
    "    while f < len(first) and s < len(second):\n",
    "        if first[f] < second[s]:\n",
    "            result.append(first[f])\n",
    "            f += 1\n",
    "        else:\n",
    "            result.append(second[s])\n",
    "            s += 1\n",
    "    \n",
    "    while f < len(first): \n",
    "        result.append(first[f])\n",
    "        f += 1\n",
    "    \n",
    "    while s < len(second):\n",
    "        result.append(second[s])\n",
    "        s += 1\n",
    "        \n",
    "    return result"
   ]
  },
  {
   "cell_type": "code",
   "execution_count": 6,
   "id": "renewable-mailing",
   "metadata": {},
   "outputs": [],
   "source": [
    "import random \n",
    "\n",
    "list1 = []\n",
    "for i in range(10):\n",
    "    item = random.randint(1, 100)\n",
    "    if item not in list1:\n",
    "        list1.append(item)\n",
    "        \n",
    "list2 = []\n",
    "for i in range(10):\n",
    "    item = random.randint(1, 100)\n",
    "    if item not in list2:\n",
    "        list2.append(item)"
   ]
  },
  {
   "cell_type": "markdown",
   "id": "brutal-genesis",
   "metadata": {},
   "source": [
    " count Sort"
   ]
  },
  {
   "cell_type": "code",
   "execution_count": 7,
   "id": "preceding-reward",
   "metadata": {},
   "outputs": [],
   "source": [
    "freq_list = [0]*100"
   ]
  },
  {
   "cell_type": "code",
   "execution_count": 10,
   "id": "identical-bradley",
   "metadata": {},
   "outputs": [],
   "source": [
    "\n",
    "nums = []\n",
    "for i in range(30):\n",
    "    item = random.randint(0, 99)\n",
    "    nums.append(item)"
   ]
  },
  {
   "cell_type": "code",
   "execution_count": 11,
   "id": "practical-suicide",
   "metadata": {},
   "outputs": [],
   "source": [
    "# count of no. incresed in respective index of the number\n",
    "for item in nums:\n",
    "    freq_list[item] += 1"
   ]
  },
  {
   "cell_type": "code",
   "execution_count": 12,
   "id": "portable-tower",
   "metadata": {},
   "outputs": [],
   "source": [
    "result = []"
   ]
  },
  {
   "cell_type": "code",
   "execution_count": 13,
   "id": "executed-separate",
   "metadata": {},
   "outputs": [],
   "source": [
    "for index in range(len(freq_list)):\n",
    "    for freq in range(freq_list[index]):\n",
    "        result.append(index)"
   ]
  },
  {
   "cell_type": "code",
   "execution_count": 14,
   "id": "smaller-cycle",
   "metadata": {},
   "outputs": [
    {
     "name": "stdout",
     "output_type": "stream",
     "text": [
      "[9, 14, 20, 20, 21, 31, 34, 37, 37, 39, 41, 42, 45, 46, 46, 49, 50, 52, 52, 53, 57, 61, 66, 69, 70, 73, 76, 82, 86, 88] "
     ]
    }
   ],
   "source": [
    "print(result, end=\" \")"
   ]
  },
  {
   "cell_type": "code",
   "execution_count": 15,
   "id": "textile-inventory",
   "metadata": {},
   "outputs": [
    {
     "name": "stdout",
     "output_type": "stream",
     "text": [
      "[0, 0, 0, 0, 0, 0, 0, 0, 0, 1, 0, 0, 0, 0, 1, 0, 0, 0, 0, 0, 2, 1, 0, 0, 0, 0, 0, 0, 0, 0, 0, 1, 0, 0, 1, 0, 0, 2, 0, 1, 0, 1, 1, 0, 0, 1, 2, 0, 0, 1, 1, 0, 2, 1, 0, 0, 0, 1, 0, 0, 0, 1, 0, 0, 0, 0, 1, 0, 0, 1, 1, 0, 0, 1, 0, 0, 1, 0, 0, 0, 0, 0, 1, 0, 0, 0, 1, 0, 1, 0, 0, 0, 0, 0, 0, 0, 0, 0, 0, 0] "
     ]
    }
   ],
   "source": [
    "print(freq_list, end=\" \")"
   ]
  },
  {
   "cell_type": "code",
   "execution_count": null,
   "id": "aggregate-concord",
   "metadata": {},
   "outputs": [],
   "source": []
  }
 ],
 "metadata": {
  "kernelspec": {
   "display_name": "Python 3",
   "language": "python",
   "name": "python3"
  },
  "language_info": {
   "codemirror_mode": {
    "name": "ipython",
    "version": 3
   },
   "file_extension": ".py",
   "mimetype": "text/x-python",
   "name": "python",
   "nbconvert_exporter": "python",
   "pygments_lexer": "ipython3",
   "version": "3.9.1"
  }
 },
 "nbformat": 4,
 "nbformat_minor": 5
}
