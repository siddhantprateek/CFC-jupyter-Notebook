{
 "cells": [
  {
   "cell_type": "code",
   "execution_count": 1,
   "id": "shaped-custody",
   "metadata": {},
   "outputs": [],
   "source": [
    "a = 10"
   ]
  },
  {
   "cell_type": "code",
   "execution_count": 2,
   "id": "female-fitting",
   "metadata": {},
   "outputs": [],
   "source": [
    "b = 10"
   ]
  },
  {
   "cell_type": "code",
   "execution_count": 3,
   "id": "unavailable-huntington",
   "metadata": {},
   "outputs": [
    {
     "data": {
      "text/plain": [
       "True"
      ]
     },
     "execution_count": 3,
     "metadata": {},
     "output_type": "execute_result"
    }
   ],
   "source": [
    "a is b"
   ]
  },
  {
   "cell_type": "code",
   "execution_count": 4,
   "id": "unnecessary-relative",
   "metadata": {},
   "outputs": [],
   "source": [
    "x = 10"
   ]
  },
  {
   "cell_type": "code",
   "execution_count": 6,
   "id": "bottom-participation",
   "metadata": {},
   "outputs": [],
   "source": [
    "y = x "
   ]
  },
  {
   "cell_type": "code",
   "execution_count": 7,
   "id": "featured-tactics",
   "metadata": {},
   "outputs": [
    {
     "data": {
      "text/plain": [
       "True"
      ]
     },
     "execution_count": 7,
     "metadata": {},
     "output_type": "execute_result"
    }
   ],
   "source": [
    "x is y"
   ]
  },
  {
   "cell_type": "code",
   "execution_count": 8,
   "id": "animated-vehicle",
   "metadata": {},
   "outputs": [
    {
     "data": {
      "text/plain": [
       "True"
      ]
     },
     "execution_count": 8,
     "metadata": {},
     "output_type": "execute_result"
    }
   ],
   "source": [
    "a == b"
   ]
  },
  {
   "cell_type": "code",
   "execution_count": 9,
   "id": "upset-seventh",
   "metadata": {},
   "outputs": [
    {
     "data": {
      "text/plain": [
       "True"
      ]
     },
     "execution_count": 9,
     "metadata": {},
     "output_type": "execute_result"
    }
   ],
   "source": [
    "x == y"
   ]
  },
  {
   "cell_type": "code",
   "execution_count": 10,
   "id": "silent-disney",
   "metadata": {},
   "outputs": [],
   "source": [
    "a = [10 , 20, 30]"
   ]
  },
  {
   "cell_type": "code",
   "execution_count": 11,
   "id": "unavailable-setup",
   "metadata": {},
   "outputs": [
    {
     "data": {
      "text/plain": [
       "False"
      ]
     },
     "execution_count": 11,
     "metadata": {},
     "output_type": "execute_result"
    }
   ],
   "source": [
    "a is b"
   ]
  },
  {
   "cell_type": "code",
   "execution_count": 12,
   "id": "herbal-grave",
   "metadata": {},
   "outputs": [
    {
     "data": {
      "text/plain": [
       "True"
      ]
     },
     "execution_count": 12,
     "metadata": {},
     "output_type": "execute_result"
    }
   ],
   "source": [
    "a[0] is b"
   ]
  },
  {
   "cell_type": "code",
   "execution_count": 13,
   "id": "western-pastor",
   "metadata": {},
   "outputs": [
    {
     "data": {
      "text/plain": [
       "True"
      ]
     },
     "execution_count": 13,
     "metadata": {},
     "output_type": "execute_result"
    }
   ],
   "source": [
    "a[0] == b"
   ]
  },
  {
   "cell_type": "code",
   "execution_count": 14,
   "id": "historical-chancellor",
   "metadata": {},
   "outputs": [],
   "source": [
    "m = \"10\""
   ]
  },
  {
   "cell_type": "code",
   "execution_count": 15,
   "id": "radio-elevation",
   "metadata": {},
   "outputs": [],
   "source": [
    "n = 10"
   ]
  },
  {
   "cell_type": "code",
   "execution_count": 16,
   "id": "median-square",
   "metadata": {},
   "outputs": [
    {
     "data": {
      "text/plain": [
       "False"
      ]
     },
     "execution_count": 16,
     "metadata": {},
     "output_type": "execute_result"
    }
   ],
   "source": [
    "m == n"
   ]
  },
  {
   "cell_type": "code",
   "execution_count": 17,
   "id": "presidential-number",
   "metadata": {},
   "outputs": [
    {
     "data": {
      "text/plain": [
       "False"
      ]
     },
     "execution_count": 17,
     "metadata": {},
     "output_type": "execute_result"
    }
   ],
   "source": [
    "m is n"
   ]
  },
  {
   "cell_type": "code",
   "execution_count": 19,
   "id": "reported-detroit",
   "metadata": {},
   "outputs": [
    {
     "data": {
      "text/plain": [
       "True"
      ]
     },
     "execution_count": 19,
     "metadata": {},
     "output_type": "execute_result"
    }
   ],
   "source": [
    "int(m) is n"
   ]
  },
  {
   "cell_type": "code",
   "execution_count": 20,
   "id": "associate-finnish",
   "metadata": {},
   "outputs": [],
   "source": [
    "q = 10"
   ]
  },
  {
   "cell_type": "code",
   "execution_count": 21,
   "id": "controlling-circumstances",
   "metadata": {},
   "outputs": [],
   "source": [
    "l = q"
   ]
  },
  {
   "cell_type": "code",
   "execution_count": 22,
   "id": "abandoned-russian",
   "metadata": {},
   "outputs": [],
   "source": [
    "c = l"
   ]
  },
  {
   "cell_type": "code",
   "execution_count": 23,
   "id": "moved-breakdown",
   "metadata": {},
   "outputs": [
    {
     "data": {
      "text/plain": [
       "True"
      ]
     },
     "execution_count": 23,
     "metadata": {},
     "output_type": "execute_result"
    }
   ],
   "source": [
    "c is q"
   ]
  },
  {
   "cell_type": "code",
   "execution_count": 24,
   "id": "residential-payment",
   "metadata": {},
   "outputs": [],
   "source": [
    "b = 10"
   ]
  },
  {
   "cell_type": "code",
   "execution_count": 25,
   "id": "beautiful-marks",
   "metadata": {},
   "outputs": [
    {
     "data": {
      "text/plain": [
       "True"
      ]
     },
     "execution_count": 25,
     "metadata": {},
     "output_type": "execute_result"
    }
   ],
   "source": [
    "l is b"
   ]
  },
  {
   "cell_type": "code",
   "execution_count": 26,
   "id": "varying-involvement",
   "metadata": {},
   "outputs": [
    {
     "data": {
      "text/plain": [
       "True"
      ]
     },
     "execution_count": 26,
     "metadata": {},
     "output_type": "execute_result"
    }
   ],
   "source": [
    "b is c"
   ]
  },
  {
   "cell_type": "code",
   "execution_count": null,
   "id": "silent-lightning",
   "metadata": {},
   "outputs": [],
   "source": []
  }
 ],
 "metadata": {
  "kernelspec": {
   "display_name": "Python 3",
   "language": "python",
   "name": "python3"
  },
  "language_info": {
   "codemirror_mode": {
    "name": "ipython",
    "version": 3
   },
   "file_extension": ".py",
   "mimetype": "text/x-python",
   "name": "python",
   "nbconvert_exporter": "python",
   "pygments_lexer": "ipython3",
   "version": "3.9.1"
  }
 },
 "nbformat": 4,
 "nbformat_minor": 5
}
