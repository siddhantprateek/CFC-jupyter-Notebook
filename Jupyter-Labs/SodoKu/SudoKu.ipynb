{
 "cells": [
  {
   "cell_type": "code",
   "execution_count": 3,
   "id": "adequate-capitol",
   "metadata": {},
   "outputs": [],
   "source": [
    "def mazeCount(rows, cols):\n",
    "    \n",
    "    if rows == 1 and cols == 1:\n",
    "        return 1\n",
    "    bottom, right = 0, 0\n",
    "    \n",
    "    if rows > 1:\n",
    "         bottom = mazeCount(rows - 1, cols)\n",
    "    if cols > 1:\n",
    "        right = mazeCount(rows, cols - 1)\n",
    "        \n",
    "    return bottom + right\n",
    "\n"
   ]
  },
  {
   "cell_type": "code",
   "execution_count": 4,
   "id": "southern-village",
   "metadata": {},
   "outputs": [
    {
     "data": {
      "text/plain": [
       "6"
      ]
     },
     "execution_count": 4,
     "metadata": {},
     "output_type": "execute_result"
    }
   ],
   "source": [
    "mazeCount(3, 3)"
   ]
  },
  {
   "cell_type": "code",
   "execution_count": 23,
   "id": "miniature-declaration",
   "metadata": {},
   "outputs": [],
   "source": [
    "# if we want go in diagonally \n",
    "\n",
    "def mazeCountDiagPrint(rows, cols, solution=\"\"):\n",
    "    if rows == 1 and cols == 1:\n",
    "        print(solution)\n",
    "        return\n",
    "    bottom, right, diagonal = 0, 0, 0\n",
    "    if rows > 1 and cols > 1:\n",
    "        diagonal = mazeCountDiagPrint(rows - 1, cols -1, solution + \"D\")\n",
    "        \n",
    "    if rows > 1:\n",
    "        bottom = mazeCountDiagPrint(rows - 1,  cols, solution + \"B\")\n",
    "        \n",
    "    if cols > 1:\n",
    "        right = mazeCountDiagPrint(rows, cols - 1, solution + \"R\")\n",
    "        \n",
    "    return "
   ]
  },
  {
   "cell_type": "code",
   "execution_count": 24,
   "id": "american-dinner",
   "metadata": {},
   "outputs": [
    {
     "name": "stdout",
     "output_type": "stream",
     "text": [
      "DD\n",
      "DBR\n",
      "DRB\n",
      "BDR\n",
      "BBRR\n",
      "BRD\n",
      "BRBR\n",
      "BRRB\n",
      "RDB\n",
      "RBD\n",
      "RBBR\n",
      "RBRB\n",
      "RRBB\n"
     ]
    }
   ],
   "source": [
    "mazeCountDiagPrint(3, 3)"
   ]
  },
  {
   "cell_type": "code",
   "execution_count": null,
   "id": "stopped-miniature",
   "metadata": {},
   "outputs": [],
   "source": []
  },
  {
   "cell_type": "code",
   "execution_count": null,
   "id": "collective-manhattan",
   "metadata": {},
   "outputs": [],
   "source": []
  }
 ],
 "metadata": {
  "kernelspec": {
   "display_name": "Python 3",
   "language": "python",
   "name": "python3"
  },
  "language_info": {
   "codemirror_mode": {
    "name": "ipython",
    "version": 3
   },
   "file_extension": ".py",
   "mimetype": "text/x-python",
   "name": "python",
   "nbconvert_exporter": "python",
   "pygments_lexer": "ipython3",
   "version": "3.9.1"
  }
 },
 "nbformat": 4,
 "nbformat_minor": 5
}
