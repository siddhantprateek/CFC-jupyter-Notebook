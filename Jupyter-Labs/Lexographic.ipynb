{
 "cells": [
  {
   "cell_type": "code",
   "execution_count": 1,
   "id": "conceptual-banner",
   "metadata": {},
   "outputs": [],
   "source": []
  },
  {
   "cell_type": "code",
   "execution_count": 16,
   "id": "nutritional-martin",
   "metadata": {},
   "outputs": [],
   "source": [
    "def freqList(word):\n",
    "    freq_Arr = [0]*26\n",
    "    \n",
    "    for character in word:\n",
    "        index = ord(character) - ord(\"a\")\n",
    "        freq_Arr[index] += 1\n",
    "        \n",
    "    return freq_Arr"
   ]
  },
  {
   "cell_type": "code",
   "execution_count": 13,
   "id": "complex-smell",
   "metadata": {},
   "outputs": [
    {
     "data": {
      "text/plain": [
       "[1, 0, 0, 2, 0, 0, 0, 1, 1, 0, 0, 0, 0, 1, 0, 0, 0, 0, 1, 1, 0, 0, 0, 0, 0, 0]"
      ]
     },
     "execution_count": 13,
     "metadata": {},
     "output_type": "execute_result"
    }
   ],
   "source": [
    "freqList(\"siddhant\")"
   ]
  },
  {
   "cell_type": "code",
   "execution_count": 17,
   "id": "absolute-valley",
   "metadata": {},
   "outputs": [],
   "source": [
    "def lexo(freq, size, proc=\"\", solution=[]):\n",
    "    \n",
    "    \n",
    "    if len(proc) == size:\n",
    "        solution.append(proc)\n",
    "        return\n",
    "    \n",
    "    for index in range(26):\n",
    "        if freq[index] > 0:\n",
    "            freq[index] -= 1\n",
    "            lexo(freq, size, proc + chr(ord(\"a\") + index), solution)\n",
    "            freq[index] += 1 #Backtracking i have to increase it by 1\n",
    "    \n",
    "    return solution\n"
   ]
  },
  {
   "cell_type": "code",
   "execution_count": 18,
   "id": "accepted-trace",
   "metadata": {},
   "outputs": [],
   "source": [
    "word = \"Siddhant\"\n",
    "freq = freqList(word)"
   ]
  },
  {
   "cell_type": "code",
   "execution_count": 19,
   "id": "sustained-newspaper",
   "metadata": {},
   "outputs": [],
   "source": [
    "out = lexo(freq, len(word))"
   ]
  },
  {
   "cell_type": "code",
   "execution_count": 20,
   "id": "laughing-premiere",
   "metadata": {},
   "outputs": [
    {
     "data": {
      "text/plain": [
       "20160"
      ]
     },
     "execution_count": 20,
     "metadata": {},
     "output_type": "execute_result"
    }
   ],
   "source": [
    "len(out)"
   ]
  },
  {
   "cell_type": "code",
   "execution_count": 12,
   "id": "medieval-luther",
   "metadata": {},
   "outputs": [
    {
     "name": "stdin",
     "output_type": "stream",
     "text": [
      " 4 5\n"
     ]
    }
   ],
   "source": [
    "a, b = input().split()"
   ]
  },
  {
   "cell_type": "code",
   "execution_count": null,
   "id": "public-cigarette",
   "metadata": {},
   "outputs": [],
   "source": []
  }
 ],
 "metadata": {
  "kernelspec": {
   "display_name": "Python 3",
   "language": "python",
   "name": "python3"
  },
  "language_info": {
   "codemirror_mode": {
    "name": "ipython",
    "version": 3
   },
   "file_extension": ".py",
   "mimetype": "text/x-python",
   "name": "python",
   "nbconvert_exporter": "python",
   "pygments_lexer": "ipython3",
   "version": "3.9.1"
  }
 },
 "nbformat": 4,
 "nbformat_minor": 5
}
