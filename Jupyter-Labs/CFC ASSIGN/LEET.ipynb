{
 "cells": [
  {
   "cell_type": "code",
   "execution_count": 1,
   "id": "accomplished-riding",
   "metadata": {},
   "outputs": [],
   "source": [
    "first = [10, 11, 12] "
   ]
  },
  {
   "cell_type": "code",
   "execution_count": 2,
   "id": "greenhouse-target",
   "metadata": {},
   "outputs": [],
   "source": [
    "second = [4, 5]"
   ]
  },
  {
   "cell_type": "code",
   "execution_count": 3,
   "id": "sonic-effects",
   "metadata": {},
   "outputs": [],
   "source": [
    "third = first"
   ]
  },
  {
   "cell_type": "code",
   "execution_count": 4,
   "id": "planned-siemens",
   "metadata": {},
   "outputs": [
    {
     "data": {
      "text/plain": [
       "True"
      ]
     },
     "execution_count": 4,
     "metadata": {},
     "output_type": "execute_result"
    }
   ],
   "source": [
    "third is first"
   ]
  },
  {
   "cell_type": "code",
   "execution_count": 5,
   "id": "surgical-contribution",
   "metadata": {},
   "outputs": [],
   "source": [
    "big = [first, second]"
   ]
  },
  {
   "cell_type": "code",
   "execution_count": 7,
   "id": "actual-calgary",
   "metadata": {},
   "outputs": [],
   "source": [
    "first = [1, 5] "
   ]
  },
  {
   "cell_type": "code",
   "execution_count": 8,
   "id": "rental-standing",
   "metadata": {},
   "outputs": [
    {
     "data": {
      "text/plain": [
       "False"
      ]
     },
     "execution_count": 8,
     "metadata": {},
     "output_type": "execute_result"
    }
   ],
   "source": [
    "big[0] is first"
   ]
  },
  {
   "cell_type": "code",
   "execution_count": 9,
   "id": "distinct-section",
   "metadata": {},
   "outputs": [
    {
     "data": {
      "text/plain": [
       "[10, 11, 12]"
      ]
     },
     "execution_count": 9,
     "metadata": {},
     "output_type": "execute_result"
    }
   ],
   "source": [
    "# reference of first will change but won't affect big\n",
    "big[0]"
   ]
  },
  {
   "cell_type": "code",
   "execution_count": 10,
   "id": "musical-acoustic",
   "metadata": {},
   "outputs": [
    {
     "data": {
      "text/plain": [
       "[1, 5]"
      ]
     },
     "execution_count": 10,
     "metadata": {},
     "output_type": "execute_result"
    }
   ],
   "source": [
    "first"
   ]
  },
  {
   "cell_type": "code",
   "execution_count": 1,
   "id": "requested-parade",
   "metadata": {},
   "outputs": [],
   "source": [
    "s = \"Siddhant\""
   ]
  },
  {
   "cell_type": "code",
   "execution_count": 5,
   "id": "ethical-virgin",
   "metadata": {},
   "outputs": [
    {
     "name": "stdout",
     "output_type": "stream",
     "text": [
      "i\n",
      "d\n",
      "d\n",
      "h\n",
      "a\n",
      "n\n",
      "t\n"
     ]
    }
   ],
   "source": [
    "for ch in s[1:]:\n",
    "    print(ch)"
   ]
  },
  {
   "cell_type": "code",
   "execution_count": 46,
   "id": "separate-witch",
   "metadata": {},
   "outputs": [
    {
     "name": "stdout",
     "output_type": "stream",
     "text": [
      "4\n"
     ]
    }
   ],
   "source": [
    "# Can anybody explain me why range is inclusive in this case?\n",
    "class Solution:\n",
    "    def balancedStringSplit(self, s: str) -> int:\n",
    "        LR = 0\n",
    "        right = 0\n",
    "        left = 0\n",
    "        # why range argument is inclusing in this case \n",
    "        for i in range(len(s) - 1):\n",
    "            if s[i] == s[i + 1]:\n",
    "                if s[i] == 'L':\n",
    "                    left += 1\n",
    "                else:\n",
    "                    right += 1\n",
    "            else:\n",
    "                if s[i] == 'L':\n",
    "                    left += 1\n",
    "                else:\n",
    "                    right += 1\n",
    "            if left == right:\n",
    "                LR += 1 \n",
    "        LR += 1 \n",
    "        return print(LR)\n",
    "ret = Solution().balancedStringSplit(\"RLRRLLRLRL\")\n",
    "    \n",
    "# but same thing done on c++ gives the right output\n",
    "class Solution {\n",
    "public:\n",
    "    int balancedStringSplit(string s) {\n",
    "        \n",
    "        int LR = 0, left = 0, right = 0;\n",
    "        \n",
    "        for (int i = 0; i < s.length(); i++)\n",
    "        {   if (s[i] == s[i + 1])\n",
    "                if (s[i] == 'L')\n",
    "                    left ++;\n",
    "                else\n",
    "                    right ++;\n",
    "            else\n",
    "                 if (s[i] == 'L')\n",
    "                    left ++;\n",
    "                else\n",
    "                    right ++;\n",
    "            if (left == right)\n",
    "                LR ++;\n",
    "        }\n",
    "        return (LR);\n",
    "    }\n",
    "};"
   ]
  },
  {
   "cell_type": "code",
   "execution_count": 45,
   "id": "fifth-aside",
   "metadata": {},
   "outputs": [
    {
     "name": "stdout",
     "output_type": "stream",
     "text": [
      "R\n",
      "1\n"
     ]
    }
   ],
   "source": []
  },
  {
   "cell_type": "code",
   "execution_count": 29,
   "id": "unable-madness",
   "metadata": {},
   "outputs": [],
   "source": [
    "#    0123456879\n",
    "s = \"RLRRRLLRLL\""
   ]
  },
  {
   "cell_type": "code",
   "execution_count": 35,
   "id": "herbal-bidding",
   "metadata": {},
   "outputs": [
    {
     "data": {
      "text/plain": [
       "10"
      ]
     },
     "execution_count": 35,
     "metadata": {},
     "output_type": "execute_result"
    }
   ],
   "source": [
    "len(s)"
   ]
  },
  {
   "cell_type": "code",
   "execution_count": 56,
   "id": "tender-pakistan",
   "metadata": {},
   "outputs": [
    {
     "name": "stdout",
     "output_type": "stream",
     "text": [
      "2\n"
     ]
    }
   ],
   "source": [
    "# class Solution:\n",
    "#     def balancedString(self, s: str) -> int:\n",
    "#         count = 0\n",
    "#         new = \"\" \n",
    "#         for char in s:\n",
    "#             if char not in new:\n",
    "#                 new += char\n",
    "#             else:\n",
    "#                 count += 1\n",
    "#         return print(count)\n",
    "    \n",
    "# ret = Solution().balancedString(\"QQQW\")"
   ]
  },
  {
   "cell_type": "code",
   "execution_count": 8,
   "id": "coordinate-involvement",
   "metadata": {},
   "outputs": [
    {
     "name": "stdout",
     "output_type": "stream",
     "text": [
      "16\n"
     ]
    }
   ],
   "source": [
    "class Solution:\n",
    "    def maxProduct(self, nums: list[int]) -> int:\n",
    "        \n",
    "        max_pro = 0\n",
    "        for i in range(len(nums) - 1):\n",
    "            for j in range(i, len(nums) - 1):\n",
    "                current = (nums[i] - 1)*(nums[j + 1] - 1)\n",
    "                if max_pro < current:\n",
    "                    max_pro = current \n",
    "                \n",
    "        return print(max_pro)\n",
    "        \n",
    "\n",
    "ret = Solution().maxProduct([1,5,4,5])"
   ]
  },
  {
   "cell_type": "code",
   "execution_count": null,
   "id": "based-binding",
   "metadata": {},
   "outputs": [],
   "source": []
  },
  {
   "cell_type": "code",
   "execution_count": null,
   "id": "nearby-checkout",
   "metadata": {},
   "outputs": [],
   "source": [
    "# 1450. Number of Students Doing Homework at a Given Time\n",
    "class Solution:\n",
    "    def busyStudent(self, startTime: List[int], endTime: List[int], queryTime: int) -> int:\n",
    "        working_students = 0\n",
    "        for i in range(len(startTime)):\n",
    "            if startTime[i] <= queryTime <= endTime[i]:\n",
    "                working_students += 1\n",
    "        return working_students    "
   ]
  },
  {
   "cell_type": "code",
   "execution_count": 11,
   "id": "hybrid-meeting",
   "metadata": {},
   "outputs": [
    {
     "ename": "TypeError",
     "evalue": "unsupported operand type(s) for *: 'NoneType' and 'int'",
     "output_type": "error",
     "traceback": [
      "\u001b[1;31m---------------------------------------------------------------------------\u001b[0m",
      "\u001b[1;31mTypeError\u001b[0m                                 Traceback (most recent call last)",
      "\u001b[1;32m<ipython-input-11-0a9fb0418ddd>\u001b[0m in \u001b[0;36m<module>\u001b[1;34m\u001b[0m\n\u001b[0;32m     12\u001b[0m \u001b[1;33m\u001b[0m\u001b[0m\n\u001b[0;32m     13\u001b[0m         \u001b[1;32mreturn\u001b[0m \u001b[0mint\u001b[0m\u001b[1;33m(\u001b[0m\u001b[1;34m\"\"\u001b[0m\u001b[1;33m.\u001b[0m\u001b[0mjoin\u001b[0m\u001b[1;33m(\u001b[0m\u001b[0mrev\u001b[0m\u001b[1;33m)\u001b[0m\u001b[1;33m)\u001b[0m\u001b[1;33m\u001b[0m\u001b[1;33m\u001b[0m\u001b[0m\n\u001b[1;32m---> 14\u001b[1;33m \u001b[0mret\u001b[0m \u001b[1;33m=\u001b[0m \u001b[0mSolution\u001b[0m\u001b[1;33m(\u001b[0m\u001b[1;33m)\u001b[0m\u001b[1;33m.\u001b[0m\u001b[0misPalindrome\u001b[0m\u001b[1;33m(\u001b[0m\u001b[1;33m-\u001b[0m\u001b[1;36m121\u001b[0m\u001b[1;33m)\u001b[0m\u001b[1;33m\u001b[0m\u001b[1;33m\u001b[0m\u001b[0m\n\u001b[0m",
      "\u001b[1;32m<ipython-input-11-0a9fb0418ddd>\u001b[0m in \u001b[0;36misPalindrome\u001b[1;34m(self, x)\u001b[0m\n\u001b[0;32m      6\u001b[0m         \u001b[1;32mfor\u001b[0m \u001b[0mitem\u001b[0m \u001b[1;32min\u001b[0m \u001b[0mstr\u001b[0m\u001b[1;33m(\u001b[0m\u001b[0mx\u001b[0m\u001b[1;33m)\u001b[0m\u001b[1;33m:\u001b[0m\u001b[1;33m\u001b[0m\u001b[1;33m\u001b[0m\u001b[0m\n\u001b[0;32m      7\u001b[0m             \u001b[1;32mif\u001b[0m \u001b[0mitem\u001b[0m\u001b[1;33m.\u001b[0m\u001b[0misdigit\u001b[0m\u001b[1;33m(\u001b[0m\u001b[1;33m)\u001b[0m\u001b[1;33m:\u001b[0m\u001b[1;33m\u001b[0m\u001b[1;33m\u001b[0m\u001b[0m\n\u001b[1;32m----> 8\u001b[1;33m                 \u001b[0mrev\u001b[0m \u001b[1;33m=\u001b[0m \u001b[0mrev\u001b[0m\u001b[1;33m*\u001b[0m\u001b[1;36m10\u001b[0m \u001b[1;33m+\u001b[0m \u001b[0mint\u001b[0m\u001b[1;33m(\u001b[0m\u001b[0mx\u001b[0m\u001b[1;33m)\u001b[0m\u001b[1;33m%\u001b[0m\u001b[1;36m10\u001b[0m\u001b[1;33m\u001b[0m\u001b[1;33m\u001b[0m\u001b[0m\n\u001b[0m\u001b[0;32m      9\u001b[0m                 \u001b[0mx\u001b[0m \u001b[1;33m//=\u001b[0m \u001b[1;36m10\u001b[0m\u001b[1;33m\u001b[0m\u001b[1;33m\u001b[0m\u001b[0m\n\u001b[0;32m     10\u001b[0m             \u001b[1;32melse\u001b[0m\u001b[1;33m:\u001b[0m\u001b[1;33m\u001b[0m\u001b[1;33m\u001b[0m\u001b[0m\n",
      "\u001b[1;31mTypeError\u001b[0m: unsupported operand type(s) for *: 'NoneType' and 'int'"
     ]
    }
   ],
   "source": [
    "# 9. Palindrome Number\n",
    "class Solution:\n",
    "    def isPalindrome(self, x: int):\n",
    "        x = str(x)\n",
    "        rev = \"\"\n",
    "        for item in str(x):\n",
    "            if item.isdigit():\n",
    "                rev = rev*10 + int(x)%10\n",
    "                x //= 10\n",
    "            else:\n",
    "                rev = list(rev).append(str(item))\n",
    "        \n",
    "        return int(\"\".join(rev))\n",
    "ret = Solution().isPalindrome(-121)         "
   ]
  },
  {
   "cell_type": "code",
   "execution_count": 1,
   "id": "recognized-clinton",
   "metadata": {},
   "outputs": [
    {
     "data": {
      "text/plain": [
       "True"
      ]
     },
     "execution_count": 1,
     "metadata": {},
     "output_type": "execute_result"
    }
   ],
   "source": []
  },
  {
   "cell_type": "code",
   "execution_count": 5,
   "id": "heavy-significance",
   "metadata": {},
   "outputs": [
    {
     "data": {
      "text/plain": [
       "456"
      ]
     },
     "execution_count": 5,
     "metadata": {},
     "output_type": "execute_result"
    }
   ],
   "source": [
    "int(\"\".join([\"4\", \"5\", \"6\"]))"
   ]
  },
  {
   "cell_type": "code",
   "execution_count": null,
   "id": "blank-continuity",
   "metadata": {},
   "outputs": [],
   "source": []
  }
 ],
 "metadata": {
  "kernelspec": {
   "display_name": "Python 3",
   "language": "python",
   "name": "python3"
  },
  "language_info": {
   "codemirror_mode": {
    "name": "ipython",
    "version": 3
   },
   "file_extension": ".py",
   "mimetype": "text/x-python",
   "name": "python",
   "nbconvert_exporter": "python",
   "pygments_lexer": "ipython3",
   "version": "3.9.1"
  }
 },
 "nbformat": 4,
 "nbformat_minor": 5
}
