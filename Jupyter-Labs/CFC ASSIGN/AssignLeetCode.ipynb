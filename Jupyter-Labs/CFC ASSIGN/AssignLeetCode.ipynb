{
 "cells": [
  {
   "cell_type": "markdown",
   "id": "worthy-anthropology",
   "metadata": {},
   "source": [
    "            1672. Richest Customer Wealth"
   ]
  },
  {
   "cell_type": "code",
   "execution_count": 2,
   "id": "valued-tribute",
   "metadata": {},
   "outputs": [],
   "source": [
    "class Solution:\n",
    "    def maximumWealth(self, accounts: list[list[int]]) -> int:\n",
    "        wealth = []\n",
    "        for i in range(len(accounts)):\n",
    "            wealth.append(sum(accounts[i]))\n",
    "        return max(wealth)\n",
    "    \n",
    "ret = Solution().maximumWealth([[1,5],[7,3],[3,5]])\n",
    "        "
   ]
  },
  {
   "cell_type": "code",
   "execution_count": 3,
   "id": "dependent-reaction",
   "metadata": {},
   "outputs": [
    {
     "data": {
      "text/plain": [
       "10"
      ]
     },
     "execution_count": 3,
     "metadata": {},
     "output_type": "execute_result"
    }
   ],
   "source": [
    "ret"
   ]
  },
  {
   "cell_type": "code",
   "execution_count": 4,
   "id": "massive-basket",
   "metadata": {},
   "outputs": [],
   "source": [
    "b = 0b1010"
   ]
  },
  {
   "cell_type": "code",
   "execution_count": null,
   "id": "devoted-semester",
   "metadata": {},
   "outputs": [],
   "source": []
  },
  {
   "cell_type": "code",
   "execution_count": null,
   "id": "lyric-highlight",
   "metadata": {},
   "outputs": [],
   "source": []
  },
  {
   "cell_type": "code",
   "execution_count": null,
   "id": "arctic-bobby",
   "metadata": {},
   "outputs": [],
   "source": []
  }
 ],
 "metadata": {
  "kernelspec": {
   "display_name": "Python 3",
   "language": "python",
   "name": "python3"
  },
  "language_info": {
   "codemirror_mode": {
    "name": "ipython",
    "version": 3
   },
   "file_extension": ".py",
   "mimetype": "text/x-python",
   "name": "python",
   "nbconvert_exporter": "python",
   "pygments_lexer": "ipython3",
   "version": "3.9.1"
  }
 },
 "nbformat": 4,
 "nbformat_minor": 5
}
