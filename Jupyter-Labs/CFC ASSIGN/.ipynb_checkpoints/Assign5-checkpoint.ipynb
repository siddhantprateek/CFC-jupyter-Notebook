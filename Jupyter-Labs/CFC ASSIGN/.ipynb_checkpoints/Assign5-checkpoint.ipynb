{
 "cells": [
  {
   "cell_type": "markdown",
   "id": "operating-election",
   "metadata": {},
   "source": [
    "    1137. N-th Tribonacci Number\n",
    "\n",
    "    The Tribonacci sequence Tn is defined as follows: \n",
    "\n",
    "    T0 = 0, T1 = 1, T2 = 1, and Tn+3 = Tn + Tn+1 + Tn+2 for n >= 0.\n",
    "\n",
    "    Given n, return the value of Tn.\n",
    "\n",
    "\n",
    "\n",
    "    Example 1:\n",
    "\n",
    "    Input: n = 4\n",
    "    Output: 4\n",
    "    Explanation:\n",
    "    T_3 = 0 + 1 + 1 = 2\n",
    "    T_4 = 1 + 1 + 2 = 4\n",
    "    Example 2:\n",
    "\n",
    "    Input: n = 25\n",
    "    Output: 1389537"
   ]
  },
  {
   "cell_type": "code",
   "execution_count": 28,
   "id": "filled-township",
   "metadata": {},
   "outputs": [
    {
     "ename": "NameError",
     "evalue": "name 'tribonacci' is not defined",
     "output_type": "error",
     "traceback": [
      "\u001b[1;31m---------------------------------------------------------------------------\u001b[0m",
      "\u001b[1;31mNameError\u001b[0m                                 Traceback (most recent call last)",
      "\u001b[1;32m<ipython-input-28-b5c582bbd201>\u001b[0m in \u001b[0;36m<module>\u001b[1;34m\u001b[0m\n\u001b[0;32m     10\u001b[0m \u001b[1;33m\u001b[0m\u001b[0m\n\u001b[0;32m     11\u001b[0m         \u001b[1;32mreturn\u001b[0m \u001b[0mvalue\u001b[0m\u001b[1;33m\u001b[0m\u001b[1;33m\u001b[0m\u001b[0m\n\u001b[1;32m---> 12\u001b[1;33m \u001b[0mre\u001b[0m \u001b[1;33m=\u001b[0m \u001b[0mSolution\u001b[0m\u001b[1;33m(\u001b[0m\u001b[1;33m)\u001b[0m\u001b[1;33m.\u001b[0m\u001b[0mtribonacci\u001b[0m\u001b[1;33m(\u001b[0m\u001b[1;36m4\u001b[0m\u001b[1;33m)\u001b[0m\u001b[1;33m\u001b[0m\u001b[1;33m\u001b[0m\u001b[0m\n\u001b[0m",
      "\u001b[1;32m<ipython-input-28-b5c582bbd201>\u001b[0m in \u001b[0;36mtribonacci\u001b[1;34m(self, n)\u001b[0m\n\u001b[0;32m      7\u001b[0m             \u001b[1;32mreturn\u001b[0m \u001b[1;36m1\u001b[0m\u001b[1;33m\u001b[0m\u001b[1;33m\u001b[0m\u001b[0m\n\u001b[0;32m      8\u001b[0m         \u001b[1;32melse\u001b[0m\u001b[1;33m:\u001b[0m\u001b[1;33m\u001b[0m\u001b[1;33m\u001b[0m\u001b[0m\n\u001b[1;32m----> 9\u001b[1;33m             \u001b[0mvalue\u001b[0m \u001b[1;33m=\u001b[0m \u001b[0mtribonacci\u001b[0m\u001b[1;33m(\u001b[0m\u001b[0mn\u001b[0m \u001b[1;33m-\u001b[0m \u001b[1;36m1\u001b[0m\u001b[1;33m)\u001b[0m \u001b[1;33m+\u001b[0m \u001b[0mtribonacci\u001b[0m\u001b[1;33m(\u001b[0m\u001b[0mn\u001b[0m \u001b[1;33m-\u001b[0m \u001b[1;36m2\u001b[0m\u001b[1;33m)\u001b[0m \u001b[1;33m+\u001b[0m \u001b[0mtribonacci\u001b[0m\u001b[1;33m(\u001b[0m\u001b[0mn\u001b[0m \u001b[1;33m-\u001b[0m \u001b[1;36m3\u001b[0m\u001b[1;33m)\u001b[0m\u001b[1;33m\u001b[0m\u001b[1;33m\u001b[0m\u001b[0m\n\u001b[0m\u001b[0;32m     10\u001b[0m \u001b[1;33m\u001b[0m\u001b[0m\n\u001b[0;32m     11\u001b[0m         \u001b[1;32mreturn\u001b[0m \u001b[0mvalue\u001b[0m\u001b[1;33m\u001b[0m\u001b[1;33m\u001b[0m\u001b[0m\n",
      "\u001b[1;31mNameError\u001b[0m: name 'tribonacci' is not defined"
     ]
    }
   ],
   "source": [
    "# recursion approuch\n",
    "class Solution:\n",
    "    def tribonacci(self, n: int):\n",
    "        if n <= 0:\n",
    "            return 0\n",
    "        elif n == 1 or n == 2:\n",
    "            return 1\n",
    "        else:\n",
    "            value = tribonacci(n - 1) + tribonacci(n - 2) + tribonacci(n - 3)\n",
    "        \n",
    "        return value\n",
    "re = Solution().tribonacci(4)"
   ]
  },
  {
   "cell_type": "code",
   "execution_count": null,
   "id": "collaborative-paste",
   "metadata": {},
   "outputs": [],
   "source": []
  },
  {
   "cell_type": "code",
   "execution_count": 30,
   "id": "arabic-recruitment",
   "metadata": {},
   "outputs": [
    {
     "name": "stdout",
     "output_type": "stream",
     "text": [
      "1389537\n"
     ]
    }
   ],
   "source": [
    "# bottom-up approuch\n",
    "        \n",
    "class Solution:\n",
    "    def tribonacci(self, n: int):\n",
    "      \n",
    "        T_of = [None]*38\n",
    "        T_of[0], T_of[1], T_of[2] = 0, 1, 1\n",
    "\n",
    "\n",
    "        for i in range(3, n + 1):\n",
    "            T_of[i] = T_of[i - 1] + T_of[i - 2] + T_of[i - 3]\n",
    "        \n",
    "        return print(T_of[n])\n",
    "\n",
    "ret = Solution().tribonacci(25)"
   ]
  },
  {
   "cell_type": "markdown",
   "id": "downtown-penny",
   "metadata": {},
   "source": [
    "    39. Combination Sum\n",
    "    Given an array of distinct integers candidates and a target integer target, return a list of all unique combinations of candidates \n",
    "    where the chosen numbers sum to target. You may return the combinations in any order.\n",
    "    The same number may be chosen from candidates an unlimited number of times. Two combinations are unique \n",
    "    if the frequency of at least one of the chosen numbers is different.\n",
    "    It is guaranteed that the number of unique combinations that sum up to target is less than 150 combinations for the given input.\n",
    "\n",
    "\n",
    "    Example 1:\n",
    "\n",
    "    Input: candidates = [2,3,6,7], target = 7\n",
    "    Output: [[2,2,3],[7]]\n",
    "    Explanation:\n",
    "    2 and 3 are candidates, and 2 + 2 + 3 = 7. Note that 2 can be used multiple times.\n",
    "    7 is a candidate, and 7 = 7.\n",
    "    These are the only two combinations.\n",
    "    Example 2:\n",
    "\n",
    "    Input: candidates = [2,3,5], target = 8\n",
    "    Output: [[2,2,2,2],[2,3,3],[3,5]]\n",
    "    Example 3:\n",
    "\n",
    "    Input: candidates = [2], target = 1\n",
    "    Output: []\n",
    "    Example 4:\n",
    "\n",
    "    Input: candidates = [1], target = 1\n",
    "    Output: [[1]]"
   ]
  },
  {
   "cell_type": "code",
   "execution_count": null,
   "id": "fatty-lover",
   "metadata": {},
   "outputs": [],
   "source": [
    "class Solution:\n",
    "    def combinationSum(self, candidates: list[int], target: int) -> list[list[int]]:\n",
    "        \n",
    "        if target in candidates:\n",
    "            result.append([target])\n",
    "            \n",
    "        for index in range(len(candidates)):\n",
    "        \n",
    "        \n",
    "                "
   ]
  },
  {
   "cell_type": "markdown",
   "id": "veterinary-worcester",
   "metadata": {},
   "source": [
    "    40. Combination Sum II\n",
    "    Given a collection of candidate numbers (candidates) and a target number (target), find all unique combinations in candidates where the candidate numbers sum to target.\n",
    "    Each number in candidates may only be used once in the combination.\n",
    "    Note: The solution set must not contain duplicate combinations.\n",
    "\n",
    "\n",
    "\n",
    "    Example 1:\n",
    "\n",
    "    Input: candidates = [10,1,2,7,6,1,5], target = 8\n",
    "    Output: \n",
    "    [\n",
    "    [1,1,6],\n",
    "    [1,2,5],\n",
    "    [1,7],\n",
    "    [2,6]\n",
    "    ]\n",
    "    Example 2:\n",
    "\n",
    "    Input: candidates = [2,5,2,1,2], target = 5\n",
    "    Output: \n",
    "    [\n",
    "    [1,2,2],\n",
    "    [5]\n",
    "    ]\n"
   ]
  },
  {
   "cell_type": "code",
   "execution_count": 34,
   "id": "dense-massage",
   "metadata": {},
   "outputs": [],
   "source": [
    "class Solution:\n",
    "    def combinationSum2(self, candidates: list[int], target: int) -> list[list[int]]:\n",
    "        \n",
    "        \n",
    "        pass\n",
    "                "
   ]
  },
  {
   "cell_type": "code",
   "execution_count": 60,
   "id": "consistent-roberts",
   "metadata": {},
   "outputs": [],
   "source": [
    "def combinationSum2(candidates: list[int], target: int, result=[], proc=[]) -> list[list[int]]:\n",
    "    \n",
    "    \n",
    "    if candidates == []:\n",
    "        return \n",
    "    \n",
    "    if sum(proc) == target:\n",
    "        result.append(proc)\n",
    "        return print(result)\n",
    "    \n",
    "    item = candidates[0]\n",
    "    combinationSum2(candidates[1:], target, result, proc + [item])\n",
    "    combinationSum2(candidates[1:], target, result, proc)\n",
    "    \n",
    "    "
   ]
  },
  {
   "cell_type": "code",
   "execution_count": 61,
   "id": "bacterial-festival",
   "metadata": {},
   "outputs": [
    {
     "name": "stdout",
     "output_type": "stream",
     "text": [
      "[[1, 7]]\n",
      "[[1, 7], [1, 6, 1]]\n",
      "[[1, 7], [1, 6, 1], [2, 6]]\n",
      "[[1, 7], [1, 6, 1], [2, 6], [7, 1]]\n"
     ]
    }
   ],
   "source": [
    "combinationSum2([10,1,2,7,6,1,5], 8)"
   ]
  },
  {
   "cell_type": "code",
   "execution_count": 52,
   "id": "annoying-banks",
   "metadata": {},
   "outputs": [
    {
     "data": {
      "text/plain": [
       "1"
      ]
     },
     "execution_count": 52,
     "metadata": {},
     "output_type": "execute_result"
    }
   ],
   "source": [
    "_"
   ]
  },
  {
   "cell_type": "markdown",
   "id": "another-compound",
   "metadata": {},
   "source": [
    "    1. Take as input str, a string. Write a recursive function which moves all ‘x’ from the\n",
    "    string to its end. Print the value returned\n",
    "    E.g. for “abexexdexed” return “abeedeedxxx”.\n"
   ]
  },
  {
   "cell_type": "code",
   "execution_count": 83,
   "id": "hindu-stone",
   "metadata": {},
   "outputs": [],
   "source": [
    "def Shift_x(s: str, index = 0, result= \"\", item = \"\",proc=\"\"):\n",
    "    \n",
    "    if index == len(s) - 1:\n",
    "        print(proc)\n",
    "        return\n",
    "    \n",
    "    \n",
    "    # problem in the base case\n",
    "    if item == \"x\":\n",
    "        result = proc + item\n",
    "    else:\n",
    "        result = item + proc\n",
    "  \n",
    "    \n",
    "    item = s[index]\n",
    "    Shift_x(s[:index] + s[index + 1:], index + 1,result, item, proc)\n",
    "        \n",
    "    "
   ]
  },
  {
   "cell_type": "code",
   "execution_count": 84,
   "id": "appropriate-component",
   "metadata": {},
   "outputs": [
    {
     "name": "stdout",
     "output_type": "stream",
     "text": [
      "\n"
     ]
    }
   ],
   "source": [
    "Shift_x(\"abexexdexed\")"
   ]
  },
  {
   "cell_type": "code",
   "execution_count": null,
   "id": "furnished-medicaid",
   "metadata": {},
   "outputs": [],
   "source": []
  }
 ],
 "metadata": {
  "kernelspec": {
   "display_name": "Python 3",
   "language": "python",
   "name": "python3"
  },
  "language_info": {
   "codemirror_mode": {
    "name": "ipython",
    "version": 3
   },
   "file_extension": ".py",
   "mimetype": "text/x-python",
   "name": "python",
   "nbconvert_exporter": "python",
   "pygments_lexer": "ipython3",
   "version": "3.9.1"
  }
 },
 "nbformat": 4,
 "nbformat_minor": 5
}
