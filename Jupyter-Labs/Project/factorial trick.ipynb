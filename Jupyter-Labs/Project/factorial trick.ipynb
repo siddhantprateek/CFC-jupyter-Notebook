{
 "cells": [
  {
   "cell_type": "code",
   "execution_count": 10,
   "id": "valued-barcelona",
   "metadata": {},
   "outputs": [],
   "source": [
    "n = 5\n",
    "fact = lambda x,y: x*y in range(1, n + 1)"
   ]
  },
  {
   "cell_type": "code",
   "execution_count": 11,
   "id": "official-reform",
   "metadata": {},
   "outputs": [
    {
     "data": {
      "text/plain": [
       "False"
      ]
     },
     "execution_count": 11,
     "metadata": {},
     "output_type": "execute_result"
    }
   ],
   "source": [
    "fact(5,3)"
   ]
  },
  {
   "cell_type": "code",
   "execution_count": null,
   "id": "measured-northern",
   "metadata": {},
   "outputs": [],
   "source": []
  },
  {
   "cell_type": "code",
   "execution_count": 10,
   "id": "guilty-diary",
   "metadata": {},
   "outputs": [],
   "source": [
    "n = 8\n",
    "board = [[0 for i in range(n)] for j in range(n)]"
   ]
  },
  {
   "cell_type": "code",
   "execution_count": 11,
   "id": "floating-catering",
   "metadata": {},
   "outputs": [
    {
     "data": {
      "text/plain": [
       "[[0, 0, 0, 0, 0, 0, 0, 0],\n",
       " [0, 0, 0, 0, 0, 0, 0, 0],\n",
       " [0, 0, 0, 0, 0, 0, 0, 0],\n",
       " [0, 0, 0, 0, 0, 0, 0, 0],\n",
       " [0, 0, 0, 0, 0, 0, 0, 0],\n",
       " [0, 0, 0, 0, 0, 0, 0, 0],\n",
       " [0, 0, 0, 0, 0, 0, 0, 0],\n",
       " [0, 0, 0, 0, 0, 0, 0, 0]]"
      ]
     },
     "execution_count": 11,
     "metadata": {},
     "output_type": "execute_result"
    }
   ],
   "source": [
    "board"
   ]
  },
  {
   "cell_type": "code",
   "execution_count": null,
   "id": "controlled-butterfly",
   "metadata": {},
   "outputs": [],
   "source": []
  }
 ],
 "metadata": {
  "kernelspec": {
   "display_name": "Python 3",
   "language": "python",
   "name": "python3"
  },
  "language_info": {
   "codemirror_mode": {
    "name": "ipython",
    "version": 3
   },
   "file_extension": ".py",
   "mimetype": "text/x-python",
   "name": "python",
   "nbconvert_exporter": "python",
   "pygments_lexer": "ipython3",
   "version": "3.9.1"
  }
 },
 "nbformat": 4,
 "nbformat_minor": 5
}
