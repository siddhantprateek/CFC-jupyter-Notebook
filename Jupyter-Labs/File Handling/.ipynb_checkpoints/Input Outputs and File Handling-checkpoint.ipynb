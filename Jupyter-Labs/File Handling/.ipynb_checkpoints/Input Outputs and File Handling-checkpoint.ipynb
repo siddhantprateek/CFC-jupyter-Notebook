{
 "cells": [
  {
   "cell_type": "code",
   "execution_count": 20,
   "id": "endless-tribute",
   "metadata": {},
   "outputs": [],
   "source": [
    "import requests"
   ]
  },
  {
   "cell_type": "code",
   "execution_count": 7,
   "id": "outside-museum",
   "metadata": {},
   "outputs": [],
   "source": [
    "f = open(\"hello.txt\", \"w\")"
   ]
  },
  {
   "cell_type": "code",
   "execution_count": 8,
   "id": "according-hours",
   "metadata": {},
   "outputs": [
    {
     "data": {
      "text/plain": [
       "7"
      ]
     },
     "execution_count": 8,
     "metadata": {},
     "output_type": "execute_result"
    }
   ],
   "source": [
    "f.write(\"siddant\")\n",
    "# currently its in buffering process\n",
    "# but in text file we don't see any output in text file.\n",
    "# why ram processor is cheaper than disk processing "
   ]
  },
  {
   "cell_type": "code",
   "execution_count": 9,
   "id": "architectural-importance",
   "metadata": {},
   "outputs": [],
   "source": [
    "f.close()"
   ]
  },
  {
   "cell_type": "code",
   "execution_count": 17,
   "id": "attempted-tolerance",
   "metadata": {},
   "outputs": [],
   "source": [
    "# similarly\n",
    "file = open(\"inf.txt\", \"w\")"
   ]
  },
  {
   "cell_type": "code",
   "execution_count": 18,
   "id": "satellite-obligation",
   "metadata": {},
   "outputs": [],
   "source": [
    "for i in range(10000):\n",
    "    file.write(\"SIDDHANT*\")\n",
    "file.flush()\n",
    "# flush those stuff pending in our ram not shifted to disk"
   ]
  },
  {
   "cell_type": "code",
   "execution_count": 24,
   "id": "aquatic-demographic",
   "metadata": {},
   "outputs": [],
   "source": [
    "response = requests.get(\"https://i.pinimg.com/originals/e0/3d/5b/e03d5b812b2734826f76960eca5b5541.jpg\")\n",
    "f = open(\"panda.jpeg\", \"wb\")\n",
    "f.write(response.content)\n",
    "f.close()"
   ]
  },
  {
   "cell_type": "code",
   "execution_count": 27,
   "id": "undefined-merit",
   "metadata": {},
   "outputs": [],
   "source": [
    "\n",
    "response = requests.get(\"https://www.google.com/\")\n",
    "f = open(\"google.html\", \"w\")\n",
    "f.write(response.text)\n",
    "f.close()"
   ]
  },
  {
   "cell_type": "code",
   "execution_count": 29,
   "id": "hollow-nickname",
   "metadata": {},
   "outputs": [],
   "source": [
    "fl = open(\"something.txt\", \"r\")\n",
    "fl.read()\n",
    "fl.close()\n"
   ]
  },
  {
   "cell_type": "code",
   "execution_count": 34,
   "id": "matched-fiction",
   "metadata": {},
   "outputs": [
    {
     "name": "stdout",
     "output_type": "stream",
     "text": [
      "I've got fire for a heart\n",
      "I'm not scared of the dark\n",
      "You've never seen it look so easy\n",
      "I got a river for a soul\n",
      "And baby, you're a boat\n",
      "Baby, you're my only reason\n",
      "If I didn't have you, there would be nothing left\n",
      "The shell of a man that could never be his best\n",
      "If I didn't have you, I'd never see the sun\n",
      "You taught me how to be someone, yeah"
     ]
    }
   ],
   "source": [
    "fl = open(\"something.txt\", \"r\")\n",
    "lines = fl.readlines()\n",
    "# fl.read()\n",
    "for line in lines:\n",
    "    print(line, end=\"\")\n",
    "fl.close()\n"
   ]
  },
  {
   "cell_type": "code",
   "execution_count": null,
   "id": "excited-prevention",
   "metadata": {},
   "outputs": [],
   "source": []
  }
 ],
 "metadata": {
  "kernelspec": {
   "display_name": "Python 3",
   "language": "python",
   "name": "python3"
  },
  "language_info": {
   "codemirror_mode": {
    "name": "ipython",
    "version": 3
   },
   "file_extension": ".py",
   "mimetype": "text/x-python",
   "name": "python",
   "nbconvert_exporter": "python",
   "pygments_lexer": "ipython3",
   "version": "3.9.1"
  }
 },
 "nbformat": 4,
 "nbformat_minor": 5
}
