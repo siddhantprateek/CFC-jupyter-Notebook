{
 "cells": [
  {
   "cell_type": "code",
   "execution_count": 1,
   "id": "expensive-replacement",
   "metadata": {},
   "outputs": [],
   "source": [
    "def pdi(val):\n",
    "    if val == 0:\n",
    "        return\n",
    "    print(val)\n",
    "    pdi(val - 1)"
   ]
  },
  {
   "cell_type": "code",
   "execution_count": 2,
   "id": "retired-satisfaction",
   "metadata": {},
   "outputs": [
    {
     "name": "stdout",
     "output_type": "stream",
     "text": [
      "5\n",
      "4\n",
      "3\n",
      "2\n",
      "1\n"
     ]
    }
   ],
   "source": [
    "pdi(5)"
   ]
  },
  {
   "cell_type": "code",
   "execution_count": 4,
   "id": "prescription-programmer",
   "metadata": {},
   "outputs": [],
   "source": [
    "def pd(val):\n",
    "    if val == 0:\n",
    "        return\n",
    "    print(val)\n",
    "    pdi(val - 1)\n",
    "    print(val)"
   ]
  },
  {
   "cell_type": "code",
   "execution_count": 5,
   "id": "modular-radical",
   "metadata": {},
   "outputs": [
    {
     "name": "stdout",
     "output_type": "stream",
     "text": [
      "4\n",
      "3\n",
      "2\n",
      "1\n",
      "1\n",
      "2\n",
      "3\n",
      "4\n"
     ]
    }
   ],
   "source": [
    "pd(4)"
   ]
  },
  {
   "cell_type": "code",
   "execution_count": 12,
   "id": "downtown-piece",
   "metadata": {},
   "outputs": [],
   "source": [
    "def pi(val):\n",
    "    if val == 0:\n",
    "        return\n",
    "    pi(val -1)\n",
    "    print(val)"
   ]
  },
  {
   "cell_type": "code",
   "execution_count": 13,
   "id": "given-dream",
   "metadata": {},
   "outputs": [
    {
     "name": "stdout",
     "output_type": "stream",
     "text": [
      "1\n",
      "2\n",
      "3\n",
      "4\n"
     ]
    }
   ],
   "source": [
    "pi(4)"
   ]
  },
  {
   "cell_type": "code",
   "execution_count": 14,
   "id": "driving-sitting",
   "metadata": {},
   "outputs": [],
   "source": [
    "def fact(n):\n",
    "    if n == 0:\n",
    "        return 1\n",
    "    return n * fact(n - 1)"
   ]
  },
  {
   "cell_type": "code",
   "execution_count": 15,
   "id": "partial-grant",
   "metadata": {},
   "outputs": [
    {
     "data": {
      "text/plain": [
       "120"
      ]
     },
     "execution_count": 15,
     "metadata": {},
     "output_type": "execute_result"
    }
   ],
   "source": [
    "fact(5)"
   ]
  },
  {
   "cell_type": "code",
   "execution_count": 16,
   "id": "sustainable-training",
   "metadata": {},
   "outputs": [],
   "source": [
    "def fact2(num):\n",
    "    if num == 0:\n",
    "        return 1\n",
    "    subprob = fact2(num - 1)\n",
    "    result = num*subprob\n",
    "    \n",
    "    return result"
   ]
  },
  {
   "cell_type": "code",
   "execution_count": 18,
   "id": "palestinian-lebanon",
   "metadata": {},
   "outputs": [],
   "source": [
    "def fibo(n):\n",
    "    if n == 0 or n == 1:\n",
    "        return 1\n",
    "    return fibo(n - 1) + fibo(n - 2)"
   ]
  },
  {
   "cell_type": "code",
   "execution_count": 19,
   "id": "numerous-curtis",
   "metadata": {},
   "outputs": [
    {
     "data": {
      "text/plain": [
       "8"
      ]
     },
     "execution_count": 19,
     "metadata": {},
     "output_type": "execute_result"
    }
   ],
   "source": [
    "fibo(5)"
   ]
  },
  {
   "cell_type": "code",
   "execution_count": 20,
   "id": "exempt-leeds",
   "metadata": {},
   "outputs": [
    {
     "ename": "SyntaxError",
     "evalue": "invalid syntax (<ipython-input-20-bb2ca5358829>, line 6)",
     "output_type": "error",
     "traceback": [
      "\u001b[1;36m  File \u001b[1;32m\"<ipython-input-20-bb2ca5358829>\"\u001b[1;36m, line \u001b[1;32m6\u001b[0m\n\u001b[1;33m    subseq(unproc[1:], proc += ch) # in one branch we will have the char\u001b[0m\n\u001b[1;37m                            ^\u001b[0m\n\u001b[1;31mSyntaxError\u001b[0m\u001b[1;31m:\u001b[0m invalid syntax\n"
     ]
    }
   ],
   "source": [
    "def subseq(unproc, proc=\"\"):\n",
    "    if len(unproc) == 0:\n",
    "        print(unproc)\n",
    "        return\n",
    "    \n",
    "    subseq(unproc[1:], proc += ch) # in one branch we will have the char \n",
    "    subseq(unproc[1:], proc) # in other we won't have the char"
   ]
  },
  {
   "cell_type": "code",
   "execution_count": null,
   "id": "finnish-beginning",
   "metadata": {},
   "outputs": [],
   "source": []
  }
 ],
 "metadata": {
  "kernelspec": {
   "display_name": "Python 3",
   "language": "python",
   "name": "python3"
  },
  "language_info": {
   "codemirror_mode": {
    "name": "ipython",
    "version": 3
   },
   "file_extension": ".py",
   "mimetype": "text/x-python",
   "name": "python",
   "nbconvert_exporter": "python",
   "pygments_lexer": "ipython3",
   "version": "3.9.1"
  }
 },
 "nbformat": 4,
 "nbformat_minor": 5
}
