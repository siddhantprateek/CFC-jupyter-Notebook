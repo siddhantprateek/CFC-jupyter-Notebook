{
 "cells": [
  {
   "cell_type": "code",
   "execution_count": 12,
   "id": "about-happening",
   "metadata": {},
   "outputs": [],
   "source": [
    "def mergeSort(first, second):\n",
    "    \n",
    "    result = []\n",
    "    f, s = 0, 0\n",
    "    \n",
    "    while f < len(first) and s < len(second):\n",
    "        if first[f] < second[s]:\n",
    "            result.append(first[f])\n",
    "            f += 1\n",
    "        else:\n",
    "            result.append(second[s])\n",
    "            s += 1\n",
    "    \n",
    "    while f < len(first): \n",
    "        result.append(first[f])\n",
    "        f += 1\n",
    "    \n",
    "    while s < len(second):\n",
    "        result.append(second[s])\n",
    "        s += 1\n",
    "        \n",
    "    return result"
   ]
  },
  {
   "cell_type": "code",
   "execution_count": 15,
   "id": "requested-reunion",
   "metadata": {},
   "outputs": [],
   "source": [
    "import random \n",
    "\n",
    "list1 = []\n",
    "for i in range(10):\n",
    "    item = random.randint(1, 100)\n",
    "    if item not in list1:\n",
    "        list1.append(item)\n",
    "        \n",
    "list2 = []\n",
    "for i in range(10):\n",
    "    item = random.randint(1, 100)\n",
    "    if item not in list2:\n",
    "        list2.append(item)\n",
    "              "
   ]
  },
  {
   "cell_type": "code",
   "execution_count": 16,
   "id": "weird-credits",
   "metadata": {},
   "outputs": [],
   "source": [
    "list1.sort()"
   ]
  },
  {
   "cell_type": "code",
   "execution_count": 17,
   "id": "healthy-projector",
   "metadata": {},
   "outputs": [],
   "source": [
    "list2.sort()"
   ]
  },
  {
   "cell_type": "code",
   "execution_count": 18,
   "id": "adjacent-vehicle",
   "metadata": {},
   "outputs": [
    {
     "name": "stdout",
     "output_type": "stream",
     "text": [
      "[15, 17, 19, 21, 23, 32, 33, 35, 40, 41, 61, 65, 66, 69, 75, 79, 89, 94, 98] "
     ]
    }
   ],
   "source": [
    "print(mergeSort(list1, list2), end=\" \")"
   ]
  },
  {
   "cell_type": "code",
   "execution_count": null,
   "id": "technical-increase",
   "metadata": {},
   "outputs": [],
   "source": []
  }
 ],
 "metadata": {
  "kernelspec": {
   "display_name": "Python 3",
   "language": "python",
   "name": "python3"
  },
  "language_info": {
   "codemirror_mode": {
    "name": "ipython",
    "version": 3
   },
   "file_extension": ".py",
   "mimetype": "text/x-python",
   "name": "python",
   "nbconvert_exporter": "python",
   "pygments_lexer": "ipython3",
   "version": "3.9.1"
  }
 },
 "nbformat": 4,
 "nbformat_minor": 5
}
