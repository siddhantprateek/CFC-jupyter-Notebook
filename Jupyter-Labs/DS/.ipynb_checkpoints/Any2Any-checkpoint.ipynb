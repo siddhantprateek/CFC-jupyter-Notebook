{
 "cells": [
  {
   "cell_type": "code",
   "execution_count": 2,
   "id": "angry-soviet",
   "metadata": {},
   "outputs": [],
   "source": [
    "def deci2bin(n):\n",
    "    to_pow = 0\n",
    "    binary = 0\n",
    "\n",
    "    while n >= 1:\n",
    "        binary = binary + (n % 2) * (10**to_pow)\n",
    "        n = n // 2 \n",
    "        to_pow += 1\n",
    "    return binary"
   ]
  },
  {
   "cell_type": "code",
   "execution_count": 3,
   "id": "narrow-persian",
   "metadata": {},
   "outputs": [
    {
     "data": {
      "text/plain": [
       "101101"
      ]
     },
     "execution_count": 3,
     "metadata": {},
     "output_type": "execute_result"
    }
   ],
   "source": [
    "deci2bin(45)"
   ]
  },
  {
   "cell_type": "code",
   "execution_count": 2,
   "id": "upset-ceiling",
   "metadata": {},
   "outputs": [
    {
     "data": {
      "text/plain": [
       "'0b100'"
      ]
     },
     "execution_count": 2,
     "metadata": {},
     "output_type": "execute_result"
    }
   ],
   "source": [
    "bin(4)"
   ]
  },
  {
   "cell_type": "code",
   "execution_count": 3,
   "id": "computational-chemical",
   "metadata": {},
   "outputs": [
    {
     "data": {
      "text/plain": [
       "'0b1100100'"
      ]
     },
     "execution_count": 3,
     "metadata": {},
     "output_type": "execute_result"
    }
   ],
   "source": [
    "bin(100)"
   ]
  },
  {
   "cell_type": "code",
   "execution_count": 4,
   "id": "blocked-production",
   "metadata": {},
   "outputs": [
    {
     "data": {
      "text/plain": [
       "'0b101101'"
      ]
     },
     "execution_count": 4,
     "metadata": {},
     "output_type": "execute_result"
    }
   ],
   "source": [
    "bin(45)"
   ]
  },
  {
   "cell_type": "code",
   "execution_count": 5,
   "id": "sharp-afghanistan",
   "metadata": {},
   "outputs": [
    {
     "data": {
      "text/plain": [
       "100"
      ]
     },
     "execution_count": 5,
     "metadata": {},
     "output_type": "execute_result"
    }
   ],
   "source": [
    "deci2bin(4)"
   ]
  },
  {
   "cell_type": "code",
   "execution_count": 6,
   "id": "bizarre-unknown",
   "metadata": {},
   "outputs": [],
   "source": [
    "n = 5\n"
   ]
  },
  {
   "cell_type": "code",
   "execution_count": 7,
   "id": "governmental-lithuania",
   "metadata": {},
   "outputs": [],
   "source": [
    "def deci3bin(n):\n",
    "    if n >= 1:\n",
    "        deci2bin(n // 2)\n",
    "        print(n % 2, end=\" \")\n"
   ]
  },
  {
   "cell_type": "code",
   "execution_count": 8,
   "id": "temporal-reminder",
   "metadata": {},
   "outputs": [
    {
     "data": {
      "text/plain": [
       "100"
      ]
     },
     "execution_count": 8,
     "metadata": {},
     "output_type": "execute_result"
    }
   ],
   "source": [
    "deci2bin(4)"
   ]
  },
  {
   "cell_type": "code",
   "execution_count": 9,
   "id": "forced-valuable",
   "metadata": {},
   "outputs": [],
   "source": [
    "# Recursive of deci2bin\n",
    "def deci2bin_r(num):\n",
    "    if num >= 1:\n",
    "        deci2bin_r(n // 2)\n",
    "        print(n % 2)"
   ]
  },
  {
   "cell_type": "code",
   "execution_count": null,
   "id": "latin-orbit",
   "metadata": {},
   "outputs": [],
   "source": [
    "deci2bin_r(4)"
   ]
  },
  {
   "cell_type": "code",
   "execution_count": 1,
   "id": "excited-knowing",
   "metadata": {},
   "outputs": [],
   "source": [
    "def gcd(a, b):\n",
    "    while(b):\n",
    "        a, b = b, a % b\n",
    "    return a\n"
   ]
  },
  {
   "cell_type": "code",
   "execution_count": 3,
   "id": "moved-wisconsin",
   "metadata": {},
   "outputs": [
    {
     "data": {
      "text/plain": [
       "1"
      ]
     },
     "execution_count": 3,
     "metadata": {},
     "output_type": "execute_result"
    }
   ],
   "source": [
    "gcd(3, 5)"
   ]
  },
  {
   "cell_type": "code",
   "execution_count": 6,
   "id": "spanish-garlic",
   "metadata": {},
   "outputs": [],
   "source": [
    "def gcd1(a, b):\n",
    "    # everything divides 0\n",
    "    if b == 0:\n",
    "        return a\n",
    "    return gcd(b, a%b)"
   ]
  },
  {
   "cell_type": "code",
   "execution_count": 10,
   "id": "prospective-vehicle",
   "metadata": {},
   "outputs": [
    {
     "data": {
      "text/plain": [
       "1"
      ]
     },
     "execution_count": 10,
     "metadata": {},
     "output_type": "execute_result"
    }
   ],
   "source": [
    "gcd1(5, 1)"
   ]
  },
  {
   "cell_type": "code",
   "execution_count": null,
   "id": "treated-background",
   "metadata": {},
   "outputs": [],
   "source": []
  }
 ],
 "metadata": {
  "kernelspec": {
   "display_name": "Python 3",
   "language": "python",
   "name": "python3"
  },
  "language_info": {
   "codemirror_mode": {
    "name": "ipython",
    "version": 3
   },
   "file_extension": ".py",
   "mimetype": "text/x-python",
   "name": "python",
   "nbconvert_exporter": "python",
   "pygments_lexer": "ipython3",
   "version": "3.9.1"
  }
 },
 "nbformat": 4,
 "nbformat_minor": 5
}
