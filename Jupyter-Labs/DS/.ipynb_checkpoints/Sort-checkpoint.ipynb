{
 "cells": [
  {
   "cell_type": "code",
   "execution_count": 1,
   "id": "dress-arbitration",
   "metadata": {},
   "outputs": [],
   "source": [
    "def max_in_range(nums, start, end):\n",
    "    max_index = start \n",
    "    for index in range(start, end):\n",
    "        if nums[index] > nums[max_index]:\n",
    "            max_index = index\n",
    "    return max_index\n",
    "\n",
    "def selection_sort(nums):\n",
    "    \n",
    "    for index in range(len(nums) - 1, 0, -1):\n",
    "        max_i = max_in_range(nums, 0, index + 1)\n",
    "        nums[max_i], nums[index] = nums[index], nums[max_i]\n",
    "        \n",
    "        "
   ]
  },
  {
   "cell_type": "code",
   "execution_count": 2,
   "id": "preceding-competition",
   "metadata": {},
   "outputs": [],
   "source": [
    "import random\n",
    "\n",
    "li = [] \n",
    "\n",
    "for i in range(10):\n",
    "    rand_n = random.randint(1, 20)\n",
    "    if rand_n not in li:\n",
    "        li.append(rand_n)"
   ]
  },
  {
   "cell_type": "code",
   "execution_count": 3,
   "id": "medium-edmonton",
   "metadata": {},
   "outputs": [
    {
     "data": {
      "text/plain": [
       "[11, 20, 13, 2, 8, 3, 19, 10, 16]"
      ]
     },
     "execution_count": 3,
     "metadata": {},
     "output_type": "execute_result"
    }
   ],
   "source": [
    "li"
   ]
  },
  {
   "cell_type": "code",
   "execution_count": 4,
   "id": "streaming-turning",
   "metadata": {},
   "outputs": [],
   "source": [
    "selection_sort(li)\n",
    "        \n",
    "    "
   ]
  },
  {
   "cell_type": "code",
   "execution_count": 5,
   "id": "affected-friendship",
   "metadata": {},
   "outputs": [
    {
     "data": {
      "text/plain": [
       "[2, 3, 8, 10, 11, 13, 16, 19, 20]"
      ]
     },
     "execution_count": 5,
     "metadata": {},
     "output_type": "execute_result"
    }
   ],
   "source": [
    "li"
   ]
  },
  {
   "cell_type": "code",
   "execution_count": 6,
   "id": "mexican-robert",
   "metadata": {},
   "outputs": [],
   "source": [
    "import random\n",
    "\n",
    "l = [] \n",
    "\n",
    "for i in range(10):\n",
    "    rand_n = random.randint(1, 20)\n",
    "    if rand_n not in l:\n",
    "        l.append(rand_n)"
   ]
  },
  {
   "cell_type": "code",
   "execution_count": 7,
   "id": "sudden-journalism",
   "metadata": {},
   "outputs": [],
   "source": [
    "def bubble_sort(nums):\n",
    "    \n",
    "    for i in range(len(nums) - 1):\n",
    "        for j  in range(len(nums) - i -  1):\n",
    "            if nums[j] > nums[j + 1]:\n",
    "                nums[j], nums[j + 1 ] = nums[j + 1], nums[j]"
   ]
  },
  {
   "cell_type": "code",
   "execution_count": 8,
   "id": "comparative-vermont",
   "metadata": {},
   "outputs": [],
   "source": [
    "bubble_sort(l)"
   ]
  },
  {
   "cell_type": "code",
   "execution_count": 9,
   "id": "settled-closing",
   "metadata": {},
   "outputs": [
    {
     "data": {
      "text/plain": [
       "[5, 7, 8, 10, 12, 14, 15, 18, 20]"
      ]
     },
     "execution_count": 9,
     "metadata": {},
     "output_type": "execute_result"
    }
   ],
   "source": [
    "l"
   ]
  },
  {
   "cell_type": "code",
   "execution_count": 10,
   "id": "computational-thomas",
   "metadata": {},
   "outputs": [
    {
     "data": {
      "text/plain": [
       "18"
      ]
     },
     "execution_count": 10,
     "metadata": {},
     "output_type": "execute_result"
    }
   ],
   "source": [
    "l[-2]"
   ]
  },
  {
   "cell_type": "code",
   "execution_count": 2,
   "id": "altered-content",
   "metadata": {},
   "outputs": [],
   "source": [
    "def insertion_sort(nums):\n",
    "    \n",
    "    for point in range(1, len(nums)):\n",
    "        for position in range(point, 0, -1):\n",
    "            if nums[position] < nums[position-1]:\n",
    "                [nums[position], nums[position-1]] =  [nums[position-1], nums[position]]\n",
    "            else:\n",
    "                break"
   ]
  },
  {
   "cell_type": "code",
   "execution_count": null,
   "id": "sealed-delay",
   "metadata": {},
   "outputs": [],
   "source": [
    "# bitwise operator\n",
    "# finding rightmost set bit \n",
    "\n",
    "\n",
    "5 & 2"
   ]
  },
  {
   "cell_type": "code",
   "execution_count": null,
   "id": "genetic-latter",
   "metadata": {},
   "outputs": [],
   "source": [
    "1 % 2"
   ]
  },
  {
   "cell_type": "code",
   "execution_count": null,
   "id": "julian-wagon",
   "metadata": {},
   "outputs": [],
   "source": [
    "1//2"
   ]
  },
  {
   "cell_type": "code",
   "execution_count": null,
   "id": "exterior-limitation",
   "metadata": {},
   "outputs": [],
   "source": [
    "101^1"
   ]
  },
  {
   "cell_type": "code",
   "execution_count": null,
   "id": "median-constant",
   "metadata": {},
   "outputs": [],
   "source": [
    "~101"
   ]
  },
  {
   "cell_type": "code",
   "execution_count": null,
   "id": "english-keyboard",
   "metadata": {},
   "outputs": [],
   "source": [
    "~1"
   ]
  },
  {
   "cell_type": "code",
   "execution_count": null,
   "id": "binary-symbol",
   "metadata": {},
   "outputs": [],
   "source": [
    "a = 10"
   ]
  },
  {
   "cell_type": "code",
   "execution_count": null,
   "id": "imperial-producer",
   "metadata": {},
   "outputs": [],
   "source": [
    "~a|a"
   ]
  },
  {
   "cell_type": "code",
   "execution_count": null,
   "id": "equal-thomson",
   "metadata": {},
   "outputs": [],
   "source": [
    "raw_input()"
   ]
  },
  {
   "cell_type": "code",
   "execution_count": null,
   "id": "sixth-potato",
   "metadata": {},
   "outputs": [],
   "source": [
    "candies = [4, 10, 18, 5, 9]"
   ]
  },
  {
   "cell_type": "code",
   "execution_count": null,
   "id": "alleged-alberta",
   "metadata": {},
   "outputs": [],
   "source": [
    "max_cand = 0\n",
    "for i in candies:\n",
    "    if max_cand < i:\n",
    "        max_cand = i\n",
    "                "
   ]
  },
  {
   "cell_type": "code",
   "execution_count": null,
   "id": "crazy-powder",
   "metadata": {},
   "outputs": [],
   "source": [
    "max_cand"
   ]
  },
  {
   "cell_type": "code",
   "execution_count": null,
   "id": "ahead-french",
   "metadata": {},
   "outputs": [],
   "source": [
    "# count Sort"
   ]
  },
  {
   "cell_type": "code",
   "execution_count": 12,
   "id": "spoken-combination",
   "metadata": {},
   "outputs": [],
   "source": [
    "freq_list = [0]*100"
   ]
  },
  {
   "cell_type": "code",
   "execution_count": 13,
   "id": "loving-taxation",
   "metadata": {},
   "outputs": [],
   "source": [
    "import random"
   ]
  },
  {
   "cell_type": "code",
   "execution_count": 14,
   "id": "collected-tracker",
   "metadata": {},
   "outputs": [],
   "source": [
    "\n",
    "nums = []\n",
    "for i in range(30):\n",
    "    item = random.randint(0, 99)\n",
    "    nums.append(item)"
   ]
  },
  {
   "cell_type": "code",
   "execution_count": 15,
   "id": "handed-crawford",
   "metadata": {},
   "outputs": [],
   "source": [
    "# count of no. incresed in respective index of the number\n",
    "for item in nums:\n",
    "    freq_list[item] += 1"
   ]
  },
  {
   "cell_type": "code",
   "execution_count": 16,
   "id": "bacterial-workplace",
   "metadata": {},
   "outputs": [],
   "source": [
    "result = []"
   ]
  },
  {
   "cell_type": "code",
   "execution_count": 17,
   "id": "imported-window",
   "metadata": {},
   "outputs": [],
   "source": [
    "for index in range(len(freq_list)):\n",
    "    for freq in range(freq_list[index]):\n",
    "        result.append(index)"
   ]
  },
  {
   "cell_type": "code",
   "execution_count": 21,
   "id": "sustainable-pride",
   "metadata": {},
   "outputs": [
    {
     "name": "stdout",
     "output_type": "stream",
     "text": [
      "[0, 4, 4, 4, 10, 10, 14, 17, 19, 22, 23, 26, 26, 29, 32, 36, 38, 39, 44, 47, 56, 59, 62, 65, 66, 75, 86, 87, 90, 95] "
     ]
    }
   ],
   "source": [
    "print(result, end=\" \")"
   ]
  },
  {
   "cell_type": "code",
   "execution_count": 22,
   "id": "economic-reading",
   "metadata": {},
   "outputs": [
    {
     "name": "stdout",
     "output_type": "stream",
     "text": [
      "[1, 0, 0, 0, 3, 0, 0, 0, 0, 0, 2, 0, 0, 0, 1, 0, 0, 1, 0, 1, 0, 0, 1, 1, 0, 0, 2, 0, 0, 1, 0, 0, 1, 0, 0, 0, 1, 0, 1, 1, 0, 0, 0, 0, 1, 0, 0, 1, 0, 0, 0, 0, 0, 0, 0, 0, 1, 0, 0, 1, 0, 0, 1, 0, 0, 1, 1, 0, 0, 0, 0, 0, 0, 0, 0, 1, 0, 0, 0, 0, 0, 0, 0, 0, 0, 0, 1, 1, 0, 0, 1, 0, 0, 0, 0, 1, 0, 0, 0, 0] "
     ]
    }
   ],
   "source": [
    "print(freq_list, end=\" \")"
   ]
  },
  {
   "cell_type": "code",
   "execution_count": null,
   "id": "derived-senate",
   "metadata": {},
   "outputs": [],
   "source": []
  }
 ],
 "metadata": {
  "kernelspec": {
   "display_name": "Python 3",
   "language": "python",
   "name": "python3"
  },
  "language_info": {
   "codemirror_mode": {
    "name": "ipython",
    "version": 3
   },
   "file_extension": ".py",
   "mimetype": "text/x-python",
   "name": "python",
   "nbconvert_exporter": "python",
   "pygments_lexer": "ipython3",
   "version": "3.9.1"
  }
 },
 "nbformat": 4,
 "nbformat_minor": 5
}
