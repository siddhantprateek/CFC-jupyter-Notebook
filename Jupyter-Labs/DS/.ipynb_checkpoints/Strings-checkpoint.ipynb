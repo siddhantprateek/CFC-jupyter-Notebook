{
 "cells": [
  {
   "cell_type": "code",
   "execution_count": 1,
   "id": "happy-advertising",
   "metadata": {},
   "outputs": [],
   "source": [
    "s = \"Siddhant\"\n"
   ]
  },
  {
   "cell_type": "code",
   "execution_count": 2,
   "id": "mathematical-prior",
   "metadata": {},
   "outputs": [
    {
     "data": {
      "text/plain": [
       "'Siddhant'"
      ]
     },
     "execution_count": 2,
     "metadata": {},
     "output_type": "execute_result"
    }
   ],
   "source": [
    "s.capitalize()"
   ]
  },
  {
   "cell_type": "code",
   "execution_count": 19,
   "id": "local-state",
   "metadata": {},
   "outputs": [
    {
     "name": "stdin",
     "output_type": "stream",
     "text": [
      " 4 5 6 7\n"
     ]
    }
   ],
   "source": [
    "li = input()"
   ]
  },
  {
   "cell_type": "code",
   "execution_count": 20,
   "id": "valuable-pastor",
   "metadata": {},
   "outputs": [],
   "source": [
    "li = li.split(' ')"
   ]
  },
  {
   "cell_type": "code",
   "execution_count": 21,
   "id": "silent-indian",
   "metadata": {},
   "outputs": [
    {
     "data": {
      "text/plain": [
       "['4', '5', '6', '7']"
      ]
     },
     "execution_count": 21,
     "metadata": {},
     "output_type": "execute_result"
    }
   ],
   "source": [
    "li"
   ]
  },
  {
   "cell_type": "code",
   "execution_count": 22,
   "id": "coral-exception",
   "metadata": {},
   "outputs": [],
   "source": [
    "li = list(map(int, li)) # converting each and every string into integer"
   ]
  },
  {
   "cell_type": "code",
   "execution_count": 25,
   "id": "roman-norwegian",
   "metadata": {},
   "outputs": [
    {
     "data": {
      "text/plain": [
       "[4, 5, 6, 7]"
      ]
     },
     "execution_count": 25,
     "metadata": {},
     "output_type": "execute_result"
    }
   ],
   "source": [
    "li"
   ]
  },
  {
   "cell_type": "code",
   "execution_count": 24,
   "id": "optimum-algorithm",
   "metadata": {},
   "outputs": [
    {
     "data": {
      "text/plain": [
       "\u001b[1;31mInit signature:\u001b[0m \u001b[0mmap\u001b[0m\u001b[1;33m(\u001b[0m\u001b[0mself\u001b[0m\u001b[1;33m,\u001b[0m \u001b[1;33m/\u001b[0m\u001b[1;33m,\u001b[0m \u001b[1;33m*\u001b[0m\u001b[0margs\u001b[0m\u001b[1;33m,\u001b[0m \u001b[1;33m**\u001b[0m\u001b[0mkwargs\u001b[0m\u001b[1;33m)\u001b[0m\u001b[1;33m\u001b[0m\u001b[1;33m\u001b[0m\u001b[0m\n",
       "\u001b[1;31mDocstring:\u001b[0m     \n",
       "map(func, *iterables) --> map object\n",
       "\n",
       "Make an iterator that computes the function using arguments from\n",
       "each of the iterables.  Stops when the shortest iterable is exhausted.\n",
       "\u001b[1;31mType:\u001b[0m           type\n",
       "\u001b[1;31mSubclasses:\u001b[0m     \n"
      ]
     },
     "metadata": {},
     "output_type": "display_data"
    }
   ],
   "source": [
    "map?"
   ]
  },
  {
   "cell_type": "code",
   "execution_count": 30,
   "id": "public-garden",
   "metadata": {},
   "outputs": [],
   "source": [
    "nums = [4, 5, 6, 7, 8, 9] "
   ]
  },
  {
   "cell_type": "code",
   "execution_count": 31,
   "id": "identified-saint",
   "metadata": {},
   "outputs": [],
   "source": [
    "def square(num):\n",
    "    return num ** 2"
   ]
  },
  {
   "cell_type": "code",
   "execution_count": 32,
   "id": "decent-charter",
   "metadata": {},
   "outputs": [
    {
     "data": {
      "text/plain": [
       "<map at 0x1b08ff612e0>"
      ]
     },
     "execution_count": 32,
     "metadata": {},
     "output_type": "execute_result"
    }
   ],
   "source": [
    "# map(func, *iterables)\n",
    "map(square, nums)"
   ]
  },
  {
   "cell_type": "code",
   "execution_count": 39,
   "id": "yellow-context",
   "metadata": {},
   "outputs": [
    {
     "ename": "SyntaxError",
     "evalue": "can't use starred expression here (<ipython-input-39-9be9615dde9d>, line 1)",
     "output_type": "error",
     "traceback": [
      "\u001b[1;36m  File \u001b[1;32m\"<ipython-input-39-9be9615dde9d>\"\u001b[1;36m, line \u001b[1;32m1\u001b[0m\n\u001b[1;33m    *map(square, nums)\u001b[0m\n\u001b[1;37m    ^\u001b[0m\n\u001b[1;31mSyntaxError\u001b[0m\u001b[1;31m:\u001b[0m can't use starred expression here\n"
     ]
    }
   ],
   "source": [
    "a = map(square, nums)"
   ]
  },
  {
   "cell_type": "code",
   "execution_count": 38,
   "id": "portable-wales",
   "metadata": {},
   "outputs": [
    {
     "name": "stdout",
     "output_type": "stream",
     "text": [
      "16 25 36 49 64 81\n"
     ]
    }
   ],
   "source": [
    "print(a)"
   ]
  },
  {
   "cell_type": "code",
   "execution_count": null,
   "id": "parental-carbon",
   "metadata": {},
   "outputs": [],
   "source": []
  }
 ],
 "metadata": {
  "kernelspec": {
   "display_name": "Python 3",
   "language": "python",
   "name": "python3"
  },
  "language_info": {
   "codemirror_mode": {
    "name": "ipython",
    "version": 3
   },
   "file_extension": ".py",
   "mimetype": "text/x-python",
   "name": "python",
   "nbconvert_exporter": "python",
   "pygments_lexer": "ipython3",
   "version": "3.9.1"
  }
 },
 "nbformat": 4,
 "nbformat_minor": 5
}
