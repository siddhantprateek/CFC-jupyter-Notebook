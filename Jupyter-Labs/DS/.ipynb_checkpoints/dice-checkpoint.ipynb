{
 "cells": [
  {
   "cell_type": "code",
   "execution_count": 2,
   "id": "related-message",
   "metadata": {},
   "outputs": [],
   "source": [
    "def dice(target, faces = 3,proc=\"\"):\n",
    "    \n",
    "    if target == 0:\n",
    "        print(proc)\n",
    "        return\n",
    "    \n",
    "    for face in range(1, faces + 1):\n",
    "        if face <= target:\n",
    "            dice(target - face, faces, proc + str(face))\n",
    "        else:\n",
    "            break"
   ]
  },
  {
   "cell_type": "code",
   "execution_count": 3,
   "id": "normal-challenge",
   "metadata": {},
   "outputs": [
    {
     "name": "stdout",
     "output_type": "stream",
     "text": [
      "111\n",
      "12\n",
      "21\n",
      "3\n"
     ]
    }
   ],
   "source": [
    "dice(3)"
   ]
  },
  {
   "cell_type": "code",
   "execution_count": 5,
   "id": "laden-algeria",
   "metadata": {},
   "outputs": [],
   "source": [
    "def diceCount(target, faces = 3):\n",
    "    \n",
    "    if target == 0:\n",
    "        return 1\n",
    "    total = 0\n",
    "    for face in range(1, faces + 1):\n",
    "        if face <= target:\n",
    "            total += diceCount(target - face, faces)\n",
    "        else:\n",
    "            break\n",
    "            \n",
    "    return total"
   ]
  },
  {
   "cell_type": "code",
   "execution_count": 6,
   "id": "adolescent-indie",
   "metadata": {},
   "outputs": [
    {
     "data": {
      "text/plain": [
       "401"
      ]
     },
     "execution_count": 6,
     "metadata": {},
     "output_type": "execute_result"
    }
   ],
   "source": [
    "diceCount(10, 4)"
   ]
  },
  {
   "cell_type": "code",
   "execution_count": null,
   "id": "atomic-involvement",
   "metadata": {},
   "outputs": [],
   "source": []
  }
 ],
 "metadata": {
  "kernelspec": {
   "display_name": "Python 3",
   "language": "python",
   "name": "python3"
  },
  "language_info": {
   "codemirror_mode": {
    "name": "ipython",
    "version": 3
   },
   "file_extension": ".py",
   "mimetype": "text/x-python",
   "name": "python",
   "nbconvert_exporter": "python",
   "pygments_lexer": "ipython3",
   "version": "3.9.1"
  }
 },
 "nbformat": 4,
 "nbformat_minor": 5
}
