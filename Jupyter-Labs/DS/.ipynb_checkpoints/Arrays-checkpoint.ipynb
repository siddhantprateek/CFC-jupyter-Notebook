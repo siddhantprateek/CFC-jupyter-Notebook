{
 "cells": [
  {
   "cell_type": "code",
   "execution_count": 1,
   "id": "toxic-operator",
   "metadata": {},
   "outputs": [],
   "source": [
    "a = [1 , 7, 5, 9]"
   ]
  },
  {
   "cell_type": "code",
   "execution_count": 3,
   "id": "requested-february",
   "metadata": {},
   "outputs": [
    {
     "data": {
      "text/plain": [
       "9"
      ]
     },
     "execution_count": 3,
     "metadata": {},
     "output_type": "execute_result"
    }
   ],
   "source": [
    "max(a)"
   ]
  },
  {
   "cell_type": "code",
   "execution_count": 4,
   "id": "supposed-valentine",
   "metadata": {},
   "outputs": [],
   "source": [
    "nums = [44 , 100, 56, 98, 28]"
   ]
  },
  {
   "cell_type": "code",
   "execution_count": 5,
   "id": "seeing-malpractice",
   "metadata": {},
   "outputs": [
    {
     "ename": "SyntaxError",
     "evalue": "invalid syntax (<ipython-input-5-5dec82830f77>, line 1)",
     "output_type": "error",
     "traceback": [
      "\u001b[1;36m  File \u001b[1;32m\"<ipython-input-5-5dec82830f77>\"\u001b[1;36m, line \u001b[1;32m1\u001b[0m\n\u001b[1;33m    def binar\u001b[0m\n\u001b[1;37m             ^\u001b[0m\n\u001b[1;31mSyntaxError\u001b[0m\u001b[1;31m:\u001b[0m invalid syntax\n"
     ]
    }
   ],
   "source": [
    "def binary_search(nums, value):\n",
    "    start = 0\n",
    "    end = len(nums) - 1\n",
    "    while start <= end:\n",
    "        mid = (start + end) // 2\n",
    "        if value == nums[mid]:\n",
    "            return mid\n",
    "        elif\n"
   ]
  },
  {
   "cell_type": "code",
   "execution_count": 23,
   "id": "contemporary-accountability",
   "metadata": {},
   "outputs": [],
   "source": [
    "\n",
    "def bubble_Sort(nums):\n",
    "    for i in range(0 ,len(nums)):\n",
    "        for j in range(len(nums) - i - 1):\n",
    "            if nums[j] > nums[j + 1]:\n",
    "                [nums[j], nums[j + 1]] = [nums[j + 1], nums[j]]\n",
    "\n"
   ]
  },
  {
   "cell_type": "code",
   "execution_count": 24,
   "id": "bright-roberts",
   "metadata": {},
   "outputs": [
    {
     "data": {
      "text/plain": [
       "[44, 100, 56, 98, 28]"
      ]
     },
     "execution_count": 24,
     "metadata": {},
     "output_type": "execute_result"
    }
   ],
   "source": [
    "nums"
   ]
  },
  {
   "cell_type": "code",
   "execution_count": 25,
   "id": "active-shame",
   "metadata": {},
   "outputs": [],
   "source": [
    "bubble_Sort(nums)"
   ]
  },
  {
   "cell_type": "code",
   "execution_count": 26,
   "id": "floppy-debut",
   "metadata": {},
   "outputs": [
    {
     "data": {
      "text/plain": [
       "[28, 44, 56, 98, 100]"
      ]
     },
     "execution_count": 26,
     "metadata": {},
     "output_type": "execute_result"
    }
   ],
   "source": [
    "nums"
   ]
  },
  {
   "cell_type": "code",
   "execution_count": 27,
   "id": "architectural-repeat",
   "metadata": {},
   "outputs": [],
   "source": [
    "import random\n",
    "li = []\n",
    "for i in range(10):\n",
    "    li.append(random.randint(10, 50))\n",
    "\n",
    "        "
   ]
  },
  {
   "cell_type": "code",
   "execution_count": 28,
   "id": "south-uzbekistan",
   "metadata": {},
   "outputs": [
    {
     "data": {
      "text/plain": [
       "[37, 30, 24, 13, 29, 49, 33, 30, 31, 30]"
      ]
     },
     "execution_count": 28,
     "metadata": {},
     "output_type": "execute_result"
    }
   ],
   "source": [
    "li"
   ]
  },
  {
   "cell_type": "code",
   "execution_count": 29,
   "id": "engaging-haiti",
   "metadata": {},
   "outputs": [],
   "source": [
    "def insertion_sort(nums):\n",
    "    for point in range(1, len(nums)):\n",
    "        for position in range(point, 0, -1):\n",
    "            # compare it with previous object\n",
    "            if nums[position] < nums[position -1]:\n",
    "                [nums[position], nums[position - 1]] = [nums[position - 1], nums[position]]\n",
    "            else:\n",
    "                break\n",
    "                "
   ]
  },
  {
   "cell_type": "code",
   "execution_count": null,
   "id": "bibliographic-easter",
   "metadata": {},
   "outputs": [],
   "source": [
    "insertion_sort"
   ]
  }
 ],
 "metadata": {
  "kernelspec": {
   "display_name": "Python 3",
   "language": "python",
   "name": "python3"
  },
  "language_info": {
   "codemirror_mode": {
    "name": "ipython",
    "version": 3
   },
   "file_extension": ".py",
   "mimetype": "text/x-python",
   "name": "python",
   "nbconvert_exporter": "python",
   "pygments_lexer": "ipython3",
   "version": "3.9.1"
  }
 },
 "nbformat": 4,
 "nbformat_minor": 5
}
