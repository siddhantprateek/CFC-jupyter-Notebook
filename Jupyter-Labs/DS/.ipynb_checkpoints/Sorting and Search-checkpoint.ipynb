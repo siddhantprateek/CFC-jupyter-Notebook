{
 "cells": [
  {
   "cell_type": "code",
   "execution_count": 1,
   "id": "swedish-madonna",
   "metadata": {},
   "outputs": [],
   "source": [
    "import random\n",
    "li = []\n",
    "\n",
    "for i in range(10):\n",
    "    li.append(random.randint(10, 50))\n"
   ]
  },
  {
   "cell_type": "code",
   "execution_count": 2,
   "id": "unexpected-retrieval",
   "metadata": {},
   "outputs": [
    {
     "data": {
      "text/plain": [
       "[35, 26, 40, 50, 21, 32, 34, 34, 39, 44]"
      ]
     },
     "execution_count": 2,
     "metadata": {},
     "output_type": "execute_result"
    }
   ],
   "source": [
    "li"
   ]
  },
  {
   "cell_type": "code",
   "execution_count": 3,
   "id": "brave-wichita",
   "metadata": {},
   "outputs": [],
   "source": [
    "# binary search is done in sorted list\n",
    "def binary_search(nums, value):\n",
    "    start = 0\n",
    "    end = len(nums) - 1\n",
    "    while start <= end:\n",
    "        mid = (start + end) // 2\n",
    "        if value == nums[mid]:\n",
    "            return mid\n",
    "        elif value < nums[mid]:\n",
    "            end = mid - 1\n",
    "        else:\n",
    "            start = mid + 1\n",
    "    return None\n",
    "    "
   ]
  },
  {
   "cell_type": "code",
   "execution_count": 4,
   "id": "lyric-logan",
   "metadata": {},
   "outputs": [],
   "source": [
    "li.sort()"
   ]
  },
  {
   "cell_type": "code",
   "execution_count": 5,
   "id": "desirable-riverside",
   "metadata": {},
   "outputs": [
    {
     "data": {
      "text/plain": [
       "[21, 26, 32, 34, 34, 35, 39, 40, 44, 50]"
      ]
     },
     "execution_count": 5,
     "metadata": {},
     "output_type": "execute_result"
    }
   ],
   "source": [
    "li"
   ]
  },
  {
   "cell_type": "code",
   "execution_count": 6,
   "id": "coordinate-calendar",
   "metadata": {},
   "outputs": [],
   "source": [
    "binary_search(li , 22)"
   ]
  },
  {
   "cell_type": "code",
   "execution_count": 7,
   "id": "matched-experience",
   "metadata": {},
   "outputs": [],
   "source": [
    "def linear_search(nums, value):\n",
    "    for index, item in enumerate(nums):\n",
    "        if value == item:\n",
    "            return index\n",
    "    "
   ]
  },
  {
   "cell_type": "code",
   "execution_count": 8,
   "id": "caroline-leone",
   "metadata": {},
   "outputs": [],
   "source": [
    "li.sort()"
   ]
  },
  {
   "cell_type": "code",
   "execution_count": 9,
   "id": "beneficial-stick",
   "metadata": {},
   "outputs": [],
   "source": [
    "linear_search(li, 33)"
   ]
  },
  {
   "cell_type": "code",
   "execution_count": 10,
   "id": "federal-billy",
   "metadata": {},
   "outputs": [
    {
     "data": {
      "text/plain": [
       "[50, 44, 40, 39, 35, 34, 34, 32, 26, 21]"
      ]
     },
     "execution_count": 10,
     "metadata": {},
     "output_type": "execute_result"
    }
   ],
   "source": [
    "li.sort(reverse=True)\n",
    "li"
   ]
  },
  {
   "cell_type": "code",
   "execution_count": 11,
   "id": "indie-novel",
   "metadata": {},
   "outputs": [],
   "source": [
    "# the higest value will reach the end \n",
    "# in the end we won't use the highest value\n",
    "def bubble_sort(nums):\n",
    "    \n",
    "    for i in range(len(nums)):\n",
    "        for j in range(len(nums) - i - 1):\n",
    "            if nums[j] > nums[j + 1]:\n",
    "                [nums[j], nums[j+1]] = [nums[j+1], nums[j]]\n",
    "        return nums"
   ]
  },
  {
   "cell_type": "code",
   "execution_count": 12,
   "id": "falling-comment",
   "metadata": {},
   "outputs": [
    {
     "data": {
      "text/plain": [
       "[50, 44, 40, 39, 35, 34, 34, 32, 26, 21]"
      ]
     },
     "execution_count": 12,
     "metadata": {},
     "output_type": "execute_result"
    }
   ],
   "source": [
    "li"
   ]
  },
  {
   "cell_type": "code",
   "execution_count": 13,
   "id": "representative-provision",
   "metadata": {},
   "outputs": [],
   "source": [
    "nums = li"
   ]
  },
  {
   "cell_type": "code",
   "execution_count": 14,
   "id": "tight-daisy",
   "metadata": {},
   "outputs": [
    {
     "data": {
      "text/plain": [
       "[50, 44, 40, 39, 35, 34, 34, 32, 26, 21]"
      ]
     },
     "execution_count": 14,
     "metadata": {},
     "output_type": "execute_result"
    }
   ],
   "source": [
    "nums"
   ]
  },
  {
   "cell_type": "code",
   "execution_count": 15,
   "id": "current-determination",
   "metadata": {},
   "outputs": [
    {
     "name": "stdout",
     "output_type": "stream",
     "text": [
      "0 iteration: [44, 40, 39, 35, 34, 34, 32, 26, 21, 50]\n",
      "1 iteration: [40, 39, 35, 34, 34, 32, 26, 21, 44, 50]\n",
      "2 iteration: [39, 35, 34, 34, 32, 26, 21, 40, 44, 50]\n",
      "3 iteration: [35, 34, 34, 32, 26, 21, 39, 40, 44, 50]\n",
      "4 iteration: [34, 34, 32, 26, 21, 35, 39, 40, 44, 50]\n",
      "5 iteration: [34, 32, 26, 21, 34, 35, 39, 40, 44, 50]\n",
      "6 iteration: [32, 26, 21, 34, 34, 35, 39, 40, 44, 50]\n",
      "7 iteration: [26, 21, 32, 34, 34, 35, 39, 40, 44, 50]\n",
      "8 iteration: [21, 26, 32, 34, 34, 35, 39, 40, 44, 50]\n",
      "9 iteration: [21, 26, 32, 34, 34, 35, 39, 40, 44, 50]\n"
     ]
    }
   ],
   "source": [
    "for i in  range(len(nums)):\n",
    "    print(f'{i} iteration: {bubble_sort(nums)}')"
   ]
  },
  {
   "cell_type": "code",
   "execution_count": 16,
   "id": "bigger-steal",
   "metadata": {},
   "outputs": [],
   "source": [
    "list_2 = []\n",
    "for i in range(10):\n",
    "    list_2.append(random.randint(10, 40))"
   ]
  },
  {
   "cell_type": "code",
   "execution_count": 17,
   "id": "subjective-heather",
   "metadata": {},
   "outputs": [
    {
     "data": {
      "text/plain": [
       "[18, 32, 22, 39, 21, 26, 15, 18, 20, 14]"
      ]
     },
     "execution_count": 17,
     "metadata": {},
     "output_type": "execute_result"
    }
   ],
   "source": [
    "list_2"
   ]
  },
  {
   "cell_type": "code",
   "execution_count": 18,
   "id": "covered-ferry",
   "metadata": {},
   "outputs": [],
   "source": [
    "def insertion_sort(nums):\n",
    "    \n",
    "    for point in range(1, len(nums)):\n",
    "        for position in range(point, 0, -1):\n",
    "            if nums[position] < nums[position-1]:\n",
    "                [nums[position], nums[position-1]] =  [nums[position-1], nums[position]]\n",
    "            else:\n",
    "                break"
   ]
  },
  {
   "cell_type": "code",
   "execution_count": 19,
   "id": "pharmaceutical-overall",
   "metadata": {},
   "outputs": [],
   "source": [
    "insertion_sort(list_2)"
   ]
  },
  {
   "cell_type": "code",
   "execution_count": 20,
   "id": "ignored-offense",
   "metadata": {},
   "outputs": [
    {
     "data": {
      "text/plain": [
       "[14, 15, 18, 18, 20, 21, 22, 26, 32, 39]"
      ]
     },
     "execution_count": 20,
     "metadata": {},
     "output_type": "execute_result"
    }
   ],
   "source": [
    "list_2"
   ]
  },
  {
   "cell_type": "code",
   "execution_count": null,
   "id": "pursuant-automation",
   "metadata": {},
   "outputs": [],
   "source": [
    "def max_in_range(nums, start, end):\n",
    "    max_index = start\n",
    "    for index in range(start, end):\n",
    "        if(nums[index] > nums[max_index]):\n",
    "            max_index = index\n",
    "    \n",
    "    return max_index"
   ]
  },
  {
   "cell_type": "code",
   "execution_count": 2,
   "id": "adjustable-richards",
   "metadata": {},
   "outputs": [],
   "source": [
    "def selection_sort(nums):\n",
    "    \n",
    "    for index in range(len(nums) - 1, 0, -1):\n",
    "        mi = max_in_range(nums, 0, index + 1)\n",
    "        # when ever it finds the highest value it swaps it with last index\n",
    "        [nums[mi], nums[index]] = [nums[index], nums[mi]]\n",
    "        "
   ]
  },
  {
   "cell_type": "code",
   "execution_count": 1,
   "id": "endless-precipitation",
   "metadata": {},
   "outputs": [],
   "source": [
    "import random \n",
    "\n",
    "list1 = []\n",
    "for i in range(10):\n",
    "    item = random.randint(1, 100)\n",
    "    if item not in list1:\n",
    "        list1.append(item)\n",
    "        \n",
    "list2 = []\n",
    "for i in range(10):\n",
    "    item = random.randint(1, 100)\n",
    "    if item not in list2:\n",
    "        list2.append(item)"
   ]
  },
  {
   "cell_type": "code",
   "execution_count": 1,
   "id": "otherwise-marine",
   "metadata": {},
   "outputs": [],
   "source": []
  },
  {
   "cell_type": "code",
   "execution_count": null,
   "id": "fancy-growing",
   "metadata": {},
   "outputs": [],
   "source": []
  }
 ],
 "metadata": {
  "kernelspec": {
   "display_name": "Python 3",
   "language": "python",
   "name": "python3"
  },
  "language_info": {
   "codemirror_mode": {
    "name": "ipython",
    "version": 3
   },
   "file_extension": ".py",
   "mimetype": "text/x-python",
   "name": "python",
   "nbconvert_exporter": "python",
   "pygments_lexer": "ipython3",
   "version": "3.9.1"
  }
 },
 "nbformat": 4,
 "nbformat_minor": 5
}
