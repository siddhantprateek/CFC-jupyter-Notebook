{
 "cells": [
  {
   "cell_type": "code",
   "execution_count": 1,
   "id": "charged-designer",
   "metadata": {},
   "outputs": [],
   "source": [
    "def isPrime(n):\n",
    "    if n <= 1:\n",
    "        return False\n",
    "    # we check it until it's sqrt because after that \n",
    "    # its factors are been repeated,\n",
    "    for i in range(2, int(n**0.5) + 1):\n",
    "        if n % i == 0:\n",
    "            return False\n",
    "    return True"
   ]
  },
  {
   "cell_type": "code",
   "execution_count": null,
   "id": "convertible-alarm",
   "metadata": {},
   "outputs": [],
   "source": []
  },
  {
   "cell_type": "code",
   "execution_count": 3,
   "id": "front-property",
   "metadata": {},
   "outputs": [
    {
     "name": "stdout",
     "output_type": "stream",
     "text": [
      "2 3 5 7 11 13 17 19 23 29 31 37 41 43 47 "
     ]
    }
   ],
   "source": [
    "# find prime in 2 , 20\n",
    "\n",
    "for i in range(2,  49):\n",
    "    if isPrime(i):\n",
    "        print(i, end=\" \")"
   ]
  },
  {
   "cell_type": "code",
   "execution_count": 2,
   "id": "powerful-knitting",
   "metadata": {},
   "outputs": [],
   "source": [
    "def sieve(n):\n",
    "    # True means prime\n",
    "    prime = [True for i in range(n + 1)]\n",
    "    p = 2\n",
    "    # only till sqrt\n",
    "    while(p*p <= n):\n",
    "        if prime[p] == True:\n",
    "            for i in range(p * p, n + 1, p):\n",
    "                prime[i] = False\n",
    "        p  += 1\n",
    "    \n",
    "    # Display\n",
    "    for p in range(2,  n + 1) :\n",
    "        if prime[p] == True:\n",
    "            print(p, end=\" \")\n"
   ]
  },
  {
   "cell_type": "code",
   "execution_count": 3,
   "id": "respective-monroe",
   "metadata": {},
   "outputs": [
    {
     "name": "stdout",
     "output_type": "stream",
     "text": [
      "2 3 5 7 11 13 17 19 "
     ]
    }
   ],
   "source": [
    "sieve(20)"
   ]
  },
  {
   "cell_type": "code",
   "execution_count": 13,
   "id": "further-shareware",
   "metadata": {},
   "outputs": [],
   "source": [
    "\n",
    "%config IPCompleter.greedy=True"
   ]
  },
  {
   "cell_type": "code",
   "execution_count": 1,
   "id": "presidential-prior",
   "metadata": {},
   "outputs": [],
   "source": [
    "# [2 , 3, 4, 5, 6, 7, 8, 9, 10,......, n + 1 ]\n",
    "def SieveOfEratosthenes(n):\n",
    "    prime = [True for i in range( n + 1)]\n",
    "    p = 2\n",
    "    while p*p < n:\n",
    "        # checks whether the factor of p is True\n",
    "        if prime[p] == True:\n",
    "            # with step p it will find all the factors of \n",
    "            for i in range(p*p , n + 1, p):\n",
    "                prime[i] = False\n",
    "        p+=1"
   ]
  },
  {
   "cell_type": "code",
   "execution_count": 8,
   "id": "egyptian-safety",
   "metadata": {},
   "outputs": [],
   "source": [
    "def sieveofEratosthenes(n):\n",
    "    prime = [True for i in range(n + 1)]\n",
    "    p = 2\n",
    "    while p * p <= n:\n",
    "        if prime[p] == True:\n",
    "            for i in range(p*p, n + 1, p):\n",
    "                prime[i] = False\n",
    "        p += 1\n",
    "        \n",
    "    for p in range(2, n + 1):\n",
    "        if prime[p] == True:\n",
    "            print(p, end=\" \")"
   ]
  },
  {
   "cell_type": "code",
   "execution_count": 9,
   "id": "external-course",
   "metadata": {},
   "outputs": [
    {
     "name": "stdout",
     "output_type": "stream",
     "text": [
      "2 3 5 7 11 13 "
     ]
    }
   ],
   "source": [
    "sieveofEratosthenes(15)"
   ]
  },
  {
   "cell_type": "code",
   "execution_count": null,
   "id": "honey-mining",
   "metadata": {},
   "outputs": [],
   "source": [
    "# die Hard Bucket problem\n",
    "\n",
    "def die_hard_riddle(a, b, target):\n",
    "    if a < target < b:\n",
    "        \n",
    "    return None\n"
   ]
  },
  {
   "cell_type": "code",
   "execution_count": null,
   "id": "occupational-coordination",
   "metadata": {},
   "outputs": [],
   "source": []
  },
  {
   "cell_type": "code",
   "execution_count": null,
   "id": "weird-poetry",
   "metadata": {},
   "outputs": [],
   "source": []
  },
  {
   "cell_type": "code",
   "execution_count": null,
   "id": "corrected-bride",
   "metadata": {},
   "outputs": [],
   "source": []
  },
  {
   "cell_type": "code",
   "execution_count": null,
   "id": "delayed-conversion",
   "metadata": {},
   "outputs": [],
   "source": []
  }
 ],
 "metadata": {
  "kernelspec": {
   "display_name": "Python 3",
   "language": "python",
   "name": "python3"
  },
  "language_info": {
   "codemirror_mode": {
    "name": "ipython",
    "version": 3
   },
   "file_extension": ".py",
   "mimetype": "text/x-python",
   "name": "python",
   "nbconvert_exporter": "python",
   "pygments_lexer": "ipython3",
   "version": "3.9.1"
  }
 },
 "nbformat": 4,
 "nbformat_minor": 5
}
