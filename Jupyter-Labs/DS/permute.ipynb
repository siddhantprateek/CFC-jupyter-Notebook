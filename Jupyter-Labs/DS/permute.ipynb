{
 "cells": [
  {
   "cell_type": "code",
   "execution_count": 3,
   "id": "plastic-marshall",
   "metadata": {},
   "outputs": [],
   "source": [
    "def permute(unproc, proc=\"\"):\n",
    "    if unproc == \"\":\n",
    "        print(proc)\n",
    "        return\n",
    "    \n",
    "    for index, item in enumerate(unproc):\n",
    "        permute(unproc[:index] + unproc[index + 1:], proc + item)"
   ]
  },
  {
   "cell_type": "code",
   "execution_count": 4,
   "id": "chubby-remains",
   "metadata": {},
   "outputs": [
    {
     "name": "stdout",
     "output_type": "stream",
     "text": [
      "abc\n",
      "acb\n",
      "bac\n",
      "bca\n",
      "cab\n",
      "cba\n"
     ]
    }
   ],
   "source": [
    "permute(\"abc\")"
   ]
  },
  {
   "cell_type": "code",
   "execution_count": 12,
   "id": "uniform-yahoo",
   "metadata": {},
   "outputs": [],
   "source": [
    "def permute(unproc, result = [],proc=\"\"):\n",
    "    if unproc == \"\":\n",
    "        result.append(proc)\n",
    "        return\n",
    "    \n",
    "    for index, item in enumerate(unproc):\n",
    "        permute(unproc[:index] + unproc[index + 1:], result, proc + item)\n",
    "        \n",
    "    return result"
   ]
  },
  {
   "cell_type": "code",
   "execution_count": 13,
   "id": "ordinary-exemption",
   "metadata": {},
   "outputs": [
    {
     "data": {
      "text/plain": [
       "['abc', 'acb', 'bac', 'bca', 'cab', 'cba']"
      ]
     },
     "execution_count": 13,
     "metadata": {},
     "output_type": "execute_result"
    }
   ],
   "source": [
    "permute(\"abc\")"
   ]
  },
  {
   "cell_type": "code",
   "execution_count": null,
   "id": "turned-creator",
   "metadata": {},
   "outputs": [],
   "source": []
  }
 ],
 "metadata": {
  "kernelspec": {
   "display_name": "Python 3",
   "language": "python",
   "name": "python3"
  },
  "language_info": {
   "codemirror_mode": {
    "name": "ipython",
    "version": 3
   },
   "file_extension": ".py",
   "mimetype": "text/x-python",
   "name": "python",
   "nbconvert_exporter": "python",
   "pygments_lexer": "ipython3",
   "version": "3.9.1"
  }
 },
 "nbformat": 4,
 "nbformat_minor": 5
}
