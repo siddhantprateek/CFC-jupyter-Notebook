{
 "cells": [
  {
   "cell_type": "code",
   "execution_count": 7,
   "id": "supposed-pound",
   "metadata": {},
   "outputs": [],
   "source": [
    "def subsequence(unproc, proc=\"\"):\n",
    "    if unproc == \"\":\n",
    "        print(proc)\n",
    "        return\n",
    "    ch = unproc[0]\n",
    "    subsequence(unproc[1:], proc + ch)\n",
    "    subsequence(unproc[1:], proc)"
   ]
  },
  {
   "cell_type": "code",
   "execution_count": 8,
   "id": "meaning-sucking",
   "metadata": {},
   "outputs": [
    {
     "name": "stdout",
     "output_type": "stream",
     "text": [
      "abc\n",
      "ab\n",
      "ac\n",
      "a\n",
      "bc\n",
      "b\n",
      "c\n",
      "\n"
     ]
    }
   ],
   "source": [
    "subsequence(\"abc\")"
   ]
  },
  {
   "cell_type": "code",
   "execution_count": 11,
   "id": "appreciated-closer",
   "metadata": {},
   "outputs": [],
   "source": [
    "def subsequence(unproc, result = [],proc=\"\"):\n",
    "    # if alter the parament in function you must provide argument in function call also.\n",
    "    if unproc == \"\":\n",
    "        result.append(proc)\n",
    "        return \n",
    "    ch = unproc[0]\n",
    "    subsequence(unproc[1:], result, proc + ch)\n",
    "    subsequence(unproc[1:], result, proc)\n",
    "    \n",
    "    return result"
   ]
  },
  {
   "cell_type": "code",
   "execution_count": 12,
   "id": "pressing-journal",
   "metadata": {},
   "outputs": [
    {
     "data": {
      "text/plain": [
       "['abc', 'ab', 'ac', 'a', 'bc', 'b', 'c', '']"
      ]
     },
     "execution_count": 12,
     "metadata": {},
     "output_type": "execute_result"
    }
   ],
   "source": [
    "subsequence(\"abc\")"
   ]
  },
  {
   "cell_type": "code",
   "execution_count": null,
   "id": "representative-validity",
   "metadata": {},
   "outputs": [],
   "source": []
  },
  {
   "cell_type": "code",
   "execution_count": null,
   "id": "respective-regard",
   "metadata": {},
   "outputs": [],
   "source": []
  },
  {
   "cell_type": "code",
   "execution_count": null,
   "id": "endless-catch",
   "metadata": {},
   "outputs": [],
   "source": [
    "__"
   ]
  }
 ],
 "metadata": {
  "kernelspec": {
   "display_name": "Python 3",
   "language": "python",
   "name": "python3"
  },
  "language_info": {
   "codemirror_mode": {
    "name": "ipython",
    "version": 3
   },
   "file_extension": ".py",
   "mimetype": "text/x-python",
   "name": "python",
   "nbconvert_exporter": "python",
   "pygments_lexer": "ipython3",
   "version": "3.9.1"
  }
 },
 "nbformat": 4,
 "nbformat_minor": 5
}
