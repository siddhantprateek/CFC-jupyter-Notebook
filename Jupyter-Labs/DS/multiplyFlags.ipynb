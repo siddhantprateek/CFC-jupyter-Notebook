{
 "cells": [
  {
   "cell_type": "code",
   "execution_count": 2,
   "id": "three-strengthening",
   "metadata": {},
   "outputs": [
    {
     "name": "stdout",
     "output_type": "stream",
     "text": [
      "passed\n",
      "passed\n",
      "passed\n",
      "passed\n"
     ]
    }
   ],
   "source": [
    "x, y, z = 0, 1, 0\n",
    "\n",
    "\n",
    "if x == 1 or y == 1 or z == 1:\n",
    "    print(\"passed\")\n",
    "    \n",
    "if 1 in (x, y, z):\n",
    "    print(\"passed\")\n",
    "    \n",
    "if any((x, y, z)):\n",
    "    print(\"passed\")\n",
    "    \n",
    "if x or y or z:\n",
    "    print(\"passed\")"
   ]
  },
  {
   "cell_type": "code",
   "execution_count": 4,
   "id": "impressive-sixth",
   "metadata": {},
   "outputs": [],
   "source": [
    "\n",
    "\n",
    "# Dictionary "
   ]
  },
  {
   "cell_type": "code",
   "execution_count": 5,
   "id": "offshore-verse",
   "metadata": {},
   "outputs": [],
   "source": [
    "x = {'a': 1, 'b': 2}\n",
    "y = {'b': 3, 'd': 4}\n",
    "\n"
   ]
  },
  {
   "cell_type": "code",
   "execution_count": 6,
   "id": "sound-bronze",
   "metadata": {},
   "outputs": [],
   "source": [
    "z = {**x, **y}"
   ]
  },
  {
   "cell_type": "code",
   "execution_count": 7,
   "id": "contrary-toddler",
   "metadata": {},
   "outputs": [
    {
     "data": {
      "text/plain": [
       "{'a': 1, 'b': 3, 'd': 4}"
      ]
     },
     "execution_count": 7,
     "metadata": {},
     "output_type": "execute_result"
    }
   ],
   "source": [
    "z"
   ]
  },
  {
   "cell_type": "code",
   "execution_count": 8,
   "id": "minute-pacific",
   "metadata": {},
   "outputs": [],
   "source": [
    "m = dict(x, **y)"
   ]
  },
  {
   "cell_type": "markdown",
   "id": "intelligent-thompson",
   "metadata": {},
   "source": [
    " pyhton merges dictionary duplicates keys in order, overwriting the duplicates from left to right "
   ]
  },
  {
   "cell_type": "code",
   "execution_count": 9,
   "id": "emerging-alcohol",
   "metadata": {},
   "outputs": [
    {
     "data": {
      "text/plain": [
       "{'a': 1, 'b': 3, 'd': 4}"
      ]
     },
     "execution_count": 9,
     "metadata": {},
     "output_type": "execute_result"
    }
   ],
   "source": [
    "m"
   ]
  },
  {
   "cell_type": "code",
   "execution_count": null,
   "id": "boxed-heather",
   "metadata": {},
   "outputs": [],
   "source": []
  }
 ],
 "metadata": {
  "kernelspec": {
   "display_name": "Python 3",
   "language": "python",
   "name": "python3"
  },
  "language_info": {
   "codemirror_mode": {
    "name": "ipython",
    "version": 3
   },
   "file_extension": ".py",
   "mimetype": "text/x-python",
   "name": "python",
   "nbconvert_exporter": "python",
   "pygments_lexer": "ipython3",
   "version": "3.9.1"
  }
 },
 "nbformat": 4,
 "nbformat_minor": 5
}
