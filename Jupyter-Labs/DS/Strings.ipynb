{
 "cells": [
  {
   "cell_type": "code",
   "execution_count": 1,
   "id": "friendly-palmer",
   "metadata": {},
   "outputs": [],
   "source": [
    "s = \"Siddhant\"\n"
   ]
  },
  {
   "cell_type": "code",
   "execution_count": 2,
   "id": "institutional-magazine",
   "metadata": {},
   "outputs": [
    {
     "data": {
      "text/plain": [
       "'Siddhant'"
      ]
     },
     "execution_count": 2,
     "metadata": {},
     "output_type": "execute_result"
    }
   ],
   "source": [
    "s.capitalize()"
   ]
  },
  {
   "cell_type": "code",
   "execution_count": 19,
   "id": "recreational-thunder",
   "metadata": {},
   "outputs": [
    {
     "name": "stdin",
     "output_type": "stream",
     "text": [
      " 4 5 6 7\n"
     ]
    }
   ],
   "source": [
    "li = input()"
   ]
  },
  {
   "cell_type": "code",
   "execution_count": 20,
   "id": "removed-professional",
   "metadata": {},
   "outputs": [],
   "source": [
    "li = li.split(' ')"
   ]
  },
  {
   "cell_type": "code",
   "execution_count": 21,
   "id": "interested-palestinian",
   "metadata": {},
   "outputs": [
    {
     "data": {
      "text/plain": [
       "['4', '5', '6', '7']"
      ]
     },
     "execution_count": 21,
     "metadata": {},
     "output_type": "execute_result"
    }
   ],
   "source": [
    "li"
   ]
  },
  {
   "cell_type": "code",
   "execution_count": 22,
   "id": "arabic-intention",
   "metadata": {},
   "outputs": [],
   "source": [
    "li = list(map(int, li)) # converting each and every string into integer"
   ]
  },
  {
   "cell_type": "code",
   "execution_count": 25,
   "id": "thermal-exhibit",
   "metadata": {},
   "outputs": [
    {
     "data": {
      "text/plain": [
       "[4, 5, 6, 7]"
      ]
     },
     "execution_count": 25,
     "metadata": {},
     "output_type": "execute_result"
    }
   ],
   "source": [
    "li"
   ]
  },
  {
   "cell_type": "code",
   "execution_count": 24,
   "id": "opponent-lancaster",
   "metadata": {},
   "outputs": [
    {
     "data": {
      "text/plain": [
       "\u001b[1;31mInit signature:\u001b[0m \u001b[0mmap\u001b[0m\u001b[1;33m(\u001b[0m\u001b[0mself\u001b[0m\u001b[1;33m,\u001b[0m \u001b[1;33m/\u001b[0m\u001b[1;33m,\u001b[0m \u001b[1;33m*\u001b[0m\u001b[0margs\u001b[0m\u001b[1;33m,\u001b[0m \u001b[1;33m**\u001b[0m\u001b[0mkwargs\u001b[0m\u001b[1;33m)\u001b[0m\u001b[1;33m\u001b[0m\u001b[1;33m\u001b[0m\u001b[0m\n",
       "\u001b[1;31mDocstring:\u001b[0m     \n",
       "map(func, *iterables) --> map object\n",
       "\n",
       "Make an iterator that computes the function using arguments from\n",
       "each of the iterables.  Stops when the shortest iterable is exhausted.\n",
       "\u001b[1;31mType:\u001b[0m           type\n",
       "\u001b[1;31mSubclasses:\u001b[0m     \n"
      ]
     },
     "metadata": {},
     "output_type": "display_data"
    }
   ],
   "source": [
    "map?"
   ]
  },
  {
   "cell_type": "code",
   "execution_count": 30,
   "id": "alternate-hamburg",
   "metadata": {},
   "outputs": [],
   "source": [
    "nums = [4, 5, 6, 7, 8, 9] "
   ]
  },
  {
   "cell_type": "code",
   "execution_count": 31,
   "id": "permanent-usage",
   "metadata": {},
   "outputs": [],
   "source": [
    "def square(num):\n",
    "    return num ** 2"
   ]
  },
  {
   "cell_type": "code",
   "execution_count": 32,
   "id": "catholic-warehouse",
   "metadata": {},
   "outputs": [
    {
     "data": {
      "text/plain": [
       "<map at 0x1b08ff612e0>"
      ]
     },
     "execution_count": 32,
     "metadata": {},
     "output_type": "execute_result"
    }
   ],
   "source": [
    "# map(func, *iterables)\n",
    "map(square, nums)"
   ]
  },
  {
   "cell_type": "code",
   "execution_count": 41,
   "id": "associate-executive",
   "metadata": {},
   "outputs": [],
   "source": [
    "a = map(square, nums)"
   ]
  },
  {
   "cell_type": "code",
   "execution_count": 42,
   "id": "radical-labor",
   "metadata": {},
   "outputs": [
    {
     "name": "stdout",
     "output_type": "stream",
     "text": [
      "16 25 36 49 64 81\n"
     ]
    }
   ],
   "source": [
    "print(*a)"
   ]
  },
  {
   "cell_type": "code",
   "execution_count": 44,
   "id": "integrated-occasion",
   "metadata": {},
   "outputs": [],
   "source": [
    "nums = [i for i in range(10)]"
   ]
  },
  {
   "cell_type": "code",
   "execution_count": 45,
   "id": "compound-moderator",
   "metadata": {},
   "outputs": [
    {
     "data": {
      "text/plain": [
       "[0, 1, 2, 3, 4, 5, 6, 7, 8, 9]"
      ]
     },
     "execution_count": 45,
     "metadata": {},
     "output_type": "execute_result"
    }
   ],
   "source": [
    "nums"
   ]
  },
  {
   "cell_type": "code",
   "execution_count": 46,
   "id": "junior-prescription",
   "metadata": {},
   "outputs": [],
   "source": [
    "nums = [*range(10)]"
   ]
  },
  {
   "cell_type": "code",
   "execution_count": 47,
   "id": "sharing-weather",
   "metadata": {},
   "outputs": [
    {
     "data": {
      "text/plain": [
       "[0, 1, 2, 3, 4, 5, 6, 7, 8, 9]"
      ]
     },
     "execution_count": 47,
     "metadata": {},
     "output_type": "execute_result"
    }
   ],
   "source": [
    "nums"
   ]
  },
  {
   "cell_type": "code",
   "execution_count": 48,
   "id": "acting-appointment",
   "metadata": {},
   "outputs": [
    {
     "data": {
      "text/plain": [
       "[4, 5, 6, 7]"
      ]
     },
     "execution_count": 48,
     "metadata": {},
     "output_type": "execute_result"
    }
   ],
   "source": [
    "li"
   ]
  },
  {
   "cell_type": "code",
   "execution_count": 51,
   "id": "innocent-kazakhstan",
   "metadata": {},
   "outputs": [
    {
     "data": {
      "text/plain": [
       "'4 hey! 5 hey! 6 hey! 7'"
      ]
     },
     "execution_count": 51,
     "metadata": {},
     "output_type": "execute_result"
    }
   ],
   "source": [
    "\" hey! \".join(['4', '5', '6', '7']) # object inside join must be a string"
   ]
  },
  {
   "cell_type": "code",
   "execution_count": null,
   "id": "registered-richardson",
   "metadata": {},
   "outputs": [],
   "source": []
  },
  {
   "cell_type": "code",
   "execution_count": null,
   "id": "detailed-gregory",
   "metadata": {},
   "outputs": [],
   "source": []
  }
 ],
 "metadata": {
  "kernelspec": {
   "display_name": "Python 3",
   "language": "python",
   "name": "python3"
  },
  "language_info": {
   "codemirror_mode": {
    "name": "ipython",
    "version": 3
   },
   "file_extension": ".py",
   "mimetype": "text/x-python",
   "name": "python",
   "nbconvert_exporter": "python",
   "pygments_lexer": "ipython3",
   "version": "3.9.1"
  }
 },
 "nbformat": 4,
 "nbformat_minor": 5
}
