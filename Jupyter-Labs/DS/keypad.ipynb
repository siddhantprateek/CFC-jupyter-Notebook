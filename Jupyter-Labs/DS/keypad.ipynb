{
 "cells": [
  {
   "cell_type": "code",
   "execution_count": 8,
   "id": "directed-association",
   "metadata": {},
   "outputs": [],
   "source": [
    "def getkeyletters(key):\n",
    "    keys = [\"\", \"\", \"abc\", \"def\", \"ghi\", \"jkl\", \"mno\", \"pqrs\", \"tuv\", \"wxyz\"] \n",
    "    return list(keys[key])"
   ]
  },
  {
   "cell_type": "code",
   "execution_count": null,
   "id": "forward-programming",
   "metadata": {},
   "outputs": [],
   "source": []
  },
  {
   "cell_type": "code",
   "execution_count": 9,
   "id": "statutory-savage",
   "metadata": {},
   "outputs": [],
   "source": [
    "def keypad(unproc,result=[], proc = \"\"):\n",
    "    \n",
    "    if unproc == \"\":\n",
    "        result.append(proc)\n",
    "        return\n",
    "    \n",
    "    key = int(unproc[0]) # taking first num letter to creat cobination\n",
    "    letters = getkeyletters(key)\n",
    "    \n",
    "    for letter in letters:\n",
    "        keypad(unproc[1:], result, proc + letter)\n",
    "        \n",
    "    return result"
   ]
  },
  {
   "cell_type": "code",
   "execution_count": 10,
   "id": "confirmed-statement",
   "metadata": {},
   "outputs": [
    {
     "data": {
      "text/plain": [
       "['a', 'b', 'c']"
      ]
     },
     "execution_count": 10,
     "metadata": {},
     "output_type": "execute_result"
    }
   ],
   "source": [
    "keypad(\"2\")"
   ]
  },
  {
   "cell_type": "code",
   "execution_count": null,
   "id": "modular-constant",
   "metadata": {},
   "outputs": [],
   "source": [
    "def keypad2(unproc, result=[], proc=\"\"):\n",
    "    if unproc == \"\":\n",
    "        result.append(proc)\n",
    "        return\n",
    "    \n",
    "    key = int(unproc[0])\n",
    "    keys = getkeyletters(key)\n",
    "    \n",
    "    # the sub components of tree in first num is in proc\n",
    "    for letter in keys:\n",
    "        keypad2(unproc[1:], result, proc + letter)\n",
    "        \n",
    "    return result"
   ]
  },
  {
   "cell_type": "code",
   "execution_count": null,
   "id": "threatened-angle",
   "metadata": {},
   "outputs": [],
   "source": []
  }
 ],
 "metadata": {
  "kernelspec": {
   "display_name": "Python 3",
   "language": "python",
   "name": "python3"
  },
  "language_info": {
   "codemirror_mode": {
    "name": "ipython",
    "version": 3
   },
   "file_extension": ".py",
   "mimetype": "text/x-python",
   "name": "python",
   "nbconvert_exporter": "python",
   "pygments_lexer": "ipython3",
   "version": "3.9.1"
  }
 },
 "nbformat": 4,
 "nbformat_minor": 5
}
