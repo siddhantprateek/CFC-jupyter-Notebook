{
 "cells": [
  {
   "cell_type": "code",
   "execution_count": 4,
   "id": "incomplete-integer",
   "metadata": {},
   "outputs": [],
   "source": [
    "def getkeyletters(key):\n",
    "    keys = [\"\", \"\", \"abc\", \"def\", \"ghi\", \"jkl\", \"mno\", \"pqrs\", \"tuv\", \"wxyz\"] \n",
    "    return list(keys[key])"
   ]
  },
  {
   "cell_type": "code",
   "execution_count": null,
   "id": "infrared-newcastle",
   "metadata": {},
   "outputs": [],
   "source": []
  },
  {
   "cell_type": "code",
   "execution_count": 5,
   "id": "adjacent-washer",
   "metadata": {},
   "outputs": [],
   "source": [
    "def keypad(unproc,result=[], proc = \"\"):\n",
    "    \n",
    "    if unproc == \"\":\n",
    "        result.append(proc)\n",
    "        return\n",
    "    \n",
    "    key = int(unproc[0]) # taking first num letter to creat cobination\n",
    "    letters = getkeyletters(key)\n",
    "    \n",
    "    for letter in letters:\n",
    "        keypad(unproc[1:], result, proc + letter)\n",
    "        \n",
    "    return result"
   ]
  },
  {
   "cell_type": "code",
   "execution_count": 6,
   "id": "differential-climate",
   "metadata": {},
   "outputs": [
    {
     "data": {
      "text/plain": [
       "[]"
      ]
     },
     "execution_count": 6,
     "metadata": {},
     "output_type": "execute_result"
    }
   ],
   "source": [
    "keypad(\"12\")"
   ]
  },
  {
   "cell_type": "code",
   "execution_count": null,
   "id": "inside-appeal",
   "metadata": {},
   "outputs": [],
   "source": [
    "def keypad2(unproc, result=[], proc=\"\"):\n",
    "    if unproc == \"\":\n",
    "        result.append(proc)\n",
    "        return\n",
    "    \n",
    "    key = int(unproc[0])\n",
    "    keys = getkeyletters(key)\n",
    "    \n",
    "    # the sub components of tree in first num is in proc\n",
    "    for letter in keys:\n",
    "        keypad2(unproc[1:], result, proc + letter)\n",
    "        \n",
    "    return result"
   ]
  },
  {
   "cell_type": "code",
   "execution_count": 1,
   "id": "authentic-liability",
   "metadata": {},
   "outputs": [
    {
     "ename": "SyntaxError",
     "evalue": "invalid syntax (<ipython-input-1-7fffda6bdcac>, line 2)",
     "output_type": "error",
     "traceback": [
      "\u001b[1;36m  File \u001b[1;32m\"<ipython-input-1-7fffda6bdcac>\"\u001b[1;36m, line \u001b[1;32m2\u001b[0m\n\u001b[1;33m    x = y += 5\u001b[0m\n\u001b[1;37m          ^\u001b[0m\n\u001b[1;31mSyntaxError\u001b[0m\u001b[1;31m:\u001b[0m invalid syntax\n"
     ]
    }
   ],
   "source": [
    "y =10\n",
    "x = y += 5\n",
    "print(x)"
   ]
  },
  {
   "cell_type": "code",
   "execution_count": 4,
   "id": "educated-blend",
   "metadata": {},
   "outputs": [
    {
     "name": "stdout",
     "output_type": "stream",
     "text": [
      "10\n"
     ]
    }
   ],
   "source": [
    "y =10\n",
    "x ,y= y, y + 5\n",
    "print(x)"
   ]
  },
  {
   "cell_type": "code",
   "execution_count": 6,
   "id": "agreed-devon",
   "metadata": {},
   "outputs": [
    {
     "name": "stdout",
     "output_type": "stream",
     "text": [
      "15 10\n"
     ]
    }
   ],
   "source": [
    "y =10\n",
    "x ,y= y + 5, y\n",
    "print(x,y)"
   ]
  },
  {
   "cell_type": "code",
   "execution_count": null,
   "id": "random-gateway",
   "metadata": {},
   "outputs": [],
   "source": []
  }
 ],
 "metadata": {
  "kernelspec": {
   "display_name": "Python 3",
   "language": "python",
   "name": "python3"
  },
  "language_info": {
   "codemirror_mode": {
    "name": "ipython",
    "version": 3
   },
   "file_extension": ".py",
   "mimetype": "text/x-python",
   "name": "python",
   "nbconvert_exporter": "python",
   "pygments_lexer": "ipython3",
   "version": "3.9.1"
  }
 },
 "nbformat": 4,
 "nbformat_minor": 5
}
