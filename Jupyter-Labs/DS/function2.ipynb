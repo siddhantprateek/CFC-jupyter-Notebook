{
 "cells": [
  {
   "cell_type": "code",
   "execution_count": 1,
   "id": "after-template",
   "metadata": {},
   "outputs": [],
   "source": [
    "def call_me(phone):\n",
    "    print(f' my number is : {phone}')"
   ]
  },
  {
   "cell_type": "code",
   "execution_count": 4,
   "id": "important-austria",
   "metadata": {},
   "outputs": [
    {
     "name": "stdout",
     "output_type": "stream",
     "text": [
      " my number is : 4568\n"
     ]
    }
   ],
   "source": [
    "call_me(4568)\n",
    "# type is defined at runtime"
   ]
  },
  {
   "cell_type": "code",
   "execution_count": 5,
   "id": "thrown-brazil",
   "metadata": {},
   "outputs": [
    {
     "name": "stdout",
     "output_type": "stream",
     "text": [
      " my number is : siddhant\n"
     ]
    }
   ],
   "source": [
    "call_me(\"siddhant\")"
   ]
  },
  {
   "cell_type": "code",
   "execution_count": 6,
   "id": "mature-detective",
   "metadata": {},
   "outputs": [],
   "source": [
    "def sum_many(one, two):\n",
    "    return one + two"
   ]
  },
  {
   "cell_type": "code",
   "execution_count": 8,
   "id": "wired-diving",
   "metadata": {},
   "outputs": [],
   "source": [
    "# default parameter\n",
    "# default parameters should be only at right\n",
    "def para(one, two, thr = 10):\n",
    "    return one + two + thr"
   ]
  },
  {
   "cell_type": "code",
   "execution_count": 9,
   "id": "right-architecture",
   "metadata": {},
   "outputs": [
    {
     "data": {
      "text/plain": [
       "19"
      ]
     },
     "execution_count": 9,
     "metadata": {},
     "output_type": "execute_result"
    }
   ],
   "source": [
    "para(5, 4)"
   ]
  },
  {
   "cell_type": "code",
   "execution_count": 10,
   "id": "polished-palmer",
   "metadata": {},
   "outputs": [
    {
     "data": {
      "text/plain": [
       "10"
      ]
     },
     "execution_count": 10,
     "metadata": {},
     "output_type": "execute_result"
    }
   ],
   "source": [
    "para(5, 4, 1)"
   ]
  },
  {
   "cell_type": "code",
   "execution_count": null,
   "id": "academic-briefs",
   "metadata": {},
   "outputs": [],
   "source": [
    "# positional argument always at the beginning and then keyword argument.\n"
   ]
  }
 ],
 "metadata": {
  "kernelspec": {
   "display_name": "Python 3",
   "language": "python",
   "name": "python3"
  },
  "language_info": {
   "codemirror_mode": {
    "name": "ipython",
    "version": 3
   },
   "file_extension": ".py",
   "mimetype": "text/x-python",
   "name": "python",
   "nbconvert_exporter": "python",
   "pygments_lexer": "ipython3",
   "version": "3.9.1"
  }
 },
 "nbformat": 4,
 "nbformat_minor": 5
}
