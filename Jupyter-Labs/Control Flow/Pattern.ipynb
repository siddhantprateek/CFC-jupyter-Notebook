{
 "cells": [
  {
   "cell_type": "code",
   "execution_count": 3,
   "id": "developmental-proposition",
   "metadata": {},
   "outputs": [
    {
     "name": "stdout",
     "output_type": "stream",
     "text": [
      "* * * * * \n",
      "* * * * \n",
      "* * * \n",
      "* * \n",
      "* \n"
     ]
    }
   ],
   "source": [
    "n = 5\n",
    "row = 0\n",
    "while row  < n:\n",
    "    col = 0\n",
    "    while col < n  - row:\n",
    "        print(\"*\", end=\" \")\n",
    "        col += 1\n",
    "    print()\n",
    "    row += 1"
   ]
  },
  {
   "cell_type": "code",
   "execution_count": 4,
   "id": "young-gasoline",
   "metadata": {},
   "outputs": [
    {
     "name": "stdout",
     "output_type": "stream",
     "text": [
      "* * * * * \n",
      "* * * * \n",
      "* * * \n",
      "* * \n",
      "* \n",
      "* * \n",
      "* * * \n",
      "* * * * \n",
      "* * * * * \n"
     ]
    }
   ],
   "source": [
    "# mirroring towards down\n",
    "n = 5\n",
    "row_mirror = 0\n",
    "# how many rows  are there \n",
    "# above is  n and below is n - 1\n",
    "row = 0\n",
    "while row_mirror < 2*n - 1:\n",
    "    col = 0\n",
    "    while col < n  - row:\n",
    "        print(\"*\", end=\" \")\n",
    "        col += 1\n",
    "    print()\n",
    "    if row_mirror < n - 1:\n",
    "        #decremnt part\n",
    "        # first increase no. rows\n",
    "        row += 1\n",
    "    else: \n",
    "        # then decrease no. rows\n",
    "        # increment part\n",
    "        row -= 1\n",
    "    row_mirror += 1\n",
    "# 0       * * * * * \n",
    "# 1       * * * * \n",
    "# 2       * * * \n",
    "# 3       * * \n",
    "# 4       * \n",
    "# 3       * * \n",
    "# 2       * * * \n",
    "# 1       * * * * \n",
    "# 0       * * * * * "
   ]
  },
  {
   "cell_type": "code",
   "execution_count": 10,
   "id": "novel-swedish",
   "metadata": {},
   "outputs": [
    {
     "name": "stdout",
     "output_type": "stream",
     "text": [
      "* * * * * * * * * \n",
      "* * * *   * * * * \n",
      "* * *       * * * \n",
      "* *           * * \n",
      "*               * \n"
     ]
    }
   ],
   "source": [
    "n = 5\n",
    "row = 0 \n",
    "while row < n:\n",
    "    col_mirror = 0\n",
    "    col = 0\n",
    "    while col_mirror < 2*n - 1:\n",
    "        if col < n - row:\n",
    "            print(\"*\", end=\" \")\n",
    "        else:\n",
    "            print(\" \", end = \" \")\n",
    "        # we need a extra variable that would help it first increases\n",
    "        # then decreases\n",
    "        if col_mirror < n - 1:\n",
    "            col += 1\n",
    "        else:\n",
    "            col -= 1\n",
    "        \n",
    "        col_mirror += 1\n",
    "    print()\n",
    "    row += 1 \n",
    "#         0 1 2 3 4 3 2 1 0\n",
    "#         * * * * * * * * * \n",
    "#         * * * *   * * * * \n",
    "#         * * *       * * * \n",
    "#         * *           * * \n",
    "#         *               * "
   ]
  },
  {
   "cell_type": "code",
   "execution_count": 8,
   "id": "existing-heading",
   "metadata": {},
   "outputs": [
    {
     "name": "stdout",
     "output_type": "stream",
     "text": [
      "                  \n",
      "        *         \n",
      "      * * *       \n",
      "    * * * * *     \n",
      "  * * * * * * *   \n",
      "    * * * * *     \n",
      "      * * *       \n",
      "        *         \n",
      "                  \n"
     ]
    }
   ],
   "source": [
    "# copy the same partern towards right\n",
    "# but at right we require spaces \n",
    "# mirroring towards down\n",
    "n = 5\n",
    "row_mirror = 0\n",
    "# how many rows  are there \n",
    "# above is  n and below is n - 1\n",
    "row = 0\n",
    "while row_mirror < 2*n - 1:\n",
    "    col_mirror = 0\n",
    "    col = 0\n",
    "    while col_mirror < 2*n  - 1:\n",
    "        \n",
    "        if col < n - row:\n",
    "            print(\"*\", end=\" \")\n",
    "        else:\n",
    "            print(\" \", end=\" \")\n",
    "        \n",
    "        \n",
    "        if col_mirror < n - 1:\n",
    "            # first increase no. col\n",
    "            col += 1\n",
    "        else:\n",
    "            # then decrease no. col\n",
    "            col -= 1\n",
    "            \n",
    "        col_mirror += 1\n",
    "    print()\n",
    "\n",
    "    if row_mirror < n - 1:\n",
    "        #decremnt part\n",
    "        # first increase no. rows\n",
    "        row += 1\n",
    "    else: \n",
    "        # then decrease no. rows\n",
    "        # increment part\n",
    "        row -= 1\n",
    "    \n",
    "    \n",
    "    row_mirror += 1"
   ]
  },
  {
   "cell_type": "code",
   "execution_count": 13,
   "id": "prepared-month",
   "metadata": {},
   "outputs": [
    {
     "name": "stdout",
     "output_type": "stream",
     "text": [
      "        5         \n",
      "      4 5 4       \n",
      "    3 4 5 4 3     \n",
      "  2 3 4 5 4 3 2   \n",
      "1 2 3 4 5 4 3 2 1 \n",
      "  2 3 4 5 4 3 2   \n",
      "    3 4 5 4 3     \n",
      "      4 5 4       \n",
      "        5         \n"
     ]
    }
   ],
   "source": [
    "n = 5\n",
    "row_mirror = 0\n",
    "row = 0\n",
    "while row_mirror < 2*n - 1:\n",
    "    col_mirror = 0\n",
    "    col = 0\n",
    "    while col_mirror < 2*n  - 1:\n",
    "        \n",
    "        if col < n - row - 1:\n",
    "            print(\" \", end=\" \")\n",
    "        else:\n",
    "            print(col + 1, end=\" \")\n",
    "        \n",
    "        if col_mirror < n - 1:\n",
    "            col += 1\n",
    "        else:\n",
    "            col -= 1\n",
    "            \n",
    "        col_mirror += 1\n",
    "    print()\n",
    "\n",
    "    if row_mirror < n - 1:\n",
    "        row += 1\n",
    "    else: \n",
    "        row -= 1\n",
    "    \n",
    "    \n",
    "    row_mirror += 1"
   ]
  },
  {
   "cell_type": "code",
   "execution_count": 1,
   "id": "retired-briefing",
   "metadata": {},
   "outputs": [
    {
     "name": "stdout",
     "output_type": "stream",
     "text": [
      "        1         \n",
      "      1 0 1       \n",
      "    1 0 0 0 1     \n",
      "  1 0 0 0 0 0 1   \n",
      "1 0 0 0 0 0 0 0 1 \n",
      "  1 0 0 0 0 0 1   \n",
      "    1 0 0 0 1     \n",
      "      1 0 1       \n",
      "        1         \n"
     ]
    }
   ],
   "source": [
    "n = 5\n",
    "row_mirror = 0\n",
    "row = 0\n",
    "while row_mirror < 2*n - 1:\n",
    "    col_mirror = 0\n",
    "    col = 0\n",
    "    while col_mirror < 2*n  - 1:\n",
    "        \n",
    "        if col < n - row - 1:\n",
    "            print(\" \", end=\" \")\n",
    "        else:\n",
    "            if col == (n - row - 1):\n",
    "                print(\"1\", end=\" \")\n",
    "            else:\n",
    "                print(\"0\", end=\" \")\n",
    "        \n",
    "        if col_mirror < n - 1:\n",
    "            col += 1\n",
    "        else:\n",
    "            col -= 1\n",
    "            \n",
    "        col_mirror += 1 # always incraeasing\n",
    "    print()\n",
    "\n",
    "    if row_mirror < n - 1:\n",
    "        row += 1\n",
    "    else: \n",
    "        row -= 1\n",
    "    \n",
    "    \n",
    "    row_mirror += 1 # always incraeasing"
   ]
  },
  {
   "cell_type": "code",
   "execution_count": 4,
   "id": "biblical-wrist",
   "metadata": {},
   "outputs": [
    {
     "name": "stdout",
     "output_type": "stream",
     "text": [
      "        1         \n",
      "      1 0 1       \n",
      "    1 0 0 0 1     \n",
      "  1 0 0 0 0 0 1   \n",
      "1 0 0 0 0 0 0 0 1 \n",
      "  1 0 0 0 0 0 1   \n",
      "    1 0 0 0 1     \n",
      "      1 0 1       \n",
      "        1         \n"
     ]
    }
   ],
   "source": [
    "n = 5\n",
    "row_mirror = 0\n",
    "row = 0\n",
    "while row_mirror < 2*n - 1:\n",
    "    col_mirror = 0\n",
    "    col = 0\n",
    "    while col_mirror < 2*n  - 1:\n",
    "        \n",
    "        if col < n - row - 1:\n",
    "            print(\" \", end=\" \")\n",
    "        else:\n",
    "            if col == (n - row - 1):\n",
    "                print(\"1\", end=\" \")\n",
    "            else:\n",
    "                print(\"0\", end=\" \")\n",
    "        \n",
    "        if col_mirror < n - 1:\n",
    "            col += 1\n",
    "        else:\n",
    "            col -= 1\n",
    "            \n",
    "        col_mirror += 1 # always incraeasing\n",
    "    print()\n",
    "\n",
    "    if row_mirror < n - 1:\n",
    "        row += 1\n",
    "    else: \n",
    "        row -= 1\n",
    "    \n",
    "    \n",
    "    row_mirror += 1 # always incraeasing"
   ]
  },
  {
   "cell_type": "code",
   "execution_count": null,
   "id": "irish-portrait",
   "metadata": {},
   "outputs": [],
   "source": []
  },
  {
   "cell_type": "code",
   "execution_count": null,
   "id": "primary-disclosure",
   "metadata": {},
   "outputs": [],
   "source": []
  }
 ],
 "metadata": {
  "kernelspec": {
   "display_name": "Python 3",
   "language": "python",
   "name": "python3"
  },
  "language_info": {
   "codemirror_mode": {
    "name": "ipython",
    "version": 3
   },
   "file_extension": ".py",
   "mimetype": "text/x-python",
   "name": "python",
   "nbconvert_exporter": "python",
   "pygments_lexer": "ipython3",
   "version": "3.9.1"
  }
 },
 "nbformat": 4,
 "nbformat_minor": 5
}
