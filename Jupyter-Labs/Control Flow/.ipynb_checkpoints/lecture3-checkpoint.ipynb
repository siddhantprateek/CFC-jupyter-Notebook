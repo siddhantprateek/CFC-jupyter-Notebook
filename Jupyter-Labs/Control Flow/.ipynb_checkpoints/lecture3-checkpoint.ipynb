{
 "cells": [
  {
   "cell_type": "code",
   "execution_count": 12,
   "id": "painted-measure",
   "metadata": {},
   "outputs": [],
   "source": [
    "a = 7"
   ]
  },
  {
   "cell_type": "code",
   "execution_count": 10,
   "id": "prostate-afghanistan",
   "metadata": {},
   "outputs": [
    {
     "data": {
      "text/plain": [
       "7"
      ]
     },
     "execution_count": 10,
     "metadata": {},
     "output_type": "execute_result"
    }
   ],
   "source": [
    "a"
   ]
  },
  {
   "cell_type": "code",
   "execution_count": 23,
   "id": "significant-bulgarian",
   "metadata": {},
   "outputs": [],
   "source": [
    "year = 204"
   ]
  },
  {
   "cell_type": "code",
   "execution_count": 24,
   "id": "several-yesterday",
   "metadata": {},
   "outputs": [
    {
     "name": "stdout",
     "output_type": "stream",
     "text": [
      "leap Year\n"
     ]
    }
   ],
   "source": [
    "if (year % 4) == 0:\n",
    "    print(\"leap Year\")\n",
    "elif (year % 33) == 0:\n",
    "    print(\"special year\")\n",
    "elif (year % 66) == 0:\n",
    "    print(\"special year\")\n",
    "else:\n",
    "    print(\"Not a leap year\")"
   ]
  },
  {
   "cell_type": "code",
   "execution_count": 22,
   "id": "organizational-indonesian",
   "metadata": {},
   "outputs": [],
   "source": [
    "# variable name should be readable and sensible."
   ]
  },
  {
   "cell_type": "code",
   "execution_count": 25,
   "id": "professional-values",
   "metadata": {},
   "outputs": [],
   "source": [
    "# conditional exp o/p is boolean\n",
    "# logical expression o/p is boolean"
   ]
  },
  {
   "cell_type": "code",
   "execution_count": 27,
   "id": "rotary-offering",
   "metadata": {},
   "outputs": [
    {
     "name": "stdout",
     "output_type": "stream",
     "text": [
      "clap clap clap clap clap clap clap clap clap clap "
     ]
    }
   ],
   "source": [
    "clap = 0\n",
    "while clap < 10:\n",
    "    print(\"clap\", end = \" \")\n",
    "    clap += 1"
   ]
  },
  {
   "cell_type": "code",
   "execution_count": 28,
   "id": "measured-palestinian",
   "metadata": {},
   "outputs": [
    {
     "data": {
      "text/plain": [
       "\u001b[1;31mDocstring:\u001b[0m\n",
       "print(value, ..., sep=' ', end='\\n', file=sys.stdout, flush=False)\n",
       "\n",
       "Prints the values to a stream, or to sys.stdout by default.\n",
       "Optional keyword arguments:\n",
       "file:  a file-like object (stream); defaults to the current sys.stdout.\n",
       "sep:   string inserted between values, default a space.\n",
       "end:   string appended after the last value, default a newline.\n",
       "flush: whether to forcibly flush the stream.\n",
       "\u001b[1;31mType:\u001b[0m      builtin_function_or_method\n"
      ]
     },
     "metadata": {},
     "output_type": "display_data"
    }
   ],
   "source": [
    "print?"
   ]
  },
  {
   "cell_type": "code",
   "execution_count": 30,
   "id": "composite-surfing",
   "metadata": {},
   "outputs": [
    {
     "name": "stdout",
     "output_type": "stream",
     "text": [
      "* * * * * * * * * * \n",
      "* * * * * * * * * * \n",
      "* * * * * * * * * * \n",
      "* * * * * * * * * * \n",
      "* * * * * * * * * * \n",
      "* * * * * * * * * * \n",
      "* * * * * * * * * * \n",
      "* * * * * * * * * * \n",
      "* * * * * * * * * * \n",
      "* * * * * * * * * * \n"
     ]
    }
   ],
   "source": [
    "reps = 0\n",
    "while reps < 10:\n",
    "    clap = 0\n",
    "    while clap < 10:\n",
    "        print(\"*\", end = \" \")\n",
    "        clap += 1\n",
    "    # on every 11th clap you wanted jump\n",
    "    # whennit\n",
    "    print()\n",
    "    #as print by default it has \"\\n\"\n",
    "    reps += 1"
   ]
  },
  {
   "cell_type": "code",
   "execution_count": 31,
   "id": "contemporary-positive",
   "metadata": {},
   "outputs": [
    {
     "name": "stdout",
     "output_type": "stream",
     "text": [
      "* * * * * * * * * * \n",
      "* * * * * * * * * * \n",
      "* * * * * * * * * * \n",
      "* * * * * * * * * * \n",
      "* * * * * * * * * * \n",
      "* * * * * * * * * * \n",
      "* * * * * * * * * * \n",
      "* * * * * * * * * * \n",
      "* * * * * * * * * * \n",
      "* * * * * * * * * * \n"
     ]
    }
   ],
   "source": [
    "# similarly\n",
    "n = 10\n",
    "row = 0\n",
    "while row < 10:\n",
    "    col = 0\n",
    "    while col < 10:\n",
    "        print(\"*\", end=\" \")\n",
    "        col += 1\n",
    "    print()\n",
    "    row += 1"
   ]
  },
  {
   "cell_type": "code",
   "execution_count": 32,
   "id": "hazardous-nancy",
   "metadata": {},
   "outputs": [
    {
     "name": "stdout",
     "output_type": "stream",
     "text": [
      "a b\n"
     ]
    }
   ],
   "source": [
    "# it creates a tuple and sep = ' '\n",
    "print(\"a\",\"b\")\n",
    "#print(value, ..., sep=' '"
   ]
  },
  {
   "cell_type": "code",
   "execution_count": 33,
   "id": "forced-circular",
   "metadata": {},
   "outputs": [
    {
     "data": {
      "text/plain": [
       "\u001b[1;31mDocstring:\u001b[0m\n",
       "print(value, ..., sep=' ', end='\\n', file=sys.stdout, flush=False)\n",
       "\n",
       "Prints the values to a stream, or to sys.stdout by default.\n",
       "Optional keyword arguments:\n",
       "file:  a file-like object (stream); defaults to the current sys.stdout.\n",
       "sep:   string inserted between values, default a space.\n",
       "end:   string appended after the last value, default a newline.\n",
       "flush: whether to forcibly flush the stream.\n",
       "\u001b[1;31mType:\u001b[0m      builtin_function_or_method\n"
      ]
     },
     "metadata": {},
     "output_type": "display_data"
    }
   ],
   "source": [
    "print?"
   ]
  },
  {
   "cell_type": "code",
   "execution_count": 34,
   "id": "careful-youth",
   "metadata": {},
   "outputs": [],
   "source": [
    "#         print(col, end=\" \") \n",
    "#         print(row, end=\" \")\n",
    "# and \n",
    "# print(col, end=\" \")   print(row, end=\" \")\n",
    "# are same right but Jupyter shows syntax error...\n",
    "\n",
    "# python don't readabilty is necessary."
   ]
  },
  {
   "cell_type": "code",
   "execution_count": 35,
   "id": "interior-terrorist",
   "metadata": {},
   "outputs": [
    {
     "name": "stdout",
     "output_type": "stream",
     "text": [
      "* \n",
      "* * \n",
      "* * * \n",
      "* * * * \n",
      "* * * * * \n"
     ]
    }
   ],
   "source": [
    "n = 5\n",
    "row = 0 \n",
    "while row < n:\n",
    "    col = 0\n",
    "    while col <= row:\n",
    "        print(\"*\", end=\" \")\n",
    "        col += 1\n",
    "    print()\n",
    "    row += 1 "
   ]
  },
  {
   "cell_type": "code",
   "execution_count": 38,
   "id": "fancy-strike",
   "metadata": {},
   "outputs": [
    {
     "name": "stdout",
     "output_type": "stream",
     "text": [
      "* * * * * \n",
      "* * * * \n",
      "* * * \n",
      "* * \n",
      "* \n"
     ]
    }
   ],
   "source": [
    "# inverted trinangle\n",
    "n = 5\n",
    "row = 0 \n",
    "while row < n:\n",
    "    col = 0\n",
    "    while col < n - row:\n",
    "        print(\"*\", end=\" \")\n",
    "        col += 1\n",
    "    print()\n",
    "    row += 1 "
   ]
  },
  {
   "cell_type": "code",
   "execution_count": 49,
   "id": "declared-compiler",
   "metadata": {},
   "outputs": [
    {
     "name": "stdout",
     "output_type": "stream",
     "text": [
      "* * * * * \n",
      "* * * * \n",
      "* * * \n",
      "* * \n",
      "* \n",
      "* * \n",
      "* * * \n",
      "* * * * \n",
      "* * * * * \n"
     ]
    }
   ],
   "source": [
    "# mirroring:\n",
    "#total 2n-1 row decrement part is n and increment part is n-1\n",
    "n = 5\n",
    "row_mirror = 0\n",
    "row = 0 \n",
    "while row_mirror < 2*n - 1:\n",
    "    col = 0\n",
    "    while col < n - row:\n",
    "        print(\"*\", end=\" \")\n",
    "        col += 1\n",
    "    print()\n",
    "    \n",
    "    if row_mirror < n - 1:\n",
    "        row += 1\n",
    "    else:\n",
    "        row -= 1 \n",
    "    row_mirror += 1"
   ]
  },
  {
   "cell_type": "code",
   "execution_count": 42,
   "id": "governmental-african",
   "metadata": {},
   "outputs": [
    {
     "name": "stdout",
     "output_type": "stream",
     "text": [
      "* * * * * \n",
      "* * * *   \n",
      "* * *     \n",
      "* *       \n",
      "*         \n"
     ]
    }
   ],
   "source": [
    "n = 5\n",
    "row = 0 \n",
    "while row < n:\n",
    "    col = 0\n",
    "    while col < n :\n",
    "        if col < n - row:\n",
    "            print(\"*\", end=\" \")\n",
    "        else:\n",
    "            print(\" \", end = \" \")\n",
    "        col += 1\n",
    "    print()\n",
    "    row += 1 "
   ]
  },
  {
   "cell_type": "code",
   "execution_count": 50,
   "id": "strange-semester",
   "metadata": {},
   "outputs": [
    {
     "name": "stdout",
     "output_type": "stream",
     "text": [
      "* * * * * * * * * \n",
      "* * * *   * * * * \n",
      "* * *       * * * \n",
      "* *           * * \n",
      "*               * \n"
     ]
    }
   ],
   "source": [
    "n = 5\n",
    "row = 0 \n",
    "while row < n:\n",
    "    col_mirror = 0\n",
    "    col = 0\n",
    "    while col_mirror < 2*n - 1:\n",
    "        if col < n - row:\n",
    "            print(\"*\", end=\" \")\n",
    "        else:\n",
    "            print(\" \", end = \" \")\n",
    "        if col_mirror < n - 1:\n",
    "            col += 1\n",
    "        else:\n",
    "            col -= 1\n",
    "        \n",
    "        col_mirror += 1\n",
    "    print()\n",
    "    row += 1 "
   ]
  },
  {
   "cell_type": "code",
   "execution_count": 56,
   "id": "informational-association",
   "metadata": {},
   "outputs": [
    {
     "name": "stdout",
     "output_type": "stream",
     "text": [
      "* * * * * * * * * \n",
      "* * * *   * * * * \n",
      "* * *       * * * \n",
      "* *           * * \n",
      "*               * \n",
      "* *           * * \n",
      "* * *       * * * \n",
      "* * * *   * * * * \n",
      "* * * * * * * * * \n"
     ]
    }
   ],
   "source": [
    "n = 5\n",
    "row_mirror = 0\n",
    "row = 0 \n",
    "while row_mirror < 2*n - 1:\n",
    "    col_mirror = 0\n",
    "    col = 0\n",
    "    while col_mirror < 2*n - 1:\n",
    "        if col < n - row:\n",
    "            print(\"*\", end=\" \")\n",
    "        else:\n",
    "            print(\" \", end = \" \")\n",
    "        if col_mirror < n - 1:\n",
    "            col += 1\n",
    "        else:\n",
    "            col -= 1\n",
    "        \n",
    "        col_mirror += 1\n",
    "    print()\n",
    "    if row_mirror < n - 1:\n",
    "        row += 1\n",
    "    else:\n",
    "        row -= 1 \n",
    "    row_mirror += 1"
   ]
  },
  {
   "cell_type": "code",
   "execution_count": 59,
   "id": "treated-karaoke",
   "metadata": {},
   "outputs": [
    {
     "name": "stdout",
     "output_type": "stream",
     "text": [
      "* * * * * * * * * * \n",
      "* * * * * * * * * * \n",
      "* * * * * * * * * * \n",
      "* * * * * * * * * * \n",
      "* * * * * * * * * * \n",
      "* * * * * * * * * * \n",
      "* * * * * * * * * * \n",
      "* * * * * * * * * * \n",
      "* * * * * * * * * * \n",
      "* * * * * * * * * * \n"
     ]
    }
   ],
   "source": [
    "n = 10\n",
    "row = 0\n",
    "while row  < n:\n",
    "    col = 0\n",
    "    while col < n:\n",
    "        print(\"*\", end=\" \")\n",
    "        col += 1\n",
    "    print()\n",
    "    row += 1"
   ]
  },
  {
   "cell_type": "code",
   "execution_count": null,
   "id": "offensive-george",
   "metadata": {},
   "outputs": [],
   "source": []
  }
 ],
 "metadata": {
  "kernelspec": {
   "display_name": "Python 3",
   "language": "python",
   "name": "python3"
  },
  "language_info": {
   "codemirror_mode": {
    "name": "ipython",
    "version": 3
   },
   "file_extension": ".py",
   "mimetype": "text/x-python",
   "name": "python",
   "nbconvert_exporter": "python",
   "pygments_lexer": "ipython3",
   "version": "3.9.1"
  }
 },
 "nbformat": 4,
 "nbformat_minor": 5
}
