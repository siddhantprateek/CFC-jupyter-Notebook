{
 "cells": [
  {
   "cell_type": "code",
   "execution_count": 1,
   "id": "smart-heater",
   "metadata": {},
   "outputs": [],
   "source": [
    "li = [3, 5, 12, 9]"
   ]
  },
  {
   "cell_type": "code",
   "execution_count": 2,
   "id": "owned-watch",
   "metadata": {},
   "outputs": [
    {
     "data": {
      "text/plain": [
       "['__add__',\n",
       " '__class__',\n",
       " '__class_getitem__',\n",
       " '__contains__',\n",
       " '__delattr__',\n",
       " '__delitem__',\n",
       " '__dir__',\n",
       " '__doc__',\n",
       " '__eq__',\n",
       " '__format__',\n",
       " '__ge__',\n",
       " '__getattribute__',\n",
       " '__getitem__',\n",
       " '__gt__',\n",
       " '__hash__',\n",
       " '__iadd__',\n",
       " '__imul__',\n",
       " '__init__',\n",
       " '__init_subclass__',\n",
       " '__iter__',\n",
       " '__le__',\n",
       " '__len__',\n",
       " '__lt__',\n",
       " '__mul__',\n",
       " '__ne__',\n",
       " '__new__',\n",
       " '__reduce__',\n",
       " '__reduce_ex__',\n",
       " '__repr__',\n",
       " '__reversed__',\n",
       " '__rmul__',\n",
       " '__setattr__',\n",
       " '__setitem__',\n",
       " '__sizeof__',\n",
       " '__str__',\n",
       " '__subclasshook__',\n",
       " 'append',\n",
       " 'clear',\n",
       " 'copy',\n",
       " 'count',\n",
       " 'extend',\n",
       " 'index',\n",
       " 'insert',\n",
       " 'pop',\n",
       " 'remove',\n",
       " 'reverse',\n",
       " 'sort']"
      ]
     },
     "execution_count": 2,
     "metadata": {},
     "output_type": "execute_result"
    }
   ],
   "source": [
    "dir(li)"
   ]
  },
  {
   "cell_type": "code",
   "execution_count": 3,
   "id": "sacred-parish",
   "metadata": {},
   "outputs": [],
   "source": [
    "my_iter = iter(li)"
   ]
  },
  {
   "cell_type": "code",
   "execution_count": 8,
   "id": "serial-strengthening",
   "metadata": {},
   "outputs": [
    {
     "ename": "StopIteration",
     "evalue": "",
     "output_type": "error",
     "traceback": [
      "\u001b[1;31m----------------------------------------------\u001b[0m",
      "\u001b[1;31mStopIteration\u001b[0mTraceback (most recent call last)",
      "\u001b[1;32m<ipython-input-8-94a4229f6542>\u001b[0m in \u001b[0;36m<module>\u001b[1;34m\u001b[0m\n\u001b[1;32m----> 1\u001b[1;33m \u001b[0mnext\u001b[0m\u001b[1;33m(\u001b[0m\u001b[0mmy_iter\u001b[0m\u001b[1;33m)\u001b[0m\u001b[1;33m\u001b[0m\u001b[1;33m\u001b[0m\u001b[0m\n\u001b[0m",
      "\u001b[1;31mStopIteration\u001b[0m: "
     ]
    }
   ],
   "source": [
    "next(my_iter)"
   ]
  },
  {
   "cell_type": "code",
   "execution_count": 15,
   "id": "turned-outdoors",
   "metadata": {},
   "outputs": [],
   "source": [
    "iterable = [3, 5, 12, 7]"
   ]
  },
  {
   "cell_type": "code",
   "execution_count": 16,
   "id": "instrumental-reducing",
   "metadata": {},
   "outputs": [],
   "source": [
    "iter_obj = iter(iterable)"
   ]
  },
  {
   "cell_type": "code",
   "execution_count": 11,
   "id": "corresponding-bruce",
   "metadata": {},
   "outputs": [
    {
     "data": {
      "text/plain": [
       "3"
      ]
     },
     "execution_count": 11,
     "metadata": {},
     "output_type": "execute_result"
    }
   ],
   "source": [
    "next(iter_obj)"
   ]
  },
  {
   "cell_type": "code",
   "execution_count": 17,
   "id": "latest-telephone",
   "metadata": {},
   "outputs": [
    {
     "name": "stdout",
     "output_type": "stream",
     "text": [
      "3\n",
      "5\n",
      "12\n",
      "7\n"
     ]
    }
   ],
   "source": [
    "while True:\n",
    "    try:\n",
    "        element = next(iter_obj)\n",
    "        print(element)\n",
    "    except StopIteration:\n",
    "        break"
   ]
  },
  {
   "cell_type": "code",
   "execution_count": 20,
   "id": "religious-irrigation",
   "metadata": {},
   "outputs": [],
   "source": [
    "class PowTwo:\n",
    "    \n",
    "    def __init__(self, max=0):\n",
    "        self.max = max\n",
    "        \n",
    "    def __iter__(self):\n",
    "        self.i = 0\n",
    "        return self\n",
    "    \n",
    "    def __next__(self):\n",
    "        if self.i <= self.max:\n",
    "            ans = 2 ** self.i\n",
    "            self.i += 1\n",
    "            return ans\n",
    "        else:\n",
    "            raise StopIteration\n",
    "        "
   ]
  },
  {
   "cell_type": "code",
   "execution_count": 21,
   "id": "supreme-walnut",
   "metadata": {},
   "outputs": [],
   "source": [
    "obj = PowTwo(4) # treating as iterable"
   ]
  },
  {
   "cell_type": "code",
   "execution_count": 22,
   "id": "located-ticket",
   "metadata": {},
   "outputs": [],
   "source": [
    "i = iter(obj)\n"
   ]
  },
  {
   "cell_type": "code",
   "execution_count": 23,
   "id": "casual-limitation",
   "metadata": {},
   "outputs": [
    {
     "name": "stdout",
     "output_type": "stream",
     "text": [
      "<__main__.PowTwo object at 0x000001D2344BFA60>\n"
     ]
    }
   ],
   "source": [
    "print(i)"
   ]
  },
  {
   "cell_type": "code",
   "execution_count": 24,
   "id": "disciplinary-steel",
   "metadata": {},
   "outputs": [
    {
     "name": "stdout",
     "output_type": "stream",
     "text": [
      "<__main__.PowTwo object at 0x000001D2344BFA60>\n"
     ]
    }
   ],
   "source": [
    "print(obj)"
   ]
  },
  {
   "cell_type": "code",
   "execution_count": 30,
   "id": "forward-minnesota",
   "metadata": {},
   "outputs": [
    {
     "ename": "StopIteration",
     "evalue": "",
     "output_type": "error",
     "traceback": [
      "\u001b[1;31m----------------------------------------------\u001b[0m",
      "\u001b[1;31mStopIteration\u001b[0mTraceback (most recent call last)",
      "\u001b[1;32m<ipython-input-30-2e36627a780e>\u001b[0m in \u001b[0;36m<module>\u001b[1;34m\u001b[0m\n\u001b[1;32m----> 1\u001b[1;33m \u001b[0mnext\u001b[0m\u001b[1;33m(\u001b[0m\u001b[0mobj\u001b[0m\u001b[1;33m)\u001b[0m\u001b[1;33m\u001b[0m\u001b[1;33m\u001b[0m\u001b[0m\n\u001b[0m",
      "\u001b[1;32m<ipython-input-20-ef8386e2ea23>\u001b[0m in \u001b[0;36m__next__\u001b[1;34m(self)\u001b[0m\n\u001b[0;32m     14\u001b[0m             \u001b[1;32mreturn\u001b[0m \u001b[0mans\u001b[0m\u001b[1;33m\u001b[0m\u001b[1;33m\u001b[0m\u001b[0m\n\u001b[0;32m     15\u001b[0m         \u001b[1;32melse\u001b[0m\u001b[1;33m:\u001b[0m\u001b[1;33m\u001b[0m\u001b[1;33m\u001b[0m\u001b[0m\n\u001b[1;32m---> 16\u001b[1;33m             \u001b[1;32mraise\u001b[0m \u001b[0mStopIteration\u001b[0m\u001b[1;33m\u001b[0m\u001b[1;33m\u001b[0m\u001b[0m\n\u001b[0m\u001b[0;32m     17\u001b[0m \u001b[1;33m\u001b[0m\u001b[0m\n",
      "\u001b[1;31mStopIteration\u001b[0m: "
     ]
    }
   ],
   "source": [
    "next(obj)"
   ]
  },
  {
   "cell_type": "code",
   "execution_count": null,
   "id": "fluid-eight",
   "metadata": {},
   "outputs": [],
   "source": []
  }
 ],
 "metadata": {
  "kernelspec": {
   "display_name": "Python 3",
   "language": "python",
   "name": "python3"
  },
  "language_info": {
   "codemirror_mode": {
    "name": "ipython",
    "version": 3
   },
   "file_extension": ".py",
   "mimetype": "text/x-python",
   "name": "python",
   "nbconvert_exporter": "python",
   "pygments_lexer": "ipython3",
   "version": "3.9.1"
  }
 },
 "nbformat": 4,
 "nbformat_minor": 5
}
