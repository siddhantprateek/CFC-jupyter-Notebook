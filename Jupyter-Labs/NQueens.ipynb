{
 "cells": [
  {
   "cell_type": "code",
   "execution_count": 19,
   "id": "mediterranean-bailey",
   "metadata": {},
   "outputs": [],
   "source": [
    "def getBoard(n):\n",
    "    \n",
    "    board = []\n",
    "    \n",
    "    for i in range(n):\n",
    "        board.append([\"\"]*n)\n",
    "    return board"
   ]
  },
  {
   "cell_type": "code",
   "execution_count": 20,
   "id": "jewish-bryan",
   "metadata": {},
   "outputs": [
    {
     "data": {
      "text/plain": [
       "[['', '', '', ''], ['', '', '', ''], ['', '', '', ''], ['', '', '', '']]"
      ]
     },
     "execution_count": 20,
     "metadata": {},
     "output_type": "execute_result"
    }
   ],
   "source": [
    "getBoard(4)"
   ]
  },
  {
   "cell_type": "code",
   "execution_count": 24,
   "id": "gothic-muscle",
   "metadata": {},
   "outputs": [],
   "source": [
    "def nQueens(board, row =0):\n",
    "    \n",
    "    if row == len(board):\n",
    "        print(\"Found Solution\")\n",
    "        for row in board:\n",
    "            print(row)\n",
    "        print(\"---------------------\")\n",
    "        return\n",
    "    \n",
    "    for col in range(len(board)):\n",
    "        if isSafe(board, row, col):\n",
    "            board[row][col] = \"X\"\n",
    "            nQueens(board, row + 1)\n",
    "            board[row][col] = \"\"\n",
    "        "
   ]
  },
  {
   "cell_type": "code",
   "execution_count": 25,
   "id": "correct-segment",
   "metadata": {},
   "outputs": [],
   "source": [
    "def isSafe(board, row, col):\n",
    "       \n",
    "    # checking in vertical till current row\n",
    "    # i can go max row step\n",
    "    for r in range(row):\n",
    "        if board[r][col] == \"X\":\n",
    "            return \"\"\n",
    "    # for diagonal left\n",
    "    \n",
    "    for index in range(row):\n",
    "        if ((col - index) >= 0) and board[row-index][col-index]:\n",
    "            return \"\"\n",
    "        \n",
    "        if ((col + index) < len(board)) and board[row-index][col+index]:\n",
    "            return \"\"\n",
    "    \n",
    "    return True\n",
    "   \n",
    "    \n"
   ]
  },
  {
   "cell_type": "code",
   "execution_count": 26,
   "id": "dirty-villa",
   "metadata": {},
   "outputs": [
    {
     "name": "stdout",
     "output_type": "stream",
     "text": [
      "Found Solution\n",
      "['', 'X', '', '']\n",
      "['', '', 'X', '']\n",
      "['X', '', '', '']\n",
      "['', '', '', 'X']\n",
      "---------------------\n",
      "Found Solution\n",
      "['', 'X', '', '']\n",
      "['', '', '', 'X']\n",
      "['X', '', '', '']\n",
      "['', '', 'X', '']\n",
      "---------------------\n",
      "Found Solution\n",
      "['', '', 'X', '']\n",
      "['X', '', '', '']\n",
      "['', '', '', 'X']\n",
      "['', 'X', '', '']\n",
      "---------------------\n",
      "Found Solution\n",
      "['', '', 'X', '']\n",
      "['', 'X', '', '']\n",
      "['', '', '', 'X']\n",
      "['X', '', '', '']\n",
      "---------------------\n"
     ]
    }
   ],
   "source": [
    "nQueens(getBoard(4))"
   ]
  },
  {
   "cell_type": "code",
   "execution_count": null,
   "id": "fewer-length",
   "metadata": {},
   "outputs": [],
   "source": []
  }
 ],
 "metadata": {
  "kernelspec": {
   "display_name": "Python 3",
   "language": "python",
   "name": "python3"
  },
  "language_info": {
   "codemirror_mode": {
    "name": "ipython",
    "version": 3
   },
   "file_extension": ".py",
   "mimetype": "text/x-python",
   "name": "python",
   "nbconvert_exporter": "python",
   "pygments_lexer": "ipython3",
   "version": "3.9.1"
  }
 },
 "nbformat": 4,
 "nbformat_minor": 5
}
