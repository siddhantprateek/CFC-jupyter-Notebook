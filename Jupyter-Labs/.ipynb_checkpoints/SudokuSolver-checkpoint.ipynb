{
 "cells": [
  {
   "cell_type": "code",
   "execution_count": 2,
   "id": "congressional-wilson",
   "metadata": {},
   "outputs": [],
   "source": [
    "def sudokuSolver(soduku, row=0, col=0):\n",
    "    \n",
    "    # base Cases\n",
    "    \n",
    "    if row == 9:\n",
    "        print(sudoku)\n",
    "        return\n",
    "    if col == 9:\n",
    "        sudokuSolver(sudoku, row + 1, 0)\n",
    "        return\n",
    "    \n",
    "    if sudoku[row][col] > 0:\n",
    "        sudokuSolver(sudoku, row, col + 1)\n",
    "    else:\n",
    "        for value in range(1,10):\n",
    "            if isSafe(sudoku, row, col, value):\n",
    "                sudoku[row][col] = value\n",
    "                sudokuSolver(sudoku, row, col + 1)\n",
    "                sudokuSolve[row][col] = 0"
   ]
  },
  {
   "cell_type": "code",
   "execution_count": null,
   "id": "tamil-antigua",
   "metadata": {},
   "outputs": [],
   "source": [
    "def isSafe(sudoku, row, col, value):\n",
    "    \n",
    "    # to check whether the value in not present in the entire col  \n",
    "    for r in range(9):\n",
    "        if sudoku[r][col] == value:\n",
    "            return False\n",
    "    # to check whether the value in not present in the entire row    \n",
    "    for c in range(9):\n",
    "        if sudoku[row][c] == value:\n",
    "            return False\n",
    "        \n",
    "    # Now to check inside the boxes whether the box\n",
    "    # but how to get at the beginning of the box\n",
    "    box_r = row - (row % 3)\n",
    "    box_c = col - (col % 3)\n",
    "    \n",
    "    for r in range(box_r, box_r + 3):\n",
    "        for c in range(box_c, box_c + 3):\n",
    "            if sudoku[r][c] == value:\n",
    "                return False\n",
    "            \n",
    "    # otherwise return true \n",
    "    return True"
   ]
  }
 ],
 "metadata": {
  "kernelspec": {
   "display_name": "Python 3",
   "language": "python",
   "name": "python3"
  },
  "language_info": {
   "codemirror_mode": {
    "name": "ipython",
    "version": 3
   },
   "file_extension": ".py",
   "mimetype": "text/x-python",
   "name": "python",
   "nbconvert_exporter": "python",
   "pygments_lexer": "ipython3",
   "version": "3.9.1"
  }
 },
 "nbformat": 4,
 "nbformat_minor": 5
}
