{
 "cells": [
  {
   "cell_type": "code",
   "execution_count": 5,
   "id": "appreciated-progressive",
   "metadata": {},
   "outputs": [],
   "source": [
    "def mazeCount(rows, cols, solution=\"\"):\n",
    "    # 1,1 is position where rat nead to reach\n",
    "    if rows == 1 and cols == 1:\n",
    "        print(solution)\n",
    "        return\n",
    "    bottom, right, diag = 0, 0, 0\n",
    "    if rows > 1:\n",
    "        mazeCount(rows - 1, cols, solution + \"R\")\n",
    "    \n",
    "    if cols > 1:\n",
    "        mazeCount(rows, cols - 1, solution + \"B\")\n",
    "    \n",
    "    if rows > 1 and cols > 1:\n",
    "        mazeCount(rows - 1, cols - 1, solution + \"D\")\n",
    "        \n",
    "    return"
   ]
  },
  {
   "cell_type": "code",
   "execution_count": 6,
   "id": "worth-fleece",
   "metadata": {},
   "outputs": [
    {
     "name": "stdout",
     "output_type": "stream",
     "text": [
      "RRBB\n",
      "RBRB\n",
      "RBBR\n",
      "RBD\n",
      "RDB\n",
      "BRRB\n",
      "BRBR\n",
      "BRD\n",
      "BBRR\n",
      "BDR\n",
      "DRB\n",
      "DBR\n",
      "DD\n"
     ]
    }
   ],
   "source": [
    "mazeCount(3,3)"
   ]
  },
  {
   "cell_type": "markdown",
   "id": "supported-questionnaire",
   "metadata": {},
   "source": [
    "More Defined Way"
   ]
  },
  {
   "cell_type": "code",
   "execution_count": 21,
   "id": "successful-twenty",
   "metadata": {},
   "outputs": [],
   "source": [
    "def mazeCountPrint(rows, cols, solution=[]):\n",
    "    # 1,1 is position where rat nead to reach\n",
    "    if rows == 1 and cols == 1:\n",
    "        print(solution)\n",
    "        print(\"\".join(solution))\n",
    "        return\n",
    "#     bottom, right, diag = 0, 0, 0\n",
    "    if rows > 1:\n",
    "        solution.append(\"R\")\n",
    "        mazeCountPrint(rows - 1, cols, solution)\n",
    "        solution.pop()\n",
    "        \n",
    "    if cols > 1:\n",
    "        solution.append(\"B\")\n",
    "        mazeCountPrint(rows, cols - 1, solution)\n",
    "        solution.pop()\n",
    "        \n",
    "    if rows > 1 and cols > 1:\n",
    "        solution.append(\"D\")\n",
    "        mazeCountPrint(rows - 1, cols - 1, solution)\n",
    "        solution.pop()\n",
    "    \n",
    "    return"
   ]
  },
  {
   "cell_type": "code",
   "execution_count": null,
   "id": "passing-editing",
   "metadata": {},
   "outputs": [],
   "source": []
  },
  {
   "cell_type": "code",
   "execution_count": 22,
   "id": "spread-radius",
   "metadata": {},
   "outputs": [
    {
     "name": "stdout",
     "output_type": "stream",
     "text": [
      "['R', 'R', 'B', 'B']\n",
      "R R B B\n",
      "['R', 'B', 'R', 'B']\n",
      "R B R B\n",
      "['R', 'B', 'B', 'R']\n",
      "R B B R\n",
      "['R', 'B', 'D']\n",
      "R B D\n",
      "['R', 'D', 'B']\n",
      "R D B\n",
      "['B', 'R', 'R', 'B']\n",
      "B R R B\n",
      "['B', 'R', 'B', 'R']\n",
      "B R B R\n",
      "['B', 'R', 'D']\n",
      "B R D\n",
      "['B', 'B', 'R', 'R']\n",
      "B B R R\n",
      "['B', 'D', 'R']\n",
      "B D R\n",
      "['D', 'R', 'B']\n",
      "D R B\n",
      "['D', 'B', 'R']\n",
      "D B R\n",
      "['D', 'D']\n",
      "D D\n"
     ]
    }
   ],
   "source": [
    "mazeCountPrint(3,3)"
   ]
  },
  {
   "cell_type": "code",
   "execution_count": null,
   "id": "bright-walker",
   "metadata": {},
   "outputs": [],
   "source": []
  }
 ],
 "metadata": {
  "kernelspec": {
   "display_name": "Python 3",
   "language": "python",
   "name": "python3"
  },
  "language_info": {
   "codemirror_mode": {
    "name": "ipython",
    "version": 3
   },
   "file_extension": ".py",
   "mimetype": "text/x-python",
   "name": "python",
   "nbconvert_exporter": "python",
   "pygments_lexer": "ipython3",
   "version": "3.9.1"
  }
 },
 "nbformat": 4,
 "nbformat_minor": 5
}
