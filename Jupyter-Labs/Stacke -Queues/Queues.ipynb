{
 "cells": [
  {
   "cell_type": "code",
   "execution_count": 5,
   "id": "dramatic-opening",
   "metadata": {},
   "outputs": [],
   "source": [
    "class Queue:\n",
    "    \n",
    "    def __init__(self, size = 10):\n",
    "        self.size = size\n",
    "        self.data = [None for _ in range(size)]\n",
    "        self.end = 0\n",
    "        \n",
    "    def isEmpty(self):\n",
    "        self.end == 0\n",
    "    \n",
    "    def isFull(self):\n",
    "        self.end == self.size\n",
    "        \n",
    "    def insert(self, item):\n",
    "        if self.isFull():\n",
    "            print(\"Queue is Full.\")\n",
    "            return False\n",
    "        \n",
    "        self.data[self.end] = item\n",
    "        self.end += 1\n",
    "        \n",
    "    def remove(self):\n",
    "        if self.isEmpty():\n",
    "            print(\"Queue is empty.\")\n",
    "            return False\n",
    "        removed = self.data[0]\n",
    "        for i in range(1, self.end):\n",
    "            self.data[i - 1] = self.data[i]\n",
    "            \n",
    "        self.end -= 1\n",
    "        return removed\n",
    "    \n",
    "    def front(self):\n",
    "        \n",
    "        if self.isEmpty():\n",
    "            print(\"Queue is empty\")\n",
    "            return False\n",
    "        \n",
    "        return self.data[0]\n",
    "    \n",
    "    def display(self):\n",
    "        return self.data[:self.end]\n",
    "        \n",
    "            "
   ]
  },
  {
   "cell_type": "code",
   "execution_count": 6,
   "id": "competent-increase",
   "metadata": {},
   "outputs": [],
   "source": [
    "queue = Queue(20)\n"
   ]
  },
  {
   "cell_type": "code",
   "execution_count": 7,
   "id": "united-consciousness",
   "metadata": {},
   "outputs": [],
   "source": [
    "queue.insert(5)\n",
    "queue.insert(18)\n",
    "queue.insert(9)\n",
    "queue.insert(6)\n",
    "queue.insert(3)\n",
    "queue.insert(8)\n",
    "queue.insert(16)"
   ]
  },
  {
   "cell_type": "code",
   "execution_count": 8,
   "id": "cognitive-stevens",
   "metadata": {},
   "outputs": [
    {
     "data": {
      "text/plain": [
       "[5, 18, 9, 6, 3, 8, 16]"
      ]
     },
     "execution_count": 8,
     "metadata": {},
     "output_type": "execute_result"
    }
   ],
   "source": [
    "queue.display()\n"
   ]
  },
  {
   "cell_type": "code",
   "execution_count": 9,
   "id": "juvenile-antique",
   "metadata": {},
   "outputs": [
    {
     "data": {
      "text/plain": [
       "5"
      ]
     },
     "execution_count": 9,
     "metadata": {},
     "output_type": "execute_result"
    }
   ],
   "source": [
    "queue.remove()\n"
   ]
  },
  {
   "cell_type": "code",
   "execution_count": 10,
   "id": "collectible-newfoundland",
   "metadata": {},
   "outputs": [
    {
     "data": {
      "text/plain": [
       "[18, 9, 6, 3, 8, 16]"
      ]
     },
     "execution_count": 10,
     "metadata": {},
     "output_type": "execute_result"
    }
   ],
   "source": [
    "queue.display()\n"
   ]
  },
  {
   "cell_type": "code",
   "execution_count": null,
   "id": "amazing-average",
   "metadata": {},
   "outputs": [],
   "source": []
  }
 ],
 "metadata": {
  "kernelspec": {
   "display_name": "Python 3",
   "language": "python",
   "name": "python3"
  },
  "language_info": {
   "codemirror_mode": {
    "name": "ipython",
    "version": 3
   },
   "file_extension": ".py",
   "mimetype": "text/x-python",
   "name": "python",
   "nbconvert_exporter": "python",
   "pygments_lexer": "ipython3",
   "version": "3.9.1"
  }
 },
 "nbformat": 4,
 "nbformat_minor": 5
}
