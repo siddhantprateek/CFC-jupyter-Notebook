{
 "cells": [
  {
   "cell_type": "code",
   "execution_count": 1,
   "id": "tropical-budget",
   "metadata": {},
   "outputs": [
    {
     "name": "stdout",
     "output_type": "stream",
     "text": [
      "File does not exist\n"
     ]
    }
   ],
   "source": [
    "try:\n",
    "    f = open(\"siddhant.txt\")\n",
    "except FileNotFoundError:\n",
    "    print('File does not exist')\n",
    "    "
   ]
  },
  {
   "cell_type": "code",
   "execution_count": 2,
   "id": "through-township",
   "metadata": {},
   "outputs": [
    {
     "name": "stdout",
     "output_type": "stream",
     "text": [
      "File does not exist\n"
     ]
    }
   ],
   "source": [
    "try:\n",
    "    nama = SIdd\n",
    "    f = open('siddhant.txt')\n",
    "except Exception:\n",
    "    print('File does not exist')\n",
    "    "
   ]
  },
  {
   "cell_type": "code",
   "execution_count": 3,
   "id": "first-basement",
   "metadata": {},
   "outputs": [
    {
     "name": "stdout",
     "output_type": "stream",
     "text": [
      "File does not exist\n"
     ]
    }
   ],
   "source": [
    "\n",
    "try: \n",
    "    f = open('kunal.txt')\n",
    "    name = kunal\n",
    "except FileNotFoundError:\n",
    "    print('File does not exist')\n",
    "except Exception:\n",
    "    print('Variable Error')"
   ]
  },
  {
   "cell_type": "code",
   "execution_count": 4,
   "id": "advised-benjamin",
   "metadata": {},
   "outputs": [
    {
     "name": "stdout",
     "output_type": "stream",
     "text": [
      "name 'kunal' is not defined\n"
     ]
    }
   ],
   "source": [
    "\n",
    "try: \n",
    "#     f = open('kunal.txt')\n",
    "    name = kunal\n",
    "except FileNotFoundError as error:\n",
    "    print(error)\n",
    "except Exception as error:\n",
    "    print(error)"
   ]
  },
  {
   "cell_type": "code",
   "execution_count": 9,
   "id": "neither-shift",
   "metadata": {},
   "outputs": [
    {
     "name": "stdout",
     "output_type": "stream",
     "text": [
      "Hello Siddhant\n"
     ]
    }
   ],
   "source": [
    "try:\n",
    "    f = open(\"temp.txt\")\n",
    "except FileNotFoundError as error:\n",
    "    print(error)\n",
    "else:\n",
    "    print(f.read())\n",
    "    f.close()"
   ]
  },
  {
   "cell_type": "code",
   "execution_count": 10,
   "id": "pending-reggae",
   "metadata": {},
   "outputs": [
    {
     "name": "stdout",
     "output_type": "stream",
     "text": [
      "[Errno 2] No such file or directory: 'tem.txt'\n",
      "Database closing something\n"
     ]
    }
   ],
   "source": [
    "try:\n",
    "    f = open('tem.txt')\n",
    "except FileNotFoundError as error:\n",
    "    print(error)\n",
    "else:\n",
    "    print(f.read())\n",
    "    f.close()\n",
    "finally:\n",
    "    print('Database closing something')"
   ]
  },
  {
   "cell_type": "code",
   "execution_count": 11,
   "id": "alike-graphic",
   "metadata": {},
   "outputs": [
    {
     "name": "stdout",
     "output_type": "stream",
     "text": [
      "Found Error\n",
      "Database is closing some stuff\n"
     ]
    }
   ],
   "source": [
    "# Raise your own Exceptions\n",
    "\n",
    "try: \n",
    "    f = open('temp.txt')\n",
    "    if f.name == 'temp.txt':\n",
    "        raise Exception\n",
    "except Exception as e:\n",
    "    print('Found Error')\n",
    "else:\n",
    "    print(f.read())\n",
    "    f.close()\n",
    "finally:\n",
    "    print('Database is closing some stuff')"
   ]
  },
  {
   "cell_type": "code",
   "execution_count": null,
   "id": "generic-command",
   "metadata": {},
   "outputs": [],
   "source": []
  }
 ],
 "metadata": {
  "kernelspec": {
   "display_name": "Python 3",
   "language": "python",
   "name": "python3"
  },
  "language_info": {
   "codemirror_mode": {
    "name": "ipython",
    "version": 3
   },
   "file_extension": ".py",
   "mimetype": "text/x-python",
   "name": "python",
   "nbconvert_exporter": "python",
   "pygments_lexer": "ipython3",
   "version": "3.9.1"
  }
 },
 "nbformat": 4,
 "nbformat_minor": 5
}
