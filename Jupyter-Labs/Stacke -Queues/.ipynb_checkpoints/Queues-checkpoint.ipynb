{
 "cells": [
  {
   "cell_type": "code",
   "execution_count": 1,
   "id": "sized-provider",
   "metadata": {},
   "outputs": [
    {
     "ename": "SyntaxError",
     "evalue": "invalid syntax (<ipython-input-1-64c5e40d72c2>, line 1)",
     "output_type": "error",
     "traceback": [
      "\u001b[1;36m  File \u001b[1;32m\"<ipython-input-1-64c5e40d72c2>\"\u001b[1;36m, line \u001b[1;32m1\u001b[0m\n\u001b[1;33m    def Queue:\u001b[0m\n\u001b[1;37m             ^\u001b[0m\n\u001b[1;31mSyntaxError\u001b[0m\u001b[1;31m:\u001b[0m invalid syntax\n"
     ]
    }
   ],
   "source": [
    "class Queue:\n",
    "    \n",
    "    def __init__(self, size = 10):\n",
    "        self.size = size\n",
    "        self.data = [None for _ in range(size)]\n",
    "        self.end = 0\n",
    "        \n",
    "    def isEmpty(self):\n",
    "        self.end == 0\n",
    "    \n",
    "    def isFull(self):\n",
    "        self.end == self.size\n",
    "        \n",
    "    def insert(self, insert):\n",
    "        if self.isFull():\n",
    "            print(\"Queue is Full.\")\n",
    "            return False\n",
    "        \n",
    "        self.data[self.end] = item\n",
    "        self.end += 1\n",
    "        \n",
    "    def remove(self):\n",
    "        if self.isEmpty():\n",
    "            print(\"Queue is empty.\")\n",
    "            return False\n",
    "        removed = self.data[0]\n",
    "        for i in range(1, self.end):\n",
    "            self.data[i - 1] = self.data[i]\n",
    "            \n",
    "        self.end -= 1\n",
    "        return removed\n",
    "    \n",
    "    def front(self):\n",
    "        \n",
    "        if self.isEmpty():\n",
    "            print(\"Queue is empty\")\n",
    "            return False\n",
    "        \n",
    "        return self.data[0]\n",
    "    \n",
    "    def display(self):\n",
    "        return self.data[:self.end]\n",
    "        \n",
    "            "
   ]
  },
  {
   "cell_type": "code",
   "execution_count": null,
   "id": "detailed-explorer",
   "metadata": {},
   "outputs": [],
   "source": []
  }
 ],
 "metadata": {
  "kernelspec": {
   "display_name": "Python 3",
   "language": "python",
   "name": "python3"
  },
  "language_info": {
   "codemirror_mode": {
    "name": "ipython",
    "version": 3
   },
   "file_extension": ".py",
   "mimetype": "text/x-python",
   "name": "python",
   "nbconvert_exporter": "python",
   "pygments_lexer": "ipython3",
   "version": "3.9.1"
  }
 },
 "nbformat": 4,
 "nbformat_minor": 5
}
