{
 "cells": [
  {
   "cell_type": "code",
   "execution_count": 1,
   "id": "affecting-compact",
   "metadata": {},
   "outputs": [],
   "source": [
    "stack = []\n",
    "\n",
    "stack.append(10)\n",
    "stack.append(5)\n",
    "stack.append(25)"
   ]
  },
  {
   "cell_type": "code",
   "execution_count": 2,
   "id": "lovely-strain",
   "metadata": {},
   "outputs": [
    {
     "data": {
      "text/plain": [
       "[10, 5, 25]"
      ]
     },
     "execution_count": 2,
     "metadata": {},
     "output_type": "execute_result"
    }
   ],
   "source": [
    "stack"
   ]
  },
  {
   "cell_type": "code",
   "execution_count": 5,
   "id": "center-dictionary",
   "metadata": {},
   "outputs": [],
   "source": [
    "class Stack:\n",
    "\n",
    "    def __init__(self, size = 10):\n",
    "        self.size = size\n",
    "        self.data = [None for _ in range(size)]\n",
    "        self.top = -1\n",
    "        \n",
    "    def isEmpty(self):\n",
    "        return self.top == -1\n",
    "    \n",
    "    def isFull(self):\n",
    "        return self.top == self.size - 1\n",
    "    \n",
    "    def display(self):\n",
    "        print(self.data[:self.top])\n",
    "           \n",
    "            \n",
    "    # imp.      \n",
    "    def push(self, item):\n",
    "        \n",
    "        if self.isFull():\n",
    "            print(\"stack is Full.\")\n",
    "            return False\n",
    "        \n",
    "        self.top += 1\n",
    "        self.data[self.top] = item\n",
    "        return True\n",
    "    \n",
    "    def pop(self):\n",
    "        if self.isEmpty():\n",
    "            print(\"Stack is empty.\")\n",
    "            return False\n",
    "            \n",
    "        removed = self.data[self.top]\n",
    "        self.top -= 1\n",
    "        return removed\n",
    "    \n",
    "    \n",
    "    def top(self):\n",
    "        if self.isEmpty():\n",
    "            print(\"Stack is EMPYT.\")\n",
    "            return False\n",
    "        return self.data[self.top]"
   ]
  },
  {
   "cell_type": "code",
   "execution_count": 6,
   "id": "interim-separation",
   "metadata": {},
   "outputs": [],
   "source": [
    "\n",
    "stack = Stack(20)"
   ]
  },
  {
   "cell_type": "code",
   "execution_count": 7,
   "id": "australian-franchise",
   "metadata": {},
   "outputs": [
    {
     "data": {
      "text/plain": [
       "True"
      ]
     },
     "execution_count": 7,
     "metadata": {},
     "output_type": "execute_result"
    }
   ],
   "source": [
    "stack.push(10)\n",
    "stack.push(5)\n",
    "stack.push(23)"
   ]
  },
  {
   "cell_type": "code",
   "execution_count": 8,
   "id": "certain-cologne",
   "metadata": {},
   "outputs": [
    {
     "name": "stdout",
     "output_type": "stream",
     "text": [
      "[10, 5]\n"
     ]
    }
   ],
   "source": [
    "stack.display()"
   ]
  },
  {
   "cell_type": "code",
   "execution_count": null,
   "id": "hydraulic-feedback",
   "metadata": {},
   "outputs": [],
   "source": []
  }
 ],
 "metadata": {
  "kernelspec": {
   "display_name": "Python 3",
   "language": "python",
   "name": "python3"
  },
  "language_info": {
   "codemirror_mode": {
    "name": "ipython",
    "version": 3
   },
   "file_extension": ".py",
   "mimetype": "text/x-python",
   "name": "python",
   "nbconvert_exporter": "python",
   "pygments_lexer": "ipython3",
   "version": "3.9.1"
  }
 },
 "nbformat": 4,
 "nbformat_minor": 5
}
