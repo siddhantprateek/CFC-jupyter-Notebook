{
 "cells": [
  {
   "cell_type": "code",
   "execution_count": 1,
   "id": "handmade-tourism",
   "metadata": {},
   "outputs": [],
   "source": [
    "def freqList(word):\n",
    "    \n",
    "    freq = [0]*26\n",
    "    \n",
    "    for ch in word:\n",
    "        index = ord(ch) - ord(\"a\")\n",
    "        freq[index] += 1\n",
    "        \n",
    "    return freq"
   ]
  },
  {
   "cell_type": "code",
   "execution_count": 2,
   "id": "comic-garden",
   "metadata": {},
   "outputs": [
    {
     "data": {
      "text/plain": [
       "[0, 0, 0, 0, 1, 0, 0, 1, 0, 0, 0, 2, 0, 0, 1, 0, 0, 0, 0, 0, 0, 0, 0, 0, 0, 0]"
      ]
     },
     "execution_count": 2,
     "metadata": {},
     "output_type": "execute_result"
    }
   ],
   "source": [
    "freqList(\"hello\")"
   ]
  },
  {
   "cell_type": "code",
   "execution_count": 9,
   "id": "classical-coordinate",
   "metadata": {},
   "outputs": [],
   "source": [
    "def lexo(freq, size, proc=\"\"):\n",
    "    if len(proc) == size:\n",
    "        print(proc)\n",
    "        return\n",
    "    \n",
    "    for index in range(26):\n",
    "        # will find  character in sorted way\n",
    "        if freq[index] > 0:\n",
    "            freq[index] -= 1\n",
    "            lexo(freq, size, proc + chr(ord(\"a\") + index)) \n",
    "            freq[index] += 1 # backtrack\n",
    "            \n",
    "    "
   ]
  },
  {
   "cell_type": "code",
   "execution_count": 10,
   "id": "induced-decision",
   "metadata": {},
   "outputs": [],
   "source": [
    "word = \"hello\"\n",
    "freq = freqList(word)\n"
   ]
  },
  {
   "cell_type": "code",
   "execution_count": 11,
   "id": "analyzed-accident",
   "metadata": {},
   "outputs": [
    {
     "name": "stdout",
     "output_type": "stream",
     "text": [
      "ehllo\n",
      "ehlol\n",
      "eholl\n",
      "elhlo\n",
      "elhol\n",
      "ellho\n",
      "elloh\n",
      "elohl\n",
      "elolh\n",
      "eohll\n",
      "eolhl\n",
      "eollh\n",
      "hello\n",
      "helol\n",
      "heoll\n",
      "hlelo\n",
      "hleol\n",
      "hlleo\n",
      "hlloe\n",
      "hloel\n",
      "hlole\n",
      "hoell\n",
      "holel\n",
      "holle\n",
      "lehlo\n",
      "lehol\n",
      "lelho\n",
      "leloh\n",
      "leohl\n",
      "leolh\n",
      "lhelo\n",
      "lheol\n",
      "lhleo\n",
      "lhloe\n",
      "lhoel\n",
      "lhole\n",
      "lleho\n",
      "lleoh\n",
      "llheo\n",
      "llhoe\n",
      "lloeh\n",
      "llohe\n",
      "loehl\n",
      "loelh\n",
      "lohel\n",
      "lohle\n",
      "loleh\n",
      "lolhe\n",
      "oehll\n",
      "oelhl\n",
      "oellh\n",
      "ohell\n",
      "ohlel\n",
      "ohlle\n",
      "olehl\n",
      "olelh\n",
      "olhel\n",
      "olhle\n",
      "olleh\n",
      "ollhe\n"
     ]
    }
   ],
   "source": [
    "lexo(freq, len(word))"
   ]
  },
  {
   "cell_type": "code",
   "execution_count": 12,
   "id": "accepted-closing",
   "metadata": {},
   "outputs": [],
   "source": [
    "line = \"Invincible\""
   ]
  },
  {
   "cell_type": "code",
   "execution_count": 27,
   "id": "ceramic-stations",
   "metadata": {},
   "outputs": [],
   "source": [
    "def freq(line):\n",
    "    freq_arr = {}\n",
    "\n",
    "    for char in line:\n",
    "        if char in freq_arr:\n",
    "            freq_arr[char] += 1\n",
    "        else:\n",
    "            freq_arr[char] = 1\n",
    "    data = sorted(freq_arr.items())\n",
    "    return list(map(list,data))"
   ]
  },
  {
   "cell_type": "code",
   "execution_count": 28,
   "id": "mental-blank",
   "metadata": {},
   "outputs": [
    {
     "data": {
      "text/plain": [
       "{'I': 1, 'n': 2, 'v': 1, 'i': 2, 'c': 1, 'b': 1, 'l': 1, 'e': 1}"
      ]
     },
     "execution_count": 28,
     "metadata": {},
     "output_type": "execute_result"
    }
   ],
   "source": [
    "freq_arr"
   ]
  },
  {
   "cell_type": "code",
   "execution_count": 29,
   "id": "reduced-transsexual",
   "metadata": {},
   "outputs": [],
   "source": [
    "data = freq_arr.items()"
   ]
  },
  {
   "cell_type": "code",
   "execution_count": 30,
   "id": "august-squad",
   "metadata": {},
   "outputs": [],
   "source": [
    "Arr = list(map(list,data))"
   ]
  },
  {
   "cell_type": "code",
   "execution_count": 24,
   "id": "outdoor-arizona",
   "metadata": {},
   "outputs": [
    {
     "data": {
      "text/plain": [
       "[['I', 1],\n",
       " ['n', 2],\n",
       " ['v', 1],\n",
       " ['i', 2],\n",
       " ['c', 1],\n",
       " ['b', 1],\n",
       " ['l', 1],\n",
       " ['e', 1]]"
      ]
     },
     "execution_count": 24,
     "metadata": {},
     "output_type": "execute_result"
    }
   ],
   "source": [
    "Arr"
   ]
  },
  {
   "cell_type": "code",
   "execution_count": 31,
   "id": "distinct-terminology",
   "metadata": {},
   "outputs": [
    {
     "data": {
      "text/plain": [
       "[['I', 1],\n",
       " ['b', 1],\n",
       " ['c', 1],\n",
       " ['e', 1],\n",
       " ['i', 2],\n",
       " ['l', 1],\n",
       " ['n', 2],\n",
       " ['v', 1]]"
      ]
     },
     "execution_count": 31,
     "metadata": {},
     "output_type": "execute_result"
    }
   ],
   "source": [
    "freq(line)"
   ]
  },
  {
   "cell_type": "code",
   "execution_count": null,
   "id": "earned-momentum",
   "metadata": {},
   "outputs": [],
   "source": [
    "def lexo(freq, size, proc=\"\", solitions=[]):\n",
    "    \n",
    "    if len(proc) == size:\n",
    "        solution.append(proc)\n",
    "        return\n",
    "    \n",
    "    for index in range(26):\n",
    "        if freq[index] > 0:\n",
    "            freq[index] -= 1\n",
    "            lexo(freq, size, )"
   ]
  }
 ],
 "metadata": {
  "kernelspec": {
   "display_name": "Python 3",
   "language": "python",
   "name": "python3"
  },
  "language_info": {
   "codemirror_mode": {
    "name": "ipython",
    "version": 3
   },
   "file_extension": ".py",
   "mimetype": "text/x-python",
   "name": "python",
   "nbconvert_exporter": "python",
   "pygments_lexer": "ipython3",
   "version": "3.9.1"
  }
 },
 "nbformat": 4,
 "nbformat_minor": 5
}
