{
 "cells": [
  {
   "cell_type": "code",
   "execution_count": 1,
   "id": "geographic-microphone",
   "metadata": {},
   "outputs": [],
   "source": [
    "def arraySum(nums, first=[], second=[], index = 0,fsum = 0, ssum=0):\n",
    "    if len(nums) == index:\n",
    "        if fsum == ssum:\n",
    "            print(first, second)\n",
    "        return\n",
    "    first.append(nums[index])\n",
    "    arraySum(nums, first, second, index + 1, fsum+nums[index], ssum)\n",
    "    first.pop()\n",
    "    second.append(nums[index])\n",
    "    arraySum(nums, first, second, index + 1, fsum,ssum+nums[index])\n",
    "    second.pop()"
   ]
  },
  {
   "cell_type": "code",
   "execution_count": 2,
   "id": "polish-campus",
   "metadata": {},
   "outputs": [
    {
     "name": "stdout",
     "output_type": "stream",
     "text": [
      "[1, 2, 3] [3, 1, 2]\n",
      "[1, 2, 3] [3, 1, 2]\n",
      "[1, 2, 1, 2] [3, 3]\n",
      "[1, 3, 2] [2, 3, 1]\n",
      "[1, 3, 2] [2, 3, 1]\n",
      "[2, 3, 1] [1, 3, 2]\n",
      "[2, 3, 1] [1, 3, 2]\n",
      "[3, 3] [1, 2, 1, 2]\n",
      "[3, 1, 2] [1, 2, 3]\n",
      "[3, 1, 2] [1, 2, 3]\n"
     ]
    }
   ],
   "source": [
    "arraySum([1, 2, 3, 3, 1, 2])"
   ]
  },
  {
   "cell_type": "code",
   "execution_count": 3,
   "id": "logical-longer",
   "metadata": {},
   "outputs": [],
   "source": [
    "def arraySum2(nums, first=[], second=[], index = 0,fsum = 0, ssum=0):\n",
    "    if len(nums) == index:\n",
    "        if fsum == 4 and ssum == 4:\n",
    "            print(first, second)\n",
    "        return\n",
    "    first.append(nums[index])\n",
    "    arraySum2(nums, first, second, index + 1, fsum  +nums[index], ssum)\n",
    "    second.append(nums[index])\n",
    "    arraySum2(nums, first, second, index + 1, fsum, ssum + nums[index])"
   ]
  },
  {
   "cell_type": "code",
   "execution_count": 4,
   "id": "rapid-logistics",
   "metadata": {},
   "outputs": [],
   "source": [
    "arraySum2([1, 2, 3, 3, 1, 2])"
   ]
  },
  {
   "cell_type": "code",
   "execution_count": 5,
   "id": "urban-train",
   "metadata": {},
   "outputs": [],
   "source": [
    "def arraySum3(nums, first=[], second=[], index = 0,fsum = 0, ssum=0):\n",
    "    if len(nums) == index:\n",
    "        if fsum ==  ssum:\n",
    "            print(first, second)\n",
    "        return\n",
    "    first.append(nums[index])\n",
    "    arraySum3(nums, first, second, index + 1, fsum+nums[index], ssum)\n",
    "    second.append(nums[index])\n",
    "    arraySum3(nums, first, second, index + 1, fsum, ssum+nums[index])"
   ]
  },
  {
   "cell_type": "code",
   "execution_count": null,
   "id": "exempt-travel",
   "metadata": {},
   "outputs": [],
   "source": []
  }
 ],
 "metadata": {
  "kernelspec": {
   "display_name": "Python 3",
   "language": "python",
   "name": "python3"
  },
  "language_info": {
   "codemirror_mode": {
    "name": "ipython",
    "version": 3
   },
   "file_extension": ".py",
   "mimetype": "text/x-python",
   "name": "python",
   "nbconvert_exporter": "python",
   "pygments_lexer": "ipython3",
   "version": "3.9.1"
  }
 },
 "nbformat": 4,
 "nbformat_minor": 5
}
